{
 "cells": [
  {
   "cell_type": "markdown",
   "metadata": {},
   "source": [
    "## Document Question Answering Notebook"
   ]
  },
  {
   "cell_type": "markdown",
   "metadata": {},
   "source": [
    "## Setup: \n",
    "\n",
    "- Make sure you have installed the required packages (see requirements.txt)\n",
    "- Make sure you have preprocessed the documents (see README.md)\n",
    "- You also need a working internet connection to download the AI language models \n",
    "- You should have at least 8GB of RAM installed on your machine (Also a GPU is preferred for faster response generation)\n",
    "\n",
    "## How to run: \n",
    "- Run Setup notebook cells for downloading the models and loading the preprocessed documents\n",
    "- If you run the notebook for the first time, it will take a while to download the models so grab a cup of coffee :)\n",
    "- The code will automatically decide which model to download based on if a GPU is available or not ( change the device parameter in the \"load_inference_model\" function to set manually )\n",
    "- Either choose a predefined example query from the dropdown or enter your own query\n",
    "- The current standard settings are to extract the 3 top snippets from the documents collection to base the model answer on it\n",
    "\n",
    "## Visualisation:\n",
    "- Visualise the output of the model and compare it with the extracted snippets from the documents\n",
    "- The visualisation is currently highlighting the 5 top sentences that influenced the answer generation\n",
    "\n"
   ]
  },
  {
   "cell_type": "markdown",
   "metadata": {},
   "source": [
    "### Setup: "
   ]
  },
  {
   "cell_type": "code",
   "execution_count": 2,
   "metadata": {},
   "outputs": [
    {
     "name": "stdout",
     "output_type": "stream",
     "text": [
      "The autoreload extension is already loaded. To reload it, use:\n",
      "  %reload_ext autoreload\n"
     ]
    }
   ],
   "source": [
    "## automatic reload when imported files change\n",
    "%load_ext autoreload\n",
    "%autoreload 2\n",
    "\n",
    "import sys \n",
    "sys.path.append('../')\n",
    "import rag.rag_retrieval_utils as rag_utils\n",
    "import rag.rag_visualisation as rag_visualisation\n",
    "import rag.rag_llm_classes as rag_llm_classes\n",
    "import pandas as pd \n",
    "from sentence_transformers import SentenceTransformer\n",
    "import json \n"
   ]
  },
  {
   "cell_type": "code",
   "execution_count": 3,
   "metadata": {},
   "outputs": [
    {
     "name": "stderr",
     "output_type": "stream",
     "text": [
      "/home/paul/miniconda3/envs/papermage/lib/python3.11/site-packages/huggingface_hub/file_download.py:1132: FutureWarning: `resume_download` is deprecated and will be removed in version 1.0.0. Downloads always resume when possible. If you want to force a new download, use `force_download=True`.\n",
      "  warnings.warn(\n"
     ]
    },
    {
     "name": "stdout",
     "output_type": "stream",
     "text": [
      "Loading GPU model\n",
      "Loading GPU model\n"
     ]
    },
    {
     "name": "stderr",
     "output_type": "stream",
     "text": [
      "Special tokens have been added in the vocabulary, make sure the associated word embeddings are fine-tuned or trained.\n"
     ]
    },
    {
     "data": {
      "application/vnd.jupyter.widget-view+json": {
       "model_id": "870ef01651a144c5b6abdd965d765fef",
       "version_major": 2,
       "version_minor": 0
      },
      "text/plain": [
       "Loading checkpoint shards:   0%|          | 0/4 [00:00<?, ?it/s]"
      ]
     },
     "metadata": {},
     "output_type": "display_data"
    },
    {
     "name": "stdout",
     "output_type": "stream",
     "text": [
      "../datasets/chunked_documents/esa_documents/chunking_cks_1024_ovl_8\n"
     ]
    }
   ],
   "source": [
    "## Load embedding model \n",
    "model_emb = SentenceTransformer('BAAI/bge-large-zh-v1.5')\n",
    "\n",
    "## Load LLM model\n",
    "## either device == 'cpu' or 'cuda' (for GPU) or None for self-selection\n",
    "llm = rag_llm_classes.load_inference_model(device = None)\n",
    "\n",
    "## Load document chunks \n",
    "input_path = \"../datasets/chunked_documents/esa_documents/chunking_cks_1024_ovl_8.json\"\n",
    "docs = rag_utils.load_data(input_path) \n",
    "\n",
    "## drop duplicates according to the text column\n",
    "data = pd.DataFrame(docs)\n",
    "data.drop_duplicates(subset=['text'], inplace=True)\n",
    "docs = data.to_json(orient='records')\n",
    "docs = json.loads(docs)\n",
    "\n",
    "input_path = \"../datasets/example_questions/esa_test_queries.json\"\n",
    "with open(input_path, 'r') as json_file:\n",
    "    example_queries = json.load(json_file)\n",
    "    example_queries = [data['question'] for data in example_queries[:9]]"
   ]
  },
  {
   "cell_type": "markdown",
   "metadata": {},
   "source": [
    "### Question Answering"
   ]
  },
  {
   "cell_type": "code",
   "execution_count": 11,
   "metadata": {},
   "outputs": [
    {
     "data": {
      "application/vnd.jupyter.widget-view+json": {
       "model_id": "071f4bfd69de4615afec4137472b6859",
       "version_major": 2,
       "version_minor": 0
      },
      "text/plain": [
       "Dropdown(description='Example Queries:', options=(\"How did the L-band hybrid HPA's integration into the L40 pa…"
      ]
     },
     "metadata": {},
     "output_type": "display_data"
    },
    {
     "data": {
      "application/vnd.jupyter.widget-view+json": {
       "model_id": "3cb1e6610ce14c77a9db1596cfef77a2",
       "version_major": 2,
       "version_minor": 0
      },
      "text/plain": [
       "Text(value='', description='Query:', placeholder='Type your own query here')"
      ]
     },
     "metadata": {},
     "output_type": "display_data"
    },
    {
     "data": {
      "application/vnd.jupyter.widget-view+json": {
       "model_id": "da26b977b67246339435036a4d54f06f",
       "version_major": 2,
       "version_minor": 0
      },
      "text/plain": [
       "Button(description='Submit', style=ButtonStyle())"
      ]
     },
     "metadata": {},
     "output_type": "display_data"
    },
    {
     "data": {
      "application/vnd.jupyter.widget-view+json": {
       "model_id": "94db8005f115450da6c4dc75e358a27e",
       "version_major": 2,
       "version_minor": 0
      },
      "text/plain": [
       "Label(value='')"
      ]
     },
     "metadata": {},
     "output_type": "display_data"
    },
    {
     "name": "stdout",
     "output_type": "stream",
     "text": [
      "You selected: \"How did the L-band hybrid HPA's integration into the L40 package affect the material of the output combiner's second part, and what was the chosen material for the output combiner in this case?\"\n",
      "___________________________________\n",
      "WAIT: Running answer generation...\n",
      "{'question': \"How did the L-band hybrid HPA's integration into the L40 package affect the material of the output combiner's second part, and what was the chosen material for the output combiner in this case?\", 'prompt': \"<|start_header_id|>user<|end_header_id|>\\n\\nCONTEXT:  load impedance synthesis up to the 3rd harmonic as been obtained with Al2O3 material. In a second time, output combiner downsizing was realized by the use of OxTi material to enable its integration in L40 package. As a consequence, the second part of the output combiner has been replaced with OxTi material as shown on figure below. Figure 4 : Output network schematic (Momentum) of the L-band hybrid HPA 2.1.1.3 RF performance The main RF performances obtained, output power, PAE and power gain are presented below versus input power and versus frequency :D ATE : 15/02/2019 Page: 31/ 203 The copyright in this document is vested in Thales Alenia Space. This document may only be reproduced in whole or in part, or stored in a retrieval system, or transmitted in any form, or by any means electronic, mechanical, photocopying or otherwise, either with the prior permission of Thales Alenia Space or in accordance with the terms of ESTEC Contract no 4000101119. Figure 5 : HPA-1 Module. Baseline Design. HPA RF performances. Pout(W), PAE(%), Gain(dB) versus input power (dBm) and Frequency(GHz). The frequency bandwidth reaches 400MHz for a centre frequency of 1.6GHz (25% of relative bandwidth). The maximum overall power added efficiency varies from 60 to 65% and is associated to an output power of 60W. It corresponds to a Pout = 4W/mm in saturation mode. Finally, a Volti analysis has been done at HPA level to check the feasibility of the PAE, output power, NPR trade-off with a multi-carrier signal. On figure below, PAE, NPR and gain compression are drawn versus output power.D ATE : 15/02/2019 Page: 32/ 203 The copyright in this document is vested in Thales Alenia Space. This document may only be reproduced in whole or in part, or stored in a retrieval system, or transmitted in any form, or by any means electronic, mechanical, photocopying or otherwise, either with the prior permission of Thales Alenia Space or in accordance with the terms of ESTEC Contract no 4000101119. Figure 6 : HPA-1 module. Preliminary GH50 hybrid HPA simulation results in multi-carrier mode. PAE(%), NPR(dB), Gain compression(dB) versus output power(dBm) As shown below, with an hybrid HPA based on a 8x8x250μm power bar there is very few margin to match both output power, power added efficiency and NPR specifications. So,different backup solutions, with different power bar setup have been also considered. Table below summarizes these different solutions. Table 5 : Power bars combinations considered as backup solutions. 2.1.1.4 Packaging solutionD ATE : 15/02/2019 Page: 33/ 203 The copyright in this document is vested in Thales Alenia Space. This document may only be reproduced in whole or in part, or stored in a retrieval system, or transmitted in any form, or by any means electronic, mechanical, photocopying or otherwise, either with the prior permission of Thales Alenia Space or in accordance with the terms of ESTEC Contract no 4000101119. The HPA will be integrated in a L40 power package with MDC (Metal Diamond Composite) base plate. Figure 7 : L40 power package with MDC (Metal Diamond Composite) base plate This package is space compliant and have been developed by TAS in the frame of the AGAPAC project. Its main characteristics are: \\uf0b7 Able to dissipate up to 100W thermal power (100W dissipated power has been measured in the frame of AGAPAC study where a 36mm power bar has been integrated in this L-band package. \\uf0b7 Overall footprint of the micro-package is set to 20x40 mm. \\uf0b7 Minimized micro-package thermal resistance. \\uf0b7 The L40 package have also been designed taking into account both electrical and mechanical design constraints, multi-pactor and DC current constraints on RF feedthrough. 2.1.1.5 Thermal simulations Thermal analysis on the transistor and the whole structure including the transistor physical description and packaging environment have been conducted in order to evaluate junction temperature. The thermal behavior of the device represented by a multi-port inputs and outputs SPICE thermal circuit has been generated and used for non-linear modeling activities. These activities are conducted by XLIM. Thermal simulations are performed with ANSYS software. The job has consisted first to model the transistor structure in 2D and then to extrude it in 3D. The inputs are the geometry of the device: layout and elevations. A very important part of the job is also the mesh of the structure. The knowledge of the thermal\\n___________________\\n to achieve the following technical performances :D ATE : 15/02/2019 Page: 26/ 203 The copyright in this document is vested in Thales Alenia Space. This document may only be reproduced in whole or in part, or stored in a retrieval system, or transmitted in any form, or by any means electronic, mechanical, photocopying or otherwise, either with the prior permission of Thales Alenia Space or in accordance with the terms of ESTEC Contract no 4000101119. Table 3 : HPA-1 required performances The HPA-1 being a low frequency version and the UMS 0.5μm GaN process (GH50) being primarily a discrete transistor process; the HPA-1 is based on hybrid technology. This study has been achieved by applying the following work philosophy : \\uf0b7 Load pull simulation of elementary transistors. Different sizes and different biasing points have been simulated to find the best possible power added efficiency (PAE), output power trade-off for each transistor size. \\uf0b7 Starting from remarkable load-pull simulations, “VOLTI” analysis have been performed to evaluate NPR performances. Thus, optimum transistor size, biasing point and load impedances at fundamental frequency and up to the 3rd harmonic have been highlighted. \\uf0b7 Power bar size has been chosen to reach the output power performances by direct scaling of an elementary transistor. \\uf0b7 Preliminary design of the HPA has been undertaken. Different materials have been studied to enable optimum input and output matching networks design. \\uf0b7 “VOLTI” analysis have validated the PAE, Pout and NPR trade-off feasibility at HPA level and pointed out the RF performances margin regarding the design risks. Loadpull simulations have been conducted on two different transistor sizes: 8x250µm and 6x400µm. Main conclusions about the smith chart analysis for peak PAE performances are:D ATE : 15/02/2019 Page: 27/ 203 The copyright in this document is vested in Thales Alenia Space. This document may only be reproduced in whole or in part, or stored in a retrieval system, or transmitted in any form, or by any means electronic, mechanical, photocopying or otherwise, either with the prior permission of Thales Alenia Space or in accordance with the terms of ESTEC Contract no 4000101119. \\uf0b7 H2 is very critical for the PAE performance. PAE gradient is high over the whole smith chart and PAE performances can varies from 72% to 43% in the worst case (Zworstcase = 0.97 / 110°). H2 sweet spot impedances is located between Zload 0.97/0° to 0.97/70°. H2 optimization also enables the best output power for PAE peak performance. \\uf0b7 Fine tuning of H1 have to be undertaken in order to maximize PAE performances (+8points PAE) or to find the best trade-off between output power level and PAE. \\uf0b7 H3 allows only a slight improvement of the maximum PAE compared to the re- tuning of H1 with H2 optimized (+2points of PAE). Nevertheless, and even if a wide part of the smith chart is not critical for PAE performances, upper-left side impedances of the smith chart must to be avoided during the design phase because it will lead to a drop of 20 points of PAE in the worst case. \\uf0b7 We notice that PAE peak performance is always correlated to a high level of gain compression around 10dBcomp. Figure 1 : LP simulation (8x250μm). Third harmonic load impedance optimization for ZL(H1opt) and ZL(H2opt). A comparison between the 8x250μm and 6x400μm transistor when they are both optimized for maximum PAE up to the 3rd harmonic. A focus is done on output power, power gain and PAE.D ATE : 15/02/2019 Page: 28/ 203 The copyright in this document is vested in Thales Alenia Space. This document may only be reproduced in whole or in part, or stored in a retrieval system, or transmitted in any form, or by any means electronic, mechanical, photocopying or otherwise, either with the prior permission of Thales Alenia Space or in accordance with the terms of ESTEC Contract no 4000101119. Figure 2 : Comparison between 6x400µm and 8x250µm transistors performances with optimal impedance As expected, 6x400µm transistor delivers higher output power (Pout > 40dBm) than 8x250µm transistor (Pout = 39dBm) in saturation mode. Moreover, power gain behavior is also coherent with the respective size of the two transistors. In addition, the key point of the comparison is the power\\n___________________\\n or stored in a retrieval system, or transmitted in any form, or by any means electronic, mechanical, photocopying or otherwise, either with the prior permission of Thales Alenia Space or in accordance with the terms of ESTEC Contract no 4000101119. 4. CRITICAL ASSESMENT OF HPA MODULE 4.1 L-band applications: comparison of SSPA using GaN HPA-1 module with a conventional GaAs flat mounted SSPA and TWTA A Trade-Off between solutions with LTWTA and SSPA has been conducted. Results are presented in the following table. For the new generation of payload, a L-band GaN SSPA solution using HPA-1 module developed in this study and improved thermal management solutions brings many benefits, compared to a LTWTA solution and to a conventional GaAs SSPA, in term of: \\uf0b7 Improved electrical performances with multi-carrier signal \\uf0b7 Mass reduction \\uf0b7 Footprint reduction \\uf0b7 Higher operating temperature \\uf0b7 Simplified implementation during payload integration Solution with L-band TWT TWTA GaAs SSPA with standard housing and 2x GaAs HPA modules in RF chain GaN SSPA with vertical housing and single GaN HPA-1 module in RF chain RF performances with CW signal Pout=43W PAE=57% (at 65°C) Pout=43W PAE=45% (at 65°C) Pout=50W PAE=58% (at 85°C) RF performances with multi-carrier signal Pout=25W PAE=45% @NPR=14dB (at 85°C) Pout=25W PAE=36% @NPR=14dB (65°C) Pout=32W PAE=45,5% @NPR=14dB (Temp=85°C) Mass 4340g 1300g 1439g Temperature 2 zones: 65°C (CAMP) 85°C (TWT) Single zone: 65°C Single zone: 85°C 5 box: CAMP + TWT + EPC + Circulator + Load + (DC cable + RF cable) Single box: 250x123mm² Single box: 240x105mm² 7,1dm² 3,1dm² 2,5dm² Payload Integration complexity Reference ++ +++ Solution with L-band SSPA Footprint Table 44 : Trade-Off GaAs SSPA vs GaN SSPA (using HPA-1 module) vs TWTA The target market is composed of the historical MSS market, the FSS and data relay satellite market, the high power SSPA market. \\uf0b7 Mobile Satellite Service (MSS) Market: even if the MSS market cannot be considered as a steady market, there are regular opportunities for replacement satellites in existing constellations such as Inmarsat, Thuraya. It is forecast that one such replacement satellite will be ordered each year. Each satellite includes a large number of SSPA’s (typically 100). We have conservatively figured a commercial success rate in this market of 50%, hence the number of 50/year on average.D ATE : 15/02/2019 Page: 202/ 203 The copyright in this document is vested in Thales Alenia Space. This document may only be reproduced in whole or in part, or stored in a retrieval system, or transmitted in any form, or by any means electronic, mechanical, photocopying or otherwise, either with the prior permission of Thales Alenia Space or in accordance with the terms of ESTEC Contract no 4000101119. \\uf0b7 Fixed Service Satellite (FSS) & Data Relay Satellite Market: there is also a number of opportunities in L- and S-band in this market,. The number of SSPA’s per payload is smaller (in the order of 4 to 10 per satellite) and the number of opportunities estimated at 1 per year. \\uf0b7 High power SSPA market: beyond the proposed 50W SSPA, further developments in higher power (by e.g. paralleling output HPA’s) will be able to address the higher-power L-band SSPA market for navigation repeaters (WAAS, EGNOS) which is also relatively steady at 1 payload per year with 4 SSPA’s each. 4.2 Ku-band applications: comparison of SSPA using GaN HPA-2 module with a LC-TWTA equipment. Based on HPA-2 module developed in the frame of this study, a trade-off has been performed achieved by TAS-F on a LC-SSPA. This trade-off, presented in the following table, shows that a Ku-Band LC-SSPA using a current commercial European 0.25µm GaN technology (GH25 from UMS) and a low loss space combiner technique for output power section was not able to compete with a Ku-Band LC-TW\\n___________________\\nQUESTION: How did the L-band hybrid HPA's integration into the L40 package affect the material of the output combiner's second part, and what was the chosen material for the output combiner in this case?<|eot_id|><|start_header_id|>assistant<|end_header_id|>\\n\\nANSWER:\", 'context': [' load impedance synthesis up to the 3rd harmonic as been obtained with Al2O3 material. In a second time, output combiner downsizing was realized by the use of OxTi material to enable its integration in L40 package. As a consequence, the second part of the output combiner has been replaced with OxTi material as shown on figure below. Figure 4 : Output network schematic (Momentum) of the L-band hybrid HPA 2.1.1.3 RF performance The main RF performances obtained, output power, PAE and power gain are presented below versus input power and versus frequency :D ATE : 15/02/2019 Page: 31/ 203 The copyright in this document is vested in Thales Alenia Space. This document may only be reproduced in whole or in part, or stored in a retrieval system, or transmitted in any form, or by any means electronic, mechanical, photocopying or otherwise, either with the prior permission of Thales Alenia Space or in accordance with the terms of ESTEC Contract no 4000101119. Figure 5 : HPA-1 Module. Baseline Design. HPA RF performances. Pout(W), PAE(%), Gain(dB) versus input power (dBm) and Frequency(GHz). The frequency bandwidth reaches 400MHz for a centre frequency of 1.6GHz (25% of relative bandwidth). The maximum overall power added efficiency varies from 60 to 65% and is associated to an output power of 60W. It corresponds to a Pout = 4W/mm in saturation mode. Finally, a Volti analysis has been done at HPA level to check the feasibility of the PAE, output power, NPR trade-off with a multi-carrier signal. On figure below, PAE, NPR and gain compression are drawn versus output power.D ATE : 15/02/2019 Page: 32/ 203 The copyright in this document is vested in Thales Alenia Space. This document may only be reproduced in whole or in part, or stored in a retrieval system, or transmitted in any form, or by any means electronic, mechanical, photocopying or otherwise, either with the prior permission of Thales Alenia Space or in accordance with the terms of ESTEC Contract no 4000101119. Figure 6 : HPA-1 module. Preliminary GH50 hybrid HPA simulation results in multi-carrier mode. PAE(%), NPR(dB), Gain compression(dB) versus output power(dBm) As shown below, with an hybrid HPA based on a 8x8x250μm power bar there is very few margin to match both output power, power added efficiency and NPR specifications. So,different backup solutions, with different power bar setup have been also considered. Table below summarizes these different solutions. Table 5 : Power bars combinations considered as backup solutions. 2.1.1.4 Packaging solutionD ATE : 15/02/2019 Page: 33/ 203 The copyright in this document is vested in Thales Alenia Space. This document may only be reproduced in whole or in part, or stored in a retrieval system, or transmitted in any form, or by any means electronic, mechanical, photocopying or otherwise, either with the prior permission of Thales Alenia Space or in accordance with the terms of ESTEC Contract no 4000101119. The HPA will be integrated in a L40 power package with MDC (Metal Diamond Composite) base plate. Figure 7 : L40 power package with MDC (Metal Diamond Composite) base plate This package is space compliant and have been developed by TAS in the frame of the AGAPAC project. Its main characteristics are: \\uf0b7 Able to dissipate up to 100W thermal power (100W dissipated power has been measured in the frame of AGAPAC study where a 36mm power bar has been integrated in this L-band package. \\uf0b7 Overall footprint of the micro-package is set to 20x40 mm. \\uf0b7 Minimized micro-package thermal resistance. \\uf0b7 The L40 package have also been designed taking into account both electrical and mechanical design constraints, multi-pactor and DC current constraints on RF feedthrough. 2.1.1.5 Thermal simulations Thermal analysis on the transistor and the whole structure including the transistor physical description and packaging environment have been conducted in order to evaluate junction temperature. The thermal behavior of the device represented by a multi-port inputs and outputs SPICE thermal circuit has been generated and used for non-linear modeling activities. These activities are conducted by XLIM. Thermal simulations are performed with ANSYS software. The job has consisted first to model the transistor structure in 2D and then to extrude it in 3D. The inputs are the geometry of the device: layout and elevations. A very important part of the job is also the mesh of the structure. The knowledge of the thermal', ' to achieve the following technical performances :D ATE : 15/02/2019 Page: 26/ 203 The copyright in this document is vested in Thales Alenia Space. This document may only be reproduced in whole or in part, or stored in a retrieval system, or transmitted in any form, or by any means electronic, mechanical, photocopying or otherwise, either with the prior permission of Thales Alenia Space or in accordance with the terms of ESTEC Contract no 4000101119. Table 3 : HPA-1 required performances The HPA-1 being a low frequency version and the UMS 0.5μm GaN process (GH50) being primarily a discrete transistor process; the HPA-1 is based on hybrid technology. This study has been achieved by applying the following work philosophy : \\uf0b7 Load pull simulation of elementary transistors. Different sizes and different biasing points have been simulated to find the best possible power added efficiency (PAE), output power trade-off for each transistor size. \\uf0b7 Starting from remarkable load-pull simulations, “VOLTI” analysis have been performed to evaluate NPR performances. Thus, optimum transistor size, biasing point and load impedances at fundamental frequency and up to the 3rd harmonic have been highlighted. \\uf0b7 Power bar size has been chosen to reach the output power performances by direct scaling of an elementary transistor. \\uf0b7 Preliminary design of the HPA has been undertaken. Different materials have been studied to enable optimum input and output matching networks design. \\uf0b7 “VOLTI” analysis have validated the PAE, Pout and NPR trade-off feasibility at HPA level and pointed out the RF performances margin regarding the design risks. Loadpull simulations have been conducted on two different transistor sizes: 8x250µm and 6x400µm. Main conclusions about the smith chart analysis for peak PAE performances are:D ATE : 15/02/2019 Page: 27/ 203 The copyright in this document is vested in Thales Alenia Space. This document may only be reproduced in whole or in part, or stored in a retrieval system, or transmitted in any form, or by any means electronic, mechanical, photocopying or otherwise, either with the prior permission of Thales Alenia Space or in accordance with the terms of ESTEC Contract no 4000101119. \\uf0b7 H2 is very critical for the PAE performance. PAE gradient is high over the whole smith chart and PAE performances can varies from 72% to 43% in the worst case (Zworstcase = 0.97 / 110°). H2 sweet spot impedances is located between Zload 0.97/0° to 0.97/70°. H2 optimization also enables the best output power for PAE peak performance. \\uf0b7 Fine tuning of H1 have to be undertaken in order to maximize PAE performances (+8points PAE) or to find the best trade-off between output power level and PAE. \\uf0b7 H3 allows only a slight improvement of the maximum PAE compared to the re- tuning of H1 with H2 optimized (+2points of PAE). Nevertheless, and even if a wide part of the smith chart is not critical for PAE performances, upper-left side impedances of the smith chart must to be avoided during the design phase because it will lead to a drop of 20 points of PAE in the worst case. \\uf0b7 We notice that PAE peak performance is always correlated to a high level of gain compression around 10dBcomp. Figure 1 : LP simulation (8x250μm). Third harmonic load impedance optimization for ZL(H1opt) and ZL(H2opt). A comparison between the 8x250μm and 6x400μm transistor when they are both optimized for maximum PAE up to the 3rd harmonic. A focus is done on output power, power gain and PAE.D ATE : 15/02/2019 Page: 28/ 203 The copyright in this document is vested in Thales Alenia Space. This document may only be reproduced in whole or in part, or stored in a retrieval system, or transmitted in any form, or by any means electronic, mechanical, photocopying or otherwise, either with the prior permission of Thales Alenia Space or in accordance with the terms of ESTEC Contract no 4000101119. Figure 2 : Comparison between 6x400µm and 8x250µm transistors performances with optimal impedance As expected, 6x400µm transistor delivers higher output power (Pout > 40dBm) than 8x250µm transistor (Pout = 39dBm) in saturation mode. Moreover, power gain behavior is also coherent with the respective size of the two transistors. In addition, the key point of the comparison is the power', ' or stored in a retrieval system, or transmitted in any form, or by any means electronic, mechanical, photocopying or otherwise, either with the prior permission of Thales Alenia Space or in accordance with the terms of ESTEC Contract no 4000101119. 4. CRITICAL ASSESMENT OF HPA MODULE 4.1 L-band applications: comparison of SSPA using GaN HPA-1 module with a conventional GaAs flat mounted SSPA and TWTA A Trade-Off between solutions with LTWTA and SSPA has been conducted. Results are presented in the following table. For the new generation of payload, a L-band GaN SSPA solution using HPA-1 module developed in this study and improved thermal management solutions brings many benefits, compared to a LTWTA solution and to a conventional GaAs SSPA, in term of: \\uf0b7 Improved electrical performances with multi-carrier signal \\uf0b7 Mass reduction \\uf0b7 Footprint reduction \\uf0b7 Higher operating temperature \\uf0b7 Simplified implementation during payload integration Solution with L-band TWT TWTA GaAs SSPA with standard housing and 2x GaAs HPA modules in RF chain GaN SSPA with vertical housing and single GaN HPA-1 module in RF chain RF performances with CW signal Pout=43W PAE=57% (at 65°C) Pout=43W PAE=45% (at 65°C) Pout=50W PAE=58% (at 85°C) RF performances with multi-carrier signal Pout=25W PAE=45% @NPR=14dB (at 85°C) Pout=25W PAE=36% @NPR=14dB (65°C) Pout=32W PAE=45,5% @NPR=14dB (Temp=85°C) Mass 4340g 1300g 1439g Temperature 2 zones: 65°C (CAMP) 85°C (TWT) Single zone: 65°C Single zone: 85°C 5 box: CAMP + TWT + EPC + Circulator + Load + (DC cable + RF cable) Single box: 250x123mm² Single box: 240x105mm² 7,1dm² 3,1dm² 2,5dm² Payload Integration complexity Reference ++ +++ Solution with L-band SSPA Footprint Table 44 : Trade-Off GaAs SSPA vs GaN SSPA (using HPA-1 module) vs TWTA The target market is composed of the historical MSS market, the FSS and data relay satellite market, the high power SSPA market. \\uf0b7 Mobile Satellite Service (MSS) Market: even if the MSS market cannot be considered as a steady market, there are regular opportunities for replacement satellites in existing constellations such as Inmarsat, Thuraya. It is forecast that one such replacement satellite will be ordered each year. Each satellite includes a large number of SSPA’s (typically 100). We have conservatively figured a commercial success rate in this market of 50%, hence the number of 50/year on average.D ATE : 15/02/2019 Page: 202/ 203 The copyright in this document is vested in Thales Alenia Space. This document may only be reproduced in whole or in part, or stored in a retrieval system, or transmitted in any form, or by any means electronic, mechanical, photocopying or otherwise, either with the prior permission of Thales Alenia Space or in accordance with the terms of ESTEC Contract no 4000101119. \\uf0b7 Fixed Service Satellite (FSS) & Data Relay Satellite Market: there is also a number of opportunities in L- and S-band in this market,. The number of SSPA’s per payload is smaller (in the order of 4 to 10 per satellite) and the number of opportunities estimated at 1 per year. \\uf0b7 High power SSPA market: beyond the proposed 50W SSPA, further developments in higher power (by e.g. paralleling output HPA’s) will be able to address the higher-power L-band SSPA market for navigation repeaters (WAAS, EGNOS) which is also relatively steady at 1 payload per year with 4 SSPA’s each. 4.2 Ku-band applications: comparison of SSPA using GaN HPA-2 module with a LC-TWTA equipment. Based on HPA-2 module developed in the frame of this study, a trade-off has been performed achieved by TAS-F on a LC-SSPA. This trade-off, presented in the following table, shows that a Ku-Band LC-SSPA using a current commercial European 0.25µm GaN technology (GH25 from UMS) and a low loss space combiner technique for output power section was not able to compete with a Ku-Band LC-TW'], 'response': ' According to the text, the output combiner downsizing was realized by the use of OxTi material to enable its integration in the L40 package. As a consequence, the second part of the output combiner was replaced with OxTi material, as shown in Figure 4.<|eot_id|>', 'date_created': '2024-06-13T14:05:22.338148', 'model': 'meta-llama/Meta-Llama-3-8B-Instruct', 'generate_config_dict': {'max_new_tokens': 600, 'do_sample': True, 'num_beams': 1, 'num_return_sequences': 1, 'temperature': 0.2, 'top_p': 0.95, 'min_new_tokens': 256, 'begin_suppress_tokens': [128009]}, 'device': 'cuda'}\n",
      "Done..\n",
      "___________________________________\n",
      "ANSWER:   According to the text, the output combiner downsizing was realized by the use of OxTi material to enable its integration in the L40 package. As a consequence, the second part of the output combiner was replaced with OxTi material, as shown in Figure 4.<|eot_id|>\n",
      "___________________________________\n"
     ]
    }
   ],
   "source": [
    "import ipywidgets as widgets\n",
    "from IPython.display import display\n",
    "\n",
    "# Create a dropdown widget\n",
    "dropdown = widgets.Dropdown(\n",
    "    options=example_queries,\n",
    "    value=example_queries[0],\n",
    "    description='Example Queries:',\n",
    ")\n",
    "\n",
    "# Create a text input widget\n",
    "text_input = widgets.Text(\n",
    "    value='',\n",
    "    placeholder='Type your own query here',\n",
    "    description='Query:',\n",
    ")\n",
    "\n",
    "# Create a button widget\n",
    "submit_button = widgets.Button(\n",
    "    description='Submit',\n",
    ")\n",
    "\n",
    "# Create a dictionary to store the output\n",
    "output_storage = {'output': None, 'ordered_docs': None}\n",
    "\n",
    "# Create a label widget to show the status\n",
    "status_label = widgets.Label(value='')\n",
    "\n",
    "# Display the dropdown, text input, button, and status label widgets\n",
    "display(dropdown)\n",
    "display(text_input)\n",
    "display(submit_button)\n",
    "display(status_label)\n",
    "\n",
    "# Function to handle query submission\n",
    "def on_submit(button):\n",
    "    query = text_input.value.strip()\n",
    "    if not query:  # If text input is empty, use the dropdown value\n",
    "        query = dropdown.value.strip()\n",
    "    \n",
    "    try:\n",
    "        # Update status label to indicate processing\n",
    "        status_label.value = 'Processing...'\n",
    "\n",
    "        print(f'You selected: \"{query}\"')\n",
    "        results, ordered_docs = rag_utils.semantic_search(query, docs, model_emb, top_k=5, verbose=False)\n",
    "        n_con = 3\n",
    "        contexts = [doc['text'] for doc in ordered_docs[:n_con]]\n",
    "        print(\"___________________________________\")\n",
    "        print(\"WAIT: Running answer generation...\")\n",
    "        output = llm.act(query, contexts)\n",
    "        print(\"Done..\")\n",
    "        \n",
    "        # Store the output in the dictionary for further analysis\n",
    "        output_storage['query'] = query\n",
    "        output_storage['output'] = output\n",
    "        output_storage['ordered_docs'] = ordered_docs\n",
    "        output_storage['n_contexts'] = n_con\n",
    "        # Update status label to indicate completion\n",
    "        status_label.value = 'Done.'\n",
    "        print(\"___________________________________\")\n",
    "        print(\"ANSWER: \", output)\n",
    "        print(\"___________________________________\")\n",
    "\n",
    "    except Exception as e:\n",
    "        # Handle any exceptions and update the status label\n",
    "        status_label.value = 'Error occurred.'\n",
    "        print(f\"An error occurred: {e}\")\n",
    "    \n",
    "    # Reset the text input widget after submission\n",
    "    text_input.value = ''\n",
    "\n",
    "# Attach the function to the button click event\n",
    "submit_button.on_click(on_submit)"
   ]
  },
  {
   "cell_type": "markdown",
   "metadata": {},
   "source": [
    "### Visualisation"
   ]
  },
  {
   "cell_type": "code",
   "execution_count": 10,
   "metadata": {},
   "outputs": [
    {
     "data": {
      "text/html": [
       "\n",
       "    <style>\n",
       "        .query-sentence:hover { background-color: blue; cursor: pointer; }\n",
       "        .highlighted { background-color: green; }\n",
       "    </style>\n",
       "    <script>\n",
       "        function highlightSentences(queryIndex) {\n",
       "            var sentences = document.querySelectorAll('.doc-sentence');\n",
       "            sentences.forEach(function(sentence) {\n",
       "                sentence.style.backgroundColor = ''; // Reset background\n",
       "            });\n",
       "            var relevantSentences = document.querySelectorAll('.doc-sentence.query-' + queryIndex);\n",
       "            relevantSentences.forEach(function(sentence) {\n",
       "                sentence.style.backgroundColor = sentence.getAttribute('data-score-color');\n",
       "            });\n",
       "        }\n",
       "    </script>\n",
       "    <h3>Answer:</h3><ul><li class='query-sentence' onmouseover='highlightSentences(0)'> According to the text, the integration of the L-band hybrid HPA into the L40 package led to the replacement of the second part of the output combiner with OxTi material, as shown in Figure 4.<|eot_id|></li></ul><h3>Documents:</h3><p><br> Document Title: SSPAs with European GaN Devices Final Report</br><span class='doc-sentence ' data-score-color=''> load impedance synthesis up to the 3rd harmonic as been obtained with Al2O3 material. </span><span class='doc-sentence query-0' data-score-color='rgba(50,205,50,0.9562081500099037)'>In a second time, output combiner downsizing was realized by the use of OxTi material to enable its integration in L40 package. </span><span class='doc-sentence query-0' data-score-color='rgba(50,205,50,1.0)'>As a consequence, the second part of the output combiner has been replaced with OxTi material as shown on figure below. </span><span class='doc-sentence ' data-score-color=''>Figure 4 : Output network schematic (Momentum) of the L-band hybrid HPA 2.1.1.3 RF performance The main RF performances obtained, output power, PAE and power gain are presented below versus input power and versus frequency :D ATE : 15/02/2019 Page: 31/ 203 The copyright in this document is vested in Thales Alenia Space. </span><span class='doc-sentence ' data-score-color=''>This document may only be reproduced in whole or in part, or stored in a retrieval system, or transmitted in any form, or by any means electronic, mechanical, photocopying or otherwise, either with the prior permission of Thales Alenia Space or in accordance with the terms of ESTEC Contract no 4000101119. </span><span class='doc-sentence ' data-score-color=''>Figure 5 : HPA-1 Module. </span><span class='doc-sentence ' data-score-color=''>Baseline Design. </span><span class='doc-sentence ' data-score-color=''>HPA RF performances. </span><span class='doc-sentence ' data-score-color=''>Pout(W), PAE(%), Gain(dB) versus input power (dBm) and Frequency(GHz). </span><span class='doc-sentence ' data-score-color=''>The frequency bandwidth reaches 400MHz for a centre frequency of 1.6GHz (25% of relative bandwidth). </span><span class='doc-sentence ' data-score-color=''>The maximum overall power added efficiency varies from 60 to 65% and is associated to an output power of 60W. </span><span class='doc-sentence ' data-score-color=''>It corresponds to a Pout = 4W/mm in saturation mode. </span><span class='doc-sentence ' data-score-color=''>Finally, a Volti analysis has been done at HPA level to check the feasibility of the PAE, output power, NPR trade-off with a multi-carrier signal. </span><span class='doc-sentence ' data-score-color=''>On figure below, PAE, NPR and gain compression are drawn versus output power.D ATE : 15/02/2019 Page: 32/ 203 The copyright in this document is vested in Thales Alenia Space. </span><span class='doc-sentence ' data-score-color=''>This document may only be reproduced in whole or in part, or stored in a retrieval system, or transmitted in any form, or by any means electronic, mechanical, photocopying or otherwise, either with the prior permission of Thales Alenia Space or in accordance with the terms of ESTEC Contract no 4000101119. </span><span class='doc-sentence ' data-score-color=''>Figure 6 : HPA-1 module. </span><span class='doc-sentence ' data-score-color=''>Preliminary GH50 hybrid HPA simulation results in multi-carrier mode. </span><span class='doc-sentence query-0' data-score-color='rgba(50,205,50,0.2932237212656427)'>PAE(%), NPR(dB), Gain compression(dB) versus output power(dBm) As shown below, with an hybrid HPA based on a 8x8x250μm power bar there is very few margin to match both output power, power added efficiency and NPR specifications. </span><span class='doc-sentence ' data-score-color=''>So,different backup solutions, with different power bar setup have been also considered. </span><span class='doc-sentence ' data-score-color=''>Table below summarizes these different solutions. </span><span class='doc-sentence ' data-score-color=''>Table 5 : Power bars combinations considered as backup solutions. </span><span class='doc-sentence ' data-score-color=''>2.1.1.4 Packaging solutionD ATE : 15/02/2019 Page: 33/ 203 The copyright in this document is vested in Thales Alenia Space. </span><span class='doc-sentence ' data-score-color=''>This document may only be reproduced in whole or in part, or stored in a retrieval system, or transmitted in any form, or by any means electronic, mechanical, photocopying or otherwise, either with the prior permission of Thales Alenia Space or in accordance with the terms of ESTEC Contract no 4000101119. </span><span class='doc-sentence query-0' data-score-color='rgba(50,205,50,0.31948081030977005)'>The HPA will be integrated in a L40 power package with MDC (Metal Diamond Composite) base plate. </span><span class='doc-sentence query-0' data-score-color='rgba(50,205,50,0.30370971400504065)'>Figure 7 : L40 power package with MDC (Metal Diamond Composite) base plate This package is space compliant and have been developed by TAS in the frame of the AGAPAC project. </span><span class='doc-sentence ' data-score-color=''>Its main characteristics are:  Able to dissipate up to 100W thermal power (100W dissipated power has been measured in the frame of AGAPAC study where a 36mm power bar has been integrated in this L-band package. </span><span class='doc-sentence ' data-score-color=''> Overall footprint of the micro-package is set to 20x40 mm. </span><span class='doc-sentence ' data-score-color=''> Minimized micro-package thermal resistance. </span><span class='doc-sentence ' data-score-color=''> The L40 package have also been designed taking into account both electrical and mechanical design constraints, multi-pactor and DC current constraints on RF feedthrough. </span><span class='doc-sentence ' data-score-color=''>2.1.1.5 Thermal simulations Thermal analysis on the transistor and the whole structure including the transistor physical description and packaging environment have been conducted in order to evaluate junction temperature. </span><span class='doc-sentence ' data-score-color=''>The thermal behavior of the device represented by a multi-port inputs and outputs SPICE thermal circuit has been generated and used for non-linear modeling activities. </span><span class='doc-sentence ' data-score-color=''>These activities are conducted by XLIM. </span><span class='doc-sentence ' data-score-color=''>Thermal simulations are performed with ANSYS software. </span><span class='doc-sentence ' data-score-color=''>The job has consisted first to model the transistor structure in 2D and then to extrude it in 3D. </span><span class='doc-sentence ' data-score-color=''>The inputs are the geometry of the device: layout and elevations. </span><span class='doc-sentence ' data-score-color=''>A very important part of the job is also the mesh of the structure. </span><span class='doc-sentence ' data-score-color=''>The knowledge of the thermal </span></p><p><br> Document Title: SSPAs with European GaN Devices Final Report</br><span class='doc-sentence ' data-score-color=''> to achieve the following technical performances :D ATE : 15/02/2019 Page: 26/ 203 The copyright in this document is vested in Thales Alenia Space. </span><span class='doc-sentence ' data-score-color=''>This document may only be reproduced in whole or in part, or stored in a retrieval system, or transmitted in any form, or by any means electronic, mechanical, photocopying or otherwise, either with the prior permission of Thales Alenia Space or in accordance with the terms of ESTEC Contract no 4000101119. </span><span class='doc-sentence ' data-score-color=''>Table 3 : HPA-1 required performances The HPA-1 being a low frequency version and the UMS 0.5μm GaN process (GH50) being primarily a discrete transistor process; the HPA-1 is based on hybrid technology. </span><span class='doc-sentence ' data-score-color=''>This study has been achieved by applying the following work philosophy :  Load pull simulation of elementary transistors. </span><span class='doc-sentence ' data-score-color=''>Different sizes and different biasing points have been simulated to find the best possible power added efficiency (PAE), output power trade-off for each transistor size. </span><span class='doc-sentence ' data-score-color=''> Starting from remarkable load-pull simulations, “VOLTI” analysis have been performed to evaluate NPR performances. </span><span class='doc-sentence ' data-score-color=''>Thus, optimum transistor size, biasing point and load impedances at fundamental frequency and up to the 3rd harmonic have been highlighted. </span><span class='doc-sentence ' data-score-color=''> Power bar size has been chosen to reach the output power performances by direct scaling of an elementary transistor. </span><span class='doc-sentence ' data-score-color=''> Preliminary design of the HPA has been undertaken. </span><span class='doc-sentence ' data-score-color=''>Different materials have been studied to enable optimum input and output matching networks design. </span><span class='doc-sentence ' data-score-color=''> “VOLTI” analysis have validated the PAE, Pout and NPR trade-off feasibility at HPA level and pointed out the RF performances margin regarding the design risks. </span><span class='doc-sentence ' data-score-color=''>Loadpull simulations have been conducted on two different transistor sizes: 8x250µm and 6x400µm. </span><span class='doc-sentence ' data-score-color=''>Main conclusions about the smith chart analysis for peak PAE performances are:D ATE : 15/02/2019 Page: 27/ 203 The copyright in this document is vested in Thales Alenia Space. </span><span class='doc-sentence ' data-score-color=''>This document may only be reproduced in whole or in part, or stored in a retrieval system, or transmitted in any form, or by any means electronic, mechanical, photocopying or otherwise, either with the prior permission of Thales Alenia Space or in accordance with the terms of ESTEC Contract no 4000101119. </span><span class='doc-sentence ' data-score-color=''> H2 is very critical for the PAE performance. </span><span class='doc-sentence ' data-score-color=''>PAE gradient is high over the whole smith chart and PAE performances can varies from 72% to 43% in the worst case (Zworstcase = 0.97 / 110°). </span><span class='doc-sentence ' data-score-color=''>H2 sweet spot impedances is located between Zload 0.97/0° to 0.97/70°. </span><span class='doc-sentence ' data-score-color=''>H2 optimization also enables the best output power for PAE peak performance. </span><span class='doc-sentence ' data-score-color=''> Fine tuning of H1 have to be undertaken in order to maximize PAE performances (+8points PAE) or to find the best trade-off between output power level and PAE. </span><span class='doc-sentence ' data-score-color=''> H3 allows only a slight improvement of the maximum PAE compared to the re- tuning of H1 with H2 optimized (+2points of PAE). </span><span class='doc-sentence ' data-score-color=''>Nevertheless, and even if a wide part of the smith chart is not critical for PAE performances, upper-left side impedances of the smith chart must to be avoided during the design phase because it will lead to a drop of 20 points of PAE in the worst case. </span><span class='doc-sentence ' data-score-color=''> We notice that PAE peak performance is always correlated to a high level of gain compression around 10dBcomp. </span><span class='doc-sentence ' data-score-color=''>Figure 1 : LP simulation (8x250μm). </span><span class='doc-sentence ' data-score-color=''>Third harmonic load impedance optimization for ZL(H1opt) and ZL(H2opt). </span><span class='doc-sentence ' data-score-color=''>A comparison between the 8x250μm and 6x400μm transistor when they are both optimized for maximum PAE up to the 3rd harmonic. </span><span class='doc-sentence ' data-score-color=''>A focus is done on output power, power gain and PAE.D ATE : 15/02/2019 Page: 28/ 203 The copyright in this document is vested in Thales Alenia Space. </span><span class='doc-sentence ' data-score-color=''>This document may only be reproduced in whole or in part, or stored in a retrieval system, or transmitted in any form, or by any means electronic, mechanical, photocopying or otherwise, either with the prior permission of Thales Alenia Space or in accordance with the terms of ESTEC Contract no 4000101119. </span><span class='doc-sentence ' data-score-color=''>Figure 2 : Comparison between 6x400µm and 8x250µm transistors performances with optimal impedance As expected, 6x400µm transistor delivers higher output power (Pout > 40dBm) than 8x250µm transistor (Pout = 39dBm) in saturation mode. </span><span class='doc-sentence ' data-score-color=''>Moreover, power gain behavior is also coherent with the respective size of the two transistors. </span><span class='doc-sentence ' data-score-color=''>In addition, the key point of the comparison is the power </span></p><p><br> Document Title: SSPAs with European GaN Devices Final Report</br><span class='doc-sentence ' data-score-color=''> or stored in a retrieval system, or transmitted in any form, or by any means electronic, mechanical, photocopying or otherwise, either with the prior permission of Thales Alenia Space or in accordance with the terms of ESTEC Contract no 4000101119. </span><span class='doc-sentence ' data-score-color=''>4. </span><span class='doc-sentence ' data-score-color=''>CRITICAL ASSESMENT OF HPA MODULE 4.1 L-band applications: comparison of SSPA using GaN HPA-1 module with a conventional GaAs flat mounted SSPA and TWTA A Trade-Off between solutions with LTWTA and SSPA has been conducted. </span><span class='doc-sentence ' data-score-color=''>Results are presented in the following table. </span><span class='doc-sentence ' data-score-color=''>For the new generation of payload, a L-band GaN SSPA solution using HPA-1 module developed in this study and improved thermal management solutions brings many benefits, compared to a LTWTA solution and to a conventional GaAs SSPA, in term of:  Improved electrical performances with multi-carrier signal  Mass reduction  Footprint reduction  Higher operating temperature  Simplified implementation during payload integration Solution with L-band TWT TWTA GaAs SSPA with standard housing and 2x GaAs HPA modules in RF chain GaN SSPA with vertical housing and single GaN HPA-1 module in RF chain RF performances with CW signal Pout=43W PAE=57% (at 65°C) Pout=43W PAE=45% (at 65°C) Pout=50W PAE=58% (at 85°C) RF performances with multi-carrier signal Pout=25W PAE=45% @NPR=14dB (at 85°C) Pout=25W PAE=36% @NPR=14dB (65°C) Pout=32W PAE=45,5% @NPR=14dB (Temp=85°C) Mass 4340g 1300g 1439g Temperature 2 zones: 65°C (CAMP) 85°C (TWT) Single zone: 65°C Single zone: 85°C 5 box: CAMP + TWT + EPC + Circulator + Load + (DC cable + RF cable) Single box: 250x123mm² Single box: 240x105mm² 7,1dm² 3,1dm² 2,5dm² Payload Integration complexity Reference ++ +++ Solution with L-band SSPA Footprint Table 44 : Trade-Off GaAs SSPA vs GaN SSPA (using HPA-1 module) vs TWTA The target market is composed of the historical MSS market, the FSS and data relay satellite market, the high power SSPA market. </span><span class='doc-sentence ' data-score-color=''> Mobile Satellite Service (MSS) Market: even if the MSS market cannot be considered as a steady market, there are regular opportunities for replacement satellites in existing constellations such as Inmarsat, Thuraya. </span><span class='doc-sentence ' data-score-color=''>It is forecast that one such replacement satellite will be ordered each year. </span><span class='doc-sentence ' data-score-color=''>Each satellite includes a large number of SSPA’s (typically 100). </span><span class='doc-sentence ' data-score-color=''>We have conservatively figured a commercial success rate in this market of 50%, hence the number of 50/year on average.D ATE : 15/02/2019 Page: 202/ 203 The copyright in this document is vested in Thales Alenia Space. </span><span class='doc-sentence ' data-score-color=''>This document may only be reproduced in whole or in part, or stored in a retrieval system, or transmitted in any form, or by any means electronic, mechanical, photocopying or otherwise, either with the prior permission of Thales Alenia Space or in accordance with the terms of ESTEC Contract no 4000101119. </span><span class='doc-sentence ' data-score-color=''> Fixed Service Satellite (FSS) & Data Relay Satellite Market: there is also a number of opportunities in L- and S-band in this market,. </span><span class='doc-sentence ' data-score-color=''>The number of SSPA’s per payload is smaller (in the order of 4 to 10 per satellite) and the number of opportunities estimated at 1 per year. </span><span class='doc-sentence ' data-score-color=''> High power SSPA market: beyond the proposed 50W SSPA, further developments in higher power (by e.g. </span><span class='doc-sentence ' data-score-color=''>paralleling output HPA’s) will be able to address the higher-power L-band SSPA market for navigation repeaters (WAAS, EGNOS) which is also relatively steady at 1 payload per year with 4 SSPA’s each. </span><span class='doc-sentence ' data-score-color=''>4.2 Ku-band applications: comparison of SSPA using GaN HPA-2 module with a LC-TWTA equipment. </span><span class='doc-sentence ' data-score-color=''>Based on HPA-2 module developed in the frame of this study, a trade-off has been performed achieved by TAS-F on a LC-SSPA. </span><span class='doc-sentence ' data-score-color=''>This trade-off, presented in the following table, shows that a Ku-Band LC-SSPA using a current commercial European 0.25µm GaN technology (GH25 from UMS) and a low loss space combiner technique for output power section was not able to compete with a Ku-Band LC-TW </span></p>"
      ],
      "text/plain": [
       "<IPython.core.display.HTML object>"
      ]
     },
     "metadata": {},
     "output_type": "display_data"
    }
   ],
   "source": [
    "output = output_storage['output']\n",
    "ordered_docs = output_storage['ordered_docs']\n",
    "n_con = output_storage['n_contexts']\n",
    "\n",
    "extracts = ordered_docs[:n_con]\n",
    "# Example usage\n",
    "from IPython.display import display, HTML\n",
    "queries = [output]\n",
    "num_top_returned = 5\n",
    "contexts = [doc['text'] for doc in extracts]\n",
    "results = rag_visualisation.find_snippet(contexts, queries, num_top_returned)\n",
    "html_content = rag_visualisation.generate_interactive_html(extracts, results)\n",
    "display(HTML(html_content))"
   ]
  }
 ],
 "metadata": {
  "kernelspec": {
   "display_name": "papermage",
   "language": "python",
   "name": "python3"
  },
  "language_info": {
   "codemirror_mode": {
    "name": "ipython",
    "version": 3
   },
   "file_extension": ".py",
   "mimetype": "text/x-python",
   "name": "python",
   "nbconvert_exporter": "python",
   "pygments_lexer": "ipython3",
   "version": "3.11.9"
  }
 },
 "nbformat": 4,
 "nbformat_minor": 2
}
