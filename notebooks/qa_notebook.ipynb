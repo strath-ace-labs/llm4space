{
 "cells": [
  {
   "cell_type": "markdown",
   "metadata": {},
   "source": [
    "## Document Question Answering Notebook"
   ]
  },
  {
   "cell_type": "markdown",
   "metadata": {},
   "source": [
    "## Setup: \n",
    "\n",
    "- Make sure you have installed the required packages (see requirements.txt)\n",
    "- Make sure you have preprocessed the documents (see README.md)\n",
    "- You also need a working internet connection to download the AI language models \n",
    "- You should have at least 8GB of RAM installed on your machine (Also a GPU is preferred for faster response generation)\n",
    "\n",
    "## How to run: \n",
    "- Run Setup notebook cells for downloading the models and loading the preprocessed documents\n",
    "- If you run the notebook for the first time, it will take a while to download the models so grab a cup of coffee :)\n",
    "- The code will automatically decide which model to download based on if a GPU is available or not ( change the device parameter in the \"load_inference_model\" function to set manually )\n",
    "- Either choose a predefined example query from the dropdown or enter your own query\n",
    "- The current standard settings are to extract the 3 top snippets from the documents collection to base the model answer on it\n",
    "\n",
    "## Visualisation:\n",
    "- Visualise the output of the model and compare it with the extracted snippets from the documents\n",
    "- The visualisation is currently highlighting the 5 top sentences that influenced the answer generation\n",
    "\n"
   ]
  },
  {
   "cell_type": "markdown",
   "metadata": {},
   "source": [
    "### Setup: "
   ]
  },
  {
   "cell_type": "code",
   "execution_count": 1,
   "metadata": {},
   "outputs": [
    {
     "name": "stderr",
     "output_type": "stream",
     "text": [
      "/home/paul/miniconda3/envs/llm_rag/lib/python3.11/site-packages/sentence_transformers/cross_encoder/CrossEncoder.py:13: TqdmExperimentalWarning: Using `tqdm.autonotebook.tqdm` in notebook mode. Use `tqdm.tqdm` instead to force console mode (e.g. in jupyter console)\n",
      "  from tqdm.autonotebook import tqdm, trange\n",
      "[nltk_data] Downloading package punkt to /home/paul/nltk_data...\n",
      "[nltk_data]   Package punkt is already up-to-date!\n",
      "[nltk_data] Downloading package punkt_tab to /home/paul/nltk_data...\n",
      "[nltk_data]   Package punkt_tab is already up-to-date!\n",
      "[nltk_data] Downloading package stopwords to /home/paul/nltk_data...\n",
      "[nltk_data]   Package stopwords is already up-to-date!\n",
      "[nltk_data] Downloading package wordnet to /home/paul/nltk_data...\n",
      "[nltk_data]   Package wordnet is already up-to-date!\n"
     ]
    }
   ],
   "source": [
    "## automatic reload when imported files change\n",
    "%load_ext autoreload\n",
    "%autoreload 2\n",
    "\n",
    "import sys \n",
    "sys.path.append('../')\n",
    "import rag.rag_retrieval_utils as rag_utils\n",
    "import rag.rag_visualisation as rag_visualisation\n",
    "import rag.rag_llm_classes as rag_llm_classes\n",
    "import pandas as pd \n",
    "from sentence_transformers import SentenceTransformer\n",
    "import json \n"
   ]
  },
  {
   "cell_type": "code",
   "execution_count": 2,
   "metadata": {},
   "outputs": [],
   "source": [
    "from transformers import AutoTokenizer\n",
    "\n",
    "tokenizer = AutoTokenizer.from_pretrained('meta-llama/Llama-3.1-8B-Instruct')"
   ]
  },
  {
   "cell_type": "code",
   "execution_count": 6,
   "metadata": {},
   "outputs": [
    {
     "data": {
      "text/plain": [
       "128009"
      ]
     },
     "execution_count": 6,
     "metadata": {},
     "output_type": "execute_result"
    }
   ],
   "source": [
    "tokenizer.eos_token_id"
   ]
  },
  {
   "cell_type": "code",
   "execution_count": 2,
   "metadata": {},
   "outputs": [
    {
     "name": "stderr",
     "output_type": "stream",
     "text": [
      "llama_model_loader: loaded meta data with 22 key-value pairs and 291 tensors from ../cpu_models/Meta-Llama-3-8B-Instruct.Q5_K_M.gguf (version GGUF V3 (latest))\n",
      "llama_model_loader: Dumping metadata keys/values. Note: KV overrides do not apply in this output.\n",
      "llama_model_loader: - kv   0:                       general.architecture str              = llama\n",
      "llama_model_loader: - kv   1:                               general.name str              = models\n",
      "llama_model_loader: - kv   2:                          llama.block_count u32              = 32\n",
      "llama_model_loader: - kv   3:                       llama.context_length u32              = 8192\n",
      "llama_model_loader: - kv   4:                     llama.embedding_length u32              = 4096\n",
      "llama_model_loader: - kv   5:                  llama.feed_forward_length u32              = 14336\n",
      "llama_model_loader: - kv   6:                 llama.attention.head_count u32              = 32\n",
      "llama_model_loader: - kv   7:              llama.attention.head_count_kv u32              = 8\n",
      "llama_model_loader: - kv   8:                       llama.rope.freq_base f32              = 500000.000000\n",
      "llama_model_loader: - kv   9:     llama.attention.layer_norm_rms_epsilon f32              = 0.000010\n",
      "llama_model_loader: - kv  10:                          general.file_type u32              = 17\n",
      "llama_model_loader: - kv  11:                           llama.vocab_size u32              = 128256\n",
      "llama_model_loader: - kv  12:                 llama.rope.dimension_count u32              = 128\n",
      "llama_model_loader: - kv  13:                       tokenizer.ggml.model str              = gpt2\n",
      "llama_model_loader: - kv  14:                         tokenizer.ggml.pre str              = llama-bpe\n",
      "llama_model_loader: - kv  15:                      tokenizer.ggml.tokens arr[str,128256]  = [\"!\", \"\\\"\", \"#\", \"$\", \"%\", \"&\", \"'\", ...\n",
      "llama_model_loader: - kv  16:                  tokenizer.ggml.token_type arr[i32,128256]  = [1, 1, 1, 1, 1, 1, 1, 1, 1, 1, 1, 1, ...\n",
      "llama_model_loader: - kv  17:                      tokenizer.ggml.merges arr[str,280147]  = [\"Ġ Ġ\", \"Ġ ĠĠĠ\", \"ĠĠ ĠĠ\", \"...\n",
      "llama_model_loader: - kv  18:                tokenizer.ggml.bos_token_id u32              = 128000\n",
      "llama_model_loader: - kv  19:                tokenizer.ggml.eos_token_id u32              = 128001\n",
      "llama_model_loader: - kv  20:                    tokenizer.chat_template str              = {% set loop_messages = messages %}{% ...\n",
      "llama_model_loader: - kv  21:               general.quantization_version u32              = 2\n",
      "llama_model_loader: - type  f32:   65 tensors\n",
      "llama_model_loader: - type q5_K:  193 tensors\n",
      "llama_model_loader: - type q6_K:   33 tensors\n",
      "llm_load_vocab: special tokens cache size = 256\n",
      "llm_load_vocab: token to piece cache size = 0.8000 MB\n",
      "llm_load_print_meta: format           = GGUF V3 (latest)\n",
      "llm_load_print_meta: arch             = llama\n",
      "llm_load_print_meta: vocab type       = BPE\n",
      "llm_load_print_meta: n_vocab          = 128256\n",
      "llm_load_print_meta: n_merges         = 280147\n",
      "llm_load_print_meta: n_ctx_train      = 8192\n",
      "llm_load_print_meta: n_embd           = 4096\n",
      "llm_load_print_meta: n_head           = 32\n",
      "llm_load_print_meta: n_head_kv        = 8\n",
      "llm_load_print_meta: n_layer          = 32\n",
      "llm_load_print_meta: n_rot            = 128\n",
      "llm_load_print_meta: n_embd_head_k    = 128\n",
      "llm_load_print_meta: n_embd_head_v    = 128\n",
      "llm_load_print_meta: n_gqa            = 4\n",
      "llm_load_print_meta: n_embd_k_gqa     = 1024\n",
      "llm_load_print_meta: n_embd_v_gqa     = 1024\n",
      "llm_load_print_meta: f_norm_eps       = 0.0e+00\n",
      "llm_load_print_meta: f_norm_rms_eps   = 1.0e-05\n",
      "llm_load_print_meta: f_clamp_kqv      = 0.0e+00\n",
      "llm_load_print_meta: f_max_alibi_bias = 0.0e+00\n",
      "llm_load_print_meta: f_logit_scale    = 0.0e+00\n",
      "llm_load_print_meta: n_ff             = 14336\n",
      "llm_load_print_meta: n_expert         = 0\n",
      "llm_load_print_meta: n_expert_used    = 0\n",
      "llm_load_print_meta: causal attn      = 1\n",
      "llm_load_print_meta: pooling type     = 0\n",
      "llm_load_print_meta: rope type        = 0\n",
      "llm_load_print_meta: rope scaling     = linear\n",
      "llm_load_print_meta: freq_base_train  = 500000.0\n",
      "llm_load_print_meta: freq_scale_train = 1\n",
      "llm_load_print_meta: n_yarn_orig_ctx  = 8192\n",
      "llm_load_print_meta: rope_finetuned   = unknown\n",
      "llm_load_print_meta: ssm_d_conv       = 0\n",
      "llm_load_print_meta: ssm_d_inner      = 0\n",
      "llm_load_print_meta: ssm_d_state      = 0\n",
      "llm_load_print_meta: ssm_dt_rank      = 0\n",
      "llm_load_print_meta: model type       = 8B\n",
      "llm_load_print_meta: model ftype      = Q5_K - Medium\n",
      "llm_load_print_meta: model params     = 8.03 B\n",
      "llm_load_print_meta: model size       = 5.33 GiB (5.70 BPW) \n",
      "llm_load_print_meta: general.name     = models\n",
      "llm_load_print_meta: BOS token        = 128000 '<|begin_of_text|>'\n",
      "llm_load_print_meta: EOS token        = 128001 '<|end_of_text|>'\n",
      "llm_load_print_meta: LF token         = 128 'Ä'\n",
      "llm_load_print_meta: EOT token        = 128009 '<|eot_id|>'\n",
      "llm_load_tensors: ggml ctx size =    0.15 MiB\n",
      "llm_load_tensors:        CPU buffer size =  5459.93 MiB\n",
      ".........................................................................................\n",
      "llama_new_context_with_model: n_ctx      = 6144\n",
      "llama_new_context_with_model: n_batch    = 512\n",
      "llama_new_context_with_model: n_ubatch   = 512\n",
      "llama_new_context_with_model: flash_attn = 0\n",
      "llama_new_context_with_model: freq_base  = 500000.0\n",
      "llama_new_context_with_model: freq_scale = 1\n",
      "llama_kv_cache_init:        CPU KV buffer size =   768.00 MiB\n",
      "llama_new_context_with_model: KV self size  =  768.00 MiB, K (f16):  384.00 MiB, V (f16):  384.00 MiB\n",
      "llama_new_context_with_model:        CPU  output buffer size =     0.49 MiB\n",
      "llama_new_context_with_model:        CPU compute buffer size =   428.01 MiB\n",
      "llama_new_context_with_model: graph nodes  = 1030\n",
      "llama_new_context_with_model: graph splits = 1\n",
      "AVX = 1 | AVX_VNNI = 0 | AVX2 = 1 | AVX512 = 1 | AVX512_VBMI = 1 | AVX512_VNNI = 1 | AVX512_BF16 = 1 | FMA = 1 | NEON = 0 | SVE = 0 | ARM_FMA = 0 | F16C = 1 | FP16_VA = 0 | WASM_SIMD = 0 | BLAS = 0 | SSE3 = 1 | SSSE3 = 1 | VSX = 0 | MATMUL_INT8 = 0 | LLAMAFILE = 1 | \n",
      "Model metadata: {'tokenizer.chat_template': \"{% set loop_messages = messages %}{% for message in loop_messages %}{% set content = '<|start_header_id|>' + message['role'] + '<|end_header_id|>\\n\\n'+ message['content'] | trim + '<|eot_id|>' %}{% if loop.index0 == 0 %}{% set content = bos_token + content %}{% endif %}{{ content }}{% endfor %}{% if add_generation_prompt %}{{ '<|start_header_id|>assistant<|end_header_id|>\\n\\n' }}{% endif %}\", 'tokenizer.ggml.eos_token_id': '128001', 'general.quantization_version': '2', 'tokenizer.ggml.model': 'gpt2', 'general.architecture': 'llama', 'llama.rope.freq_base': '500000.000000', 'tokenizer.ggml.pre': 'llama-bpe', 'llama.context_length': '8192', 'general.name': 'models', 'llama.embedding_length': '4096', 'llama.feed_forward_length': '14336', 'llama.attention.layer_norm_rms_epsilon': '0.000010', 'tokenizer.ggml.bos_token_id': '128000', 'llama.attention.head_count': '32', 'llama.block_count': '32', 'llama.attention.head_count_kv': '8', 'general.file_type': '17', 'llama.vocab_size': '128256', 'llama.rope.dimension_count': '128'}\n",
      "Available chat formats from metadata: chat_template.default\n",
      "Guessed chat format: llama-3\n"
     ]
    },
    {
     "name": "stdout",
     "output_type": "stream",
     "text": [
      "../datasets/chunked_documents/nasa_teaching_spacesuit/chunking_cks_1536_ovl_8\n"
     ]
    }
   ],
   "source": [
    "## Load embedding model \n",
    "model_emb = SentenceTransformer('BAAI/bge-large-en-v1.5')\n",
    "\n",
    "## Load LLM model\n",
    "## either device == 'cpu' or 'cuda' (for GPU) or None for self-selection\n",
    "## specify specific model with link to huggingface repository:\n",
    "## e.g., model_name='QuantFactory/Meta-Llama-3.1-8B-Instruct-GGUF', file name=\"Meta-Llama-3.1-8B-Instruct.Q5_K_M.gguf\" for cpu model\n",
    "## OR only model_name = Nexusflow/Starling-LM-7B-beta for GPU models \n",
    "## check for new models https://arena.lmsys.org/\n",
    "## otherwise, loads standard model which is llama-3\n",
    "## Note: Might need to adjust tokenizer_dict in rag_llm_classes.load_cpu_model\n",
    "## Note some models needs a license agreement before using\n",
    "llm = rag_llm_classes.load_inference_model(device='cpu')\n",
    "\n",
    "## Load document chunks \n",
    "input_path = \"../datasets/chunked_documents/nasa_teaching_spacesuit/chunking_cks_1536_ovl_8.json\"\n",
    "docs = rag_utils.load_data(input_path) \n",
    "\n",
    "## drop duplicates according to the text column\n",
    "data = pd.DataFrame(docs)\n",
    "data.drop_duplicates(subset=['text'], inplace=True)\n",
    "docs = data.to_json(orient='records')\n",
    "docs = json.loads(docs)\n",
    "\n",
    "input_path = \"../datasets/example_questions/nasa_spacesuit_teaching.json\"\n",
    "with open(input_path, 'r') as json_file:\n",
    "    example_queries = json.load(json_file)\n",
    "    example_queries = [data['question'] for data in example_queries[:9]]"
   ]
  },
  {
   "cell_type": "markdown",
   "metadata": {},
   "source": [
    "### Question Answering"
   ]
  },
  {
   "cell_type": "code",
   "execution_count": 3,
   "metadata": {},
   "outputs": [
    {
     "data": {
      "application/vnd.jupyter.widget-view+json": {
       "model_id": "438b7b0b95fc4599a5abccb6109aaba4",
       "version_major": 2,
       "version_minor": 0
      },
      "text/plain": [
       "Dropdown(description='Example Queries:', options=('How did the Apollo program address the issue of lunar dust …"
      ]
     },
     "metadata": {},
     "output_type": "display_data"
    },
    {
     "data": {
      "application/vnd.jupyter.widget-view+json": {
       "model_id": "512ff8000c27472fb6914ad8f07081a4",
       "version_major": 2,
       "version_minor": 0
      },
      "text/plain": [
       "Text(value='', description='Query:', placeholder='Type your own query here')"
      ]
     },
     "metadata": {},
     "output_type": "display_data"
    },
    {
     "data": {
      "application/vnd.jupyter.widget-view+json": {
       "model_id": "79bfd5118c8a4d66bc4a845ff62a964d",
       "version_major": 2,
       "version_minor": 0
      },
      "text/plain": [
       "Button(description='Submit', style=ButtonStyle())"
      ]
     },
     "metadata": {},
     "output_type": "display_data"
    },
    {
     "data": {
      "application/vnd.jupyter.widget-view+json": {
       "model_id": "59f63b46f80e4a13b463529267aa5210",
       "version_major": 2,
       "version_minor": 0
      },
      "text/plain": [
       "Label(value='')"
      ]
     },
     "metadata": {},
     "output_type": "display_data"
    },
    {
     "name": "stdout",
     "output_type": "stream",
     "text": [
      "You selected: \"How did the Apollo program address the issue of lunar dust contamination?\"\n",
      "___________________________________\n",
      "WAIT: Running answer generation...\n"
     ]
    },
    {
     "name": "stderr",
     "output_type": "stream",
     "text": [
      "Starting from v4.46, the `logits` model output will have the same type as the model (except at train time, where it will always be FP32)\n",
      "From v4.47 onwards, when a model cache is to be returned, `generate` will return a `Cache` instance instead by default (as opposed to the legacy tuple of tuples format). If you want to keep returning the legacy format, please set `return_legacy_cache=True`.\n"
     ]
    },
    {
     "name": "stdout",
     "output_type": "stream",
     "text": [
      "Done..\n",
      "___________________________________\n",
      "ANSWER:   The Apollo program addressed the issue of lunar dust contamination through various methods and strategies. Some of the key approaches included:\n",
      "\n",
      "1. **Designing systems to minimize dust accumulation**: The astronauts and engineers worked together to design systems that would minimize the amount of dust that accumulated on equipment and surfaces. This included using dust-repellent materials, designing equipment with easy-to-clean surfaces, and using covers or bags to contain dust.\n",
      "2. **Using cleaning methods**: The astronauts used various cleaning methods to remove dust from equipment and surfaces, including brushing, wiping with damp cloths, and using vacuum cleaners. However, the vacuum cleaners often became clogged with dust, making them ineffective.\n",
      "3. **Implementing dust-containment strategies**: The astronauts used jettison bags over the legs of the lunar module to contain dust and prevent it from entering the cabin. They also used taping to cover holes in the lunar module floor to prevent dust from entering the cabin.\n",
      "4. **Developing new technologies**: The Apollo program led to the development of new technologies, such as the lunar dust-repellent materials and the dust-containment systems used in the lunar module.\n",
      "5. **Conducting thorough mission planning and preparation**: The astronauts and engineers conducted thorough mission planning and preparation to anticipate and mitigate the effects of lunar dust contamination. This included studying the lunar surface, designing equipment and procedures to minimize dust accumulation, and training astronauts to deal with dust-related issues.\n",
      "\n",
      "Overall, the Apollo program addressed the issue of lunar dust contamination through a combination of design, technology, and operational strategies.<|eot_id|>\n",
      "___________________________________\n"
     ]
    }
   ],
   "source": [
    "import ipywidgets as widgets\n",
    "from IPython.display import display\n",
    "\n",
    "# Create a dropdown widget\n",
    "dropdown = widgets.Dropdown(\n",
    "    options=example_queries,\n",
    "    value=example_queries[0],\n",
    "    description='Example Queries:',\n",
    ")\n",
    "\n",
    "# Create a text input widget\n",
    "text_input = widgets.Text(\n",
    "    value='',\n",
    "    placeholder='Type your own query here',\n",
    "    description='Query:',\n",
    ")\n",
    "\n",
    "# Create a button widget\n",
    "submit_button = widgets.Button(\n",
    "    description='Submit',\n",
    ")\n",
    "\n",
    "# Create a dictionary to store the output\n",
    "output_storage = {'output': None, 'ordered_docs': None}\n",
    "\n",
    "# Create a label widget to show the status\n",
    "status_label = widgets.Label(value='')\n",
    "\n",
    "# Display the dropdown, text input, button, and status label widgets\n",
    "display(dropdown)\n",
    "display(text_input)\n",
    "display(submit_button)\n",
    "display(status_label)\n",
    "\n",
    "# Function to handle query submission\n",
    "def on_submit(button):\n",
    "    query = text_input.value.strip()\n",
    "    if not query:  # If text input is empty, use the dropdown value\n",
    "        query = dropdown.value.strip()\n",
    "    \n",
    "    try:\n",
    "        # Update status label to indicate processing\n",
    "        status_label.value = 'Processing...'\n",
    "\n",
    "        print(f'You selected: \"{query}\"')\n",
    "        results, ordered_docs = rag_utils.semantic_search(query, docs, model_emb, top_k=5, verbose=False)\n",
    "        n_con = 3\n",
    "        contexts = [doc['text'] for doc in ordered_docs[:n_con]]\n",
    "        print(\"___________________________________\")\n",
    "        print(\"WAIT: Running answer generation...\")\n",
    "        output = llm.act(query, contexts)\n",
    "        print(\"Done..\")\n",
    "        \n",
    "        # Store the output in the dictionary for further analysis\n",
    "        output_storage['query'] = query\n",
    "        output_storage['output'] = output\n",
    "        output_storage['ordered_docs'] = ordered_docs\n",
    "        output_storage['n_contexts'] = n_con\n",
    "        # Update status label to indicate completion\n",
    "        status_label.value = 'Done.'\n",
    "        print(\"___________________________________\")\n",
    "        print(\"ANSWER: \", output)\n",
    "        print(\"___________________________________\")\n",
    "\n",
    "    except Exception as e:\n",
    "        # Handle any exceptions and update the status label\n",
    "        status_label.value = 'Error occurred.'\n",
    "        print(f\"An error occurred: {e}\")\n",
    "    \n",
    "    # Reset the text input widget after submission\n",
    "    text_input.value = ''\n",
    "\n",
    "# Attach the function to the button click event\n",
    "submit_button.on_click(on_submit)"
   ]
  },
  {
   "cell_type": "markdown",
   "metadata": {},
   "source": [
    "### Visualisation"
   ]
  },
  {
   "cell_type": "code",
   "execution_count": 4,
   "metadata": {},
   "outputs": [
    {
     "name": "stderr",
     "output_type": "stream",
     "text": [
      "/home/paul/pauld/projects/satne/satnex_llm_qa/notebooks/../rag/rag_visualisation.py:132: RuntimeWarning: invalid value encountered in scalar divide\n",
      "  score_colors = \" \".join([f\"rgba(50,205,50,{result['scores'][idx] / max(result['scores'])})\" for result in results if idx in result['top_indices']])\n"
     ]
    },
    {
     "data": {
      "text/html": [
       "\n",
       "    <style>\n",
       "        .query-sentence:hover { background-color: blue; cursor: pointer; }\n",
       "        .highlighted { background-color: green; }\n",
       "    </style>\n",
       "    <script>\n",
       "        function highlightSentences(queryIndex) {\n",
       "            var sentences = document.querySelectorAll('.doc-sentence');\n",
       "            sentences.forEach(function(sentence) {\n",
       "                sentence.style.backgroundColor = ''; // Reset background\n",
       "            });\n",
       "            var relevantSentences = document.querySelectorAll('.doc-sentence.query-' + queryIndex);\n",
       "            relevantSentences.forEach(function(sentence) {\n",
       "                sentence.style.backgroundColor = sentence.getAttribute('data-score-color');\n",
       "            });\n",
       "        }\n",
       "    </script>\n",
       "    <h3>Answer:</h3><ul><li class='query-sentence' onmouseover='highlightSentences(0)'> Some of the early challenges in spacesuit design and testing included:\n",
       "\n",
       "1.</li><li class='query-sentence' onmouseover='highlightSentences(1)'>**Thermal Environment**: The spacesuit had to protect the astronaut from extreme temperatures during re-entry and spacewalks.</li><li class='query-sentence' onmouseover='highlightSentences(2)'>2.</li><li class='query-sentence' onmouseover='highlightSentences(3)'>**Ventilation System**: The suit had to provide adequate ventilation to prevent overheating and maintain a safe internal environment.</li><li class='query-sentence' onmouseover='highlightSentences(4)'>3.</li><li class='query-sentence' onmouseover='highlightSentences(5)'>**Mobility and Dexterity**: The suit had to allow for maximum mobility and dexterity to enable astronauts to perform tasks in space.</li><li class='query-sentence' onmouseover='highlightSentences(6)'>4.</li><li class='query-sentence' onmouseover='highlightSentences(7)'>**Leakage and Pressure**: The suit had to maintain a safe internal pressure and prevent leakage to ensure astronaut safety.</li><li class='query-sentence' onmouseover='highlightSentences(8)'>5.</li><li class='query-sentence' onmouseover='highlightSentences(9)'>**User Discomfort**: The suit had to be comfortable for the astronaut to wear for extended periods.</li><li class='query-sentence' onmouseover='highlightSentences(10)'>6.</li><li class='query-sentence' onmouseover='highlightSentences(11)'>**Gas Circulation**: The suit had to provide adequate gas circulation to prevent gas buildup and maintain a safe internal environment.</li><li class='query-sentence' onmouseover='highlightSentences(12)'>7.</li><li class='query-sentence' onmouseover='highlightSentences(13)'>**Redesign of Joints and Torso**: The suit had to be redesigned to address issues with fabric stretching and tightness.</li><li class='query-sentence' onmouseover='highlightSentences(14)'>8.</li><li class='query-sentence' onmouseover='highlightSentences(15)'>**Poor Gas Circulation**: The suit had to be improved to address issues with gas circulation.</li><li class='query-sentence' onmouseover='highlightSentences(16)'>9.</li><li class='query-sentence' onmouseover='highlightSentences(17)'>**In-Suit Urine Collection System**: The suit had to be designed to collect urine in zero gravity.</li><li class='query-sentence' onmouseover='highlightSentences(18)'>10.</li><li class='query-sentence' onmouseover='highlightSentences(19)'>**In-Suit Ventilation System**: The suit had to be designed to provide adequate ventilation in zero gravity.</li><li class='query-sentence' onmouseover='highlightSentences(20)'>These challenges were addressed through a series of tests, evaluations, and redesigns, ultimately leading to the development of the A7L spacesuit.<|eot_id|></li></ul><h3>Documents:</h3><p><br> Document Title: Spacesuit_Development_and_Qualification_for_Project_Mercury_b8a77e5fae7d4d328a6712e1d511c2f71d</br><span class='doc-sentence ' data-score-color=''>Document: Spacesuit_Development_and_Qualification_for_Project_Mercury_b8a77e5fae7d4d328a6712e1d511c2f71d\n",
       " support, which was picked up on a direct NASA contract with me a few minutes later. </span><span class='doc-sentence ' data-score-color=''>Cost did go up, however. </span><span class='doc-sentence ' data-score-color=''>and you'll see that in a minute. </span><span class='doc-sentence query-20' data-score-color='rgba(50,205,50,1.0)'>There were additional development tests conducted in 59, in particular additional thermal evaluation of the modifications of the Mark IV suit to improve their ventilation system, which was found to be lacking in the original evaluations, and that's the tests that were run. </span><span class='doc-sentence ' data-score-color=''>Also, there were additional tests at McDonnell Douglas to evaluate the crew quarter aspect with the crew displays and all the equipment inside the small spacecraft that Mercury was, you know, at the time. </span><span class='doc-sentence query-5' data-score-color='rgba(50,205,50,0.6944984380855134)'>And also operational evaluation connected at Space Task Group, which was in the first suit lab that NASA had there that I was put in charge of when I got the job working for NASA. </span><span class='doc-sentence query-1 query-9 query-11 query-13 query-15' data-score-color='rgba(50,205,50,0.8995245313677137) rgba(50,205,50,1.0) rgba(50,205,50,1.0) rgba(50,205,50,1.0) rgba(50,205,50,1.0)'>At that time, the suit design issues were fabric stretching due to the thermal environment, user discomfort, which was related to the ventilation system, and the tightness of the Mark IV suit, which required redesign of some of the joints and the torso, and poor gas circulation that still existed. </span><span class='doc-sentence query-17' data-score-color='rgba(50,205,50,1.0)'>The to be center director Bob Gilruth sent a letter to the chief of the Naval Air Equipment Lab providing the data that was expected by NASA to be met from the Big Joe reentry test and ECS testing of the suit thermal performance and identified which I'll show you in a subsequent identified development of programs to be pursued by the Navy with BF Goodrich, to solve suit materials problems to prevent the stretching after heat testing and wear that I mentioned, to finalize the suit heat protection or the ventilation system and ventilation configuration, improve the compatibility with the Merzinger capsule, which meant additional unpressurized mobility, exhaustive qualification testing that NASA expected to be done, and to develop an in-suit urine collection system that would work in zero gravity. </span><span class='doc-sentence query-3 query-19' data-score-color='rgba(50,205,50,0.991100019454016) rgba(50,205,50,0.991100019454016)'>And the in-suit ventilation system that I've mentioned several times there with emphasis on improving ventilation. </span><span class='doc-sentence query-3 query-19' data-score-color='rgba(50,205,50,0.9555598442048988) rgba(50,205,50,0.9555598442048988)'>That was the primary significant driver in the suit development for Mercury was providing adequate ventilation that was compatible with the Mercury Environmental Control System. </span><span class='doc-sentence ' data-score-color=''>I'll get into the specs on that a little bit later. </span><span class='doc-sentence query-4 query-6 query-10 query-11 query-14 query-15 query-16' data-score-color='rgba(50,205,50,nan) rgba(50,205,50,nan) rgba(50,205,50,nan) rgba(50,205,50,0.3521398343056869) rgba(50,205,50,nan) rgba(50,205,50,0.2417171201921785) rgba(50,205,50,nan)'>Now the enclosures that were provided with that letter, the first one was the results of the little Joe test which showed, getting used to this thing, the as altitude during re-entry of the capsule, the suit ventilation loop in the ECS system reached a point during re-entry went from about 70 degrees normal gas temperature up to over 105 degrees for the rest of the mission from landing all the way through the one hour post landing period. </span><span class='doc-sentence query-1 query-4 query-6 query-10 query-11 query-14 query-15 query-16 query-17' data-score-color='rgba(50,205,50,0.8716762992060365) rgba(50,205,50,nan) rgba(50,205,50,nan) rgba(50,205,50,nan) rgba(50,205,50,0.6120498513928988) rgba(50,205,50,nan) rgba(50,205,50,0.4201255100390473) rgba(50,205,50,nan) rgba(50,205,50,0.4036256447279056)'>This shows the cabin wall temperature during reentry and the cabin wall gas temperature and in the ECS system and the effect it had on the system being able to ventilate the suit loop. </span><span class='doc-sentence query-0 query-3 query-4 query-6 query-10 query-14 query-16 query-19' data-score-color='rgba(50,205,50,0.9722002255489528) rgba(50,205,50,0.8571813427831096) rgba(50,205,50,nan) rgba(50,205,50,nan) rgba(50,205,50,nan) rgba(50,205,50,nan) rgba(50,205,50,nan) rgba(50,205,50,0.8571813427831096)'>So that was sort of the significant driver for the design of the ventilation system. </span><span class='doc-sentence query-4 query-6 query-10 query-14 query-16' data-score-color='rgba(50,205,50,nan) rgba(50,205,50,nan) rgba(50,205,50,nan) rgba(50,205,50,nan) rgba(50,205,50,nan)'>In addition, the enclosure provided the schedule that NASA expected to be met. </span><span class='doc-sentence query-4 query-6 query-10 query-14 query-16' data-score-color='rgba(50,205,50,nan) rgba(50,205,50,nan) rgba(50,205,50,nan) rgba(50,205,50,nan) rgba(50,205,50,nan)'>And you can see that from February to March through April, NASA expected a lot of work to be done on a very short schedule to meet the schedule requirements. </span><span class='doc-sentence query-0' data-score-color='rgba(50,205,50,0.9722002255489528)'>And that included the completion of the development suits for these people, the pre-production suit. </span><span class='doc-sentence ' data-score-color=''>Now This was, in our terms, a qual suit and a production of flight suits. </span><span class='doc-sentence ' data-score-color=''>This is a picture of the suit with Deke Slayton in it, if you recognize Deke, which was the first true prototype Mercury suit. </span><span class='doc-sentence ' data-score-color=''>You can see the helmet with the exhaust fitting here. </span><span class='doc-sentence ' data-score-color=''>A high-pressure oxygen source here to inflate. </span><span class='doc-sentence ' data-score-color=''>When you pull the visor down, you had to have the visor down for the seal to inflate. </span><span class='doc-sentence ' data-score-color=''>There's a little valve here on the side of the helmet that locked the visor down in place with the high-pressure oxygen. </span><span class='doc-sentence ' data-score-color=''>The suit entry, pressure-sealing slide fastener, helmet tie-down with pulley down to the crotch, zippered glove disconnects, a non-bearing disconnect at the helmet, and separate Daner boots coated white for the thermal protection. </span><span class='doc-sentence query-5 query-13' data-score-color='rgba(50,205,50,0.7924272029169525) rgba(50,205,50,0.28792106853434396)'>There were segmented shoulders for mobility to eliminate some of the problems of the tightness and suit stretch that was developed. </span><span class='doc-sentence ' data-score-color=''>Straps were added under the arms to keep the shoulder ballooning to a minimum when the suit was pressurized. </span><span class='doc-sentence ' data-score-color=''>As a result of the testing on Little Joe, they found that it was no longer necessary to add a sponge insulation layer between the outer cover layer and the restraint layer. </span><span class='doc-sentence ' data-score-color=''>And the crewmen wanted curved finger gloves, except for the middle finger. </span><span class='doc-sentence ' data-score-color=''>They wanted straight so they could impact the displays and control switches inside the capsule. </span><span class='doc-sentence ' data-score-color=''>And they wanted more tactility feel on the fingertip ends with a roughened texture so they could actually feel the switches and controls that were in the capsule when the suit was pressurized. </span><span class='doc-sentence ' data-score-color=''>To make the suits fit good, these suits were all custom sized, they actually took brown paper and paper mached the complete body form of each of the seven Mercury astronauts from which was made the patterns for each of the crew member suits. </span><span class='doc-sentence ' data-score-color=''>I mentioned they had additional cost for all of this, it ended up being $100,000, over 100% more than the original estimate. </span><span class='doc-sentence query-1' data-score-color='rgba(50,205,50,1.0)'>Now the specification at that time for the SIDS system, it had to meet an operational temperature range, minus 65 to 180, and that was sort of strange at the time because the The vehicle would never see that extreme, but that was a Navy specification residual item from their military needs. </span><span class='doc-sentence query-7 query-8' data-score-color='rgba(50,205,50,0.890087841450224) rgba(50,205,50,0.6956168831168831)'>The suit pressure was normal pressure in vent mode was.15 and 5 psi was the capsule pressure that was normal. </span><span class='doc-sentence query-8' data-score-color='rgba(50,205,50,1.0)'>And in the event of loss of cabin pressure, which was at 5 during decompression, it went to 5 psi G in a suit. </span><span class='doc-sentence query-7' data-score-color='rgba(50,205,50,1.0)'>Maximum leakage that was allowed was 200 cc per minute with a pressure drop, they call it then back pressure, four and a half inches of water at a flow rate through the ECS of ten and a half CFM. </span><span class='doc-sentence ' data-score-color=''>The suits were custom made at the factory and sized there. </span><span class='doc-sentence ' data-score-color=''>Maximum weight was 30 pounds and compatible with all ECS controls and displays. </span><span class='doc-sentence ' data-score-color=''>These were sort of the major system designers, and these were the components that were part of that contract. </span><span class='doc-sentence query-3 query-11 query-13 query-19' data-score-color='rgba(50,205,50,1.0) rgba(50,205,50,0.33479606859565436) rgba(50,205,50,0.1313334380925655) rgba(50,205,50,1.0)'>of course the helmet, torso gloves, and in order to provide adequate ventilation there was a ventilation set of underwear that I'll show you in a minute that had patches of tri-lock in the upper thigh area and on the back thigh area and on the back of the crew member's back so that during laying in a capsule, like at 1G prior to launch for several hours, you had adequate ventilation through the suit. </span><span class='doc-sentence query-3 query-19' data-score-color='rgba(50,205,50,0.7966533143583365) rgba(50,205,50,0.7966533143583365)'>This was to help the ventilation. </span><span class='doc-sentence ' data-score-color=''>This was the prototype suit with the outlet exhaust, the inlet, with a manual closure requirement, and pressure gauge relocated on the wrist so it doesn't show there, and a biomedical patch for the attachment of the EKG and heart rate. </span><span class='doc-sentence ' data-score-color=''>Here you can see the pleated arm with a single restraint down the side. </span><span class='doc-sentence ' data-score-color=''>Likewise on the leg for the leg. </span><span class='doc-sentence ' data-score-color=''>These were the very specific requirements in the Navy spec that was imposed upon the requirement of the Mercury suit. </span><span class='doc-sentence ' data-score-color=''>They used a plexiglass visor with an open position lock, so when the visor was in the up position it was locked in place. </span><span class='doc-sentence ' data-score-color=''>It was a detent. </span><span class='doc-sentence ' data-score-color=''>A visor closed position was sealed and locked by an inflatable bladder seal, as I mentioned. </span><span class='doc-sentence ' data-score-color=''>The visor sealed bladder operated from 35 to 95 psi. </span><span class='doc-sentence ' data-score-color=''>It was inflated by an auxiliary oxygen source with a deflation on-off button. </span><span class='doc-sentence ' data-score-color=''>This auxiliary device was a very small oxygen bottle that was located in the capsule along the side of the crew member. </span><span class='doc-sentence ' data-score-color=''>The requirement was that the bladder seal </span></p><p><br> Document Title: Early_Apollo_Spacesuit_Development,_A-7L_Suit_Requirements,_and_Design_Details_48722cd9313742ba9bc3ceed578924e01d</br><span class='doc-sentence ' data-score-color=''>Document: Early_Apollo_Spacesuit_Development,_A-7L_Suit_Requirements,_and_Design_Details_48722cd9313742ba9bc3ceed578924e01d\n",
       ". </span><span class='doc-sentence ' data-score-color=''>However, this didn't work out too well for multiple reasons. </span><span class='doc-sentence ' data-score-color=''>One was the prototypes that were developed under this early contract were not found satisfactory by NASA for various reasons such as leakage, excessive leakage, mobility, comfort, ability to get up, stand up after falling down and as a result this program became seriously late in the eyes of NASA management and and they wanted something done about that. </span><span class='doc-sentence ' data-score-color=''>And these were the, some of the, most of the suits that were developed under this combined contract. </span><span class='doc-sentence ' data-score-color=''>And I'm not going to get into the details of these, but they were all different models that were developed serially under that contract and found unsatisfactory by NASA. </span><span class='doc-sentence ' data-score-color=''>And then by NASA I mean the NASA astronauts, the NASA Crew Systems Division technical personnel, and the NASA management that was in charge of the program. </span><span class='doc-sentence query-20' data-score-color='rgba(50,205,50,0.5628147308900114)'>So as a result of that problem, NASA established an in-house competitive test program to try and find a better space suit for continued development. </span><span class='doc-sentence ' data-score-color=''>Now I reported on this program in the last session that I presented in detail, But I thought I'd give you just a little bit of information about how this test program was conducted. </span><span class='doc-sentence query-0' data-score-color='rgba(50,205,50,0.9231159702590422)'>It evaluated all aspects of the suit from design, function, operation, man-suit interfaces. </span><span class='doc-sentence ' data-score-color=''>Test conditions were controlled with a test team that evaluated and emphasized all of the mission requirements. </span><span class='doc-sentence query-20' data-score-color='rgba(50,205,50,0.8508338915119783)'>and there were 65 separate different tests that were subjected to the suits that were part of this evaluation. </span><span class='doc-sentence query-0' data-score-color='rgba(50,205,50,1.0)'>And as I said, this evaluation can be found in the Apollo Block 1 session that I previously provided in January of 2013. </span><span class='doc-sentence query-2 query-18' data-score-color='rgba(50,205,50,0.0) rgba(50,205,50,0.0)'>These were the three suits that were subjected to the test program, And the AX5L, as it's called, shown here. </span><span class='doc-sentence query-2 query-8 query-12 query-18' data-score-color='rgba(50,205,50,0.0) rgba(50,205,50,0.0) rgba(50,205,50,0.0) rgba(50,205,50,0.0)'>Whoops. </span><span class='doc-sentence query-8 query-12 query-18' data-score-color='rgba(50,205,50,0.0) rgba(50,205,50,0.0) rgba(50,205,50,0.0)'>Let's back up a minute. </span><span class='doc-sentence query-2 query-8 query-18' data-score-color='rgba(50,205,50,0.0) rgba(50,205,50,0.0) rgba(50,205,50,0.0)'>Get used to this. </span><span class='doc-sentence query-12' data-score-color='rgba(50,205,50,0.0)'>The AX5L here, which was manufactured by ILC under a company-funded activity. </span><span class='doc-sentence ' data-score-color=''>They took the best of what they knew, what was resulting from the early development under the EMU contract with Hampton Standard, and developed this particular suit. </span><span class='doc-sentence ' data-score-color=''>The other two suits were the AX-1C, developed by the David Clark Company, which was a prototype outgrowth of the Gemini suit and the Apollo Block I suit development that was funded by NASA to support this evaluation. </span><span class='doc-sentence ' data-score-color=''>Finally, the AX6H was submitted by HAM Standard under company funded EMU contract and had support from the David Clark Company for part of the effort and BF Goodrich for part of the manufacturing. </span><span class='doc-sentence ' data-score-color=''>Details of this are covered in that previous presentation as I mentioned before. </span><span class='doc-sentence query-20' data-score-color='rgba(50,205,50,0.6341619779342028)'>Dr. Gilruth, who is the center director, provided details of this evaluation for continued development of the Apollo EMU to NASA headquarters, Dr. Mueller. </span><span class='doc-sentence ' data-score-color=''>He recommended three changes not consistent with the previous EMU procurement plan. </span><span class='doc-sentence ' data-score-color=''>One, to amend the existing EMU contract with HAMPS standard to only cover the portable specialized support system and associated equipment. </span><span class='doc-sentence ' data-score-color=''>Second, award a new separate contract to ILC for full development, manufacture, test and delivery of Block II flight spacesuits and associated equipment. </span><span class='doc-sentence query-2' data-score-color='rgba(50,205,50,0.24211645210818472)'>And third, which is an item that many, not too many people today understand and know about, he assigned the NASA Crew Systems Division responsibility for block 2 EMU program implementation which included management overall management overall systems integration and conduct spacesuit qualification program for for the program the basis for this decision to change the procurement plan and his recommendation were the result of that competitive suit evaluation, a reassessment of capabilities of ILC, a team of NASA engineers and managers went to ILC and conducted a detailed inspection of their facilities and capabilities, personnel and organization, and the previous lack of success of HAMS standard and affected an adequate suit total system development effort. </span><span class='doc-sentence ' data-score-color=''>However, However, he did recognize Ham's standards, competence and excellence in the portable life support system work. </span><span class='doc-sentence ' data-score-color=''>So then in September 1965 it was announced that NASA would negotiate with IOC for a contract to develop the Apollo Block II spacesuits. </span><span class='doc-sentence ' data-score-color=''>At this point in time, this is what the EMU contracts looked like. </span><span class='doc-sentence ' data-score-color=''>Under Hamilton's standard, they would develop the PLIS, which included all controls, displays, and emergency oxygen system, shown here, oxygen system and the portable oxygen system. </span><span class='doc-sentence ' data-score-color=''>All the remainder of the suit, which is a worn part from the waste management system, the EVA visor, the thermal, meteor, liquid cooling garment, constant wear garment, and pressure garment assembly was provided for under the ILC contract. </span><span class='doc-sentence ' data-score-color=''>At this time, NASA management felt that it was necessary to expedite the procurement of the competition suits, prototypes, additional models, and a cost, a letter cost plus fixed contract was awarded to ILC to immediately start work on providing additional suits. </span><span class='doc-sentence ' data-score-color=''>At that time NASA procurement started on a sole source contract NES 960-100 for full development of all the contract end items development production training and flight suits and of course implementing all the Apollo program configuration quality reliability requirements. </span><span class='doc-sentence ' data-score-color=''>In this contract also was to provide all field support, field personnel at different sites and spare parts. </span><span class='doc-sentence ' data-score-color=''>This was an incentive award contract based on schedule, cost, and technical performance. </span><span class='doc-sentence ' data-score-color=''>Under NS 95332, which was the first immediate action contract, Modifications were incorporated in the AX-5L competition suit based on the results of the competition findings and recommendations of NASA technical personnel. </span><span class='doc-sentence query-18' data-score-color='rgba(50,205,50,1.0)'>10 A-5Ls, as they were called since they were production units, were delivered to support immediate Apollo Block II program needs. </span><span class='doc-sentence ' data-score-color=''>Suits were provided to North American Aviation, which became Rockwell. </span><span class='doc-sentence ' data-score-color=''>Suits were provided for lunar module development at Grumman. </span><span class='doc-sentence query-0' data-score-color='rgba(50,205,50,0.8800546157721485)'>Development suits and components for testing at ILC. </span><span class='doc-sentence ' data-score-color=''>For development support of the PLIS and operational port system at Ham Standard. </span><span class='doc-sentence ' data-score-color=''>And in addition, one of the concerns based on the evaluation during the competition was the reliability of the pressure ceiling closure, which was part of the configuration of the suit. </span><span class='doc-sentence query-7' data-score-color='rgba(50,205,50,0.6660318924332351)'>So four suits were made and delivered to the U.S. Army NATO labs for reliability cycle pressure testing to determine the reliability of that pressure ceiling closure. </span><span class='doc-sentence query-5' data-score-color='rgba(50,205,50,0.6350064171684543)'>In addition, suits were delivered to NASA Johnson Space Center for astronaut simulators work development and training development support. </span><span class='doc-sentence ' data-score-color=''>And finally, suits were given to the NASA Crew Systems Division for development testing and interfaces verification as they were needed. </span><span class='doc-sentence ' data-score-color=''>These suits were all developed and manufactured and delivered under Class III controls, which means they did not have released engineering, they were not built to full inspection and quality control, but they did meet minimal engineering requirements that were imposed and found acceptable by DCAS inspection that evaluated each of the suits when they were delivered. </span><span class='doc-sentence ' data-score-color=''>Under NAS 960-100, training and In flight suits, CEI's development production certification was accomplished with full implementation of NASA quality and configuration controls. </span><span class='doc-sentence ' data-score-color=''>It incorporated modifications to the A5L baseline based on the results of interface testing conducted at the various NASA contractors and at JSC. </span><span class='doc-sentence ' data-score-color=''>These changes were incorporated and established the A6L training and flight CEI's design. </span><span class='doc-sentence ' data-score-color=''>By CEI I mean each of the components of the suit like PGA, LCG, EVA, gloves, lunar boots, etc. </span><span class='doc-sentence ' data-score-color=''>In addition, the contract included all spare parts, repair materials, familiarization and illustrated parts manuals. </span><span class='doc-sentence ' data-score-color=''>personnel from ILC to operate and participate in the suit activities at both the Manned Spacecraft Center here, Johnson and I, Kennedy Space Center, North American, Grumman and Hamilton. </span><span class='doc-sentence ' data-score-color=''>We had technicians that could operate the suits at all these sites at that point. </span><span class='doc-sentence ' data-score-color=''>Now to get into the first of the five different types of requirements. </span><span class='doc-sentence ' data-score-color=''>These are the contract delivery requirements that were imposed on NES 9-6100. </span><span class='doc-sentence query-1 query-9 query-11' data-score-color='rgba(50,205,50,0.6898164900588994) rgba(50,205,50,0.7261250244259766) rgba(50,205,50,0.32462775306191977)'>Provide custom sized suits for all mission assigned astronauts. </span><span class='doc-sentence ' data-score-color=''>One training, </span></p><p><br> Document Title: Early_Apollo_Spacesuit_Development,_A-7L_Suit_Requirements,_and_Design_Details_48722cd9313742ba9bc3ceed578924e01d</br><span class='doc-sentence query-12' data-score-color='rgba(50,205,50,1.0)'>Document: Early_Apollo_Spacesuit_Development,_A-7L_Suit_Requirements,_and_Design_Details_48722cd9313742ba9bc3ceed578924e01d\n",
       "7 through 17. </span><span class='doc-sentence ' data-score-color=''>I have that data. </span><span class='doc-sentence ' data-score-color=''>You know, most of these details that I presented to you are from my memory, and I assume it's correct but I may have some flaws in it, minor I hope, and from my personal data. </span><span class='doc-sentence query-17' data-score-color='rgba(50,205,50,0.51952965400542)'>I have a pretty extensive collection of data that I have kept and plan to turn over to the University of Houston library when I finish with all these sessions. </span><span class='doc-sentence ' data-score-color=''>And that's in collaboration with our history office at NASA. </span><span class='doc-sentence ' data-score-color=''>Yeah, because I have all kinds of reports and data that I'm drawing from. </span><span class='doc-sentence ' data-score-color=''>You saw some of the actual sketches and photographs that I used in the presentation from my files. </span><span class='doc-sentence ' data-score-color=''>I just want to point out here there's a gentleman here in the group that was responsible for the suit in the early part, Jerry Goodman, who did a very good job back then. </span><span class='doc-sentence query-5' data-score-color='rgba(50,205,50,1.0)'>And he has a wealth of information on those early suits and participated in that and from I can tell did a good job so and I recognize Dr. Clark here's quite an expert in this field and has worked with high altitude balloon work successfully very good any other questions yes you mentioned the requirements for mobility and dexterity. </span><span class='doc-sentence query-13 query-15' data-score-color='rgba(50,205,50,0.27641223267648946) rgba(50,205,50,0.32126239450712535)'>What kind of issues did you have trying to meet those requirements? </span><span class='doc-sentence query-5 query-9 query-15' data-score-color='rgba(50,205,50,0.7750044621695787) rgba(50,205,50,0.5533274820512506) rgba(50,205,50,0.13571697240049793)'>The issues were, well if you if you recall the suits were custom made to the crew member and the requirement that we levied in a contract on the contractor for sizing to provide maximum mobility was that the contractor take the measurements of the astronaut they take the hand moles of each astronauts hand and maintain that as an official contractor record and that we would send send an astronaut to the plant for a fit check prior to government acceptance of that crew member's suit and equipment. </span><span class='doc-sentence query-9' data-score-color='rgba(50,205,50,0.6912265150096365)'>And if the astronaut was not satisfied with the fit check, it was not accepted and he had to rework the suit, which in some cases they did. </span><span class='doc-sentence ' data-score-color=''>Primarily there was adjustment of cables. </span><span class='doc-sentence query-17' data-score-color='rgba(50,205,50,0.41648637592017423)'>don't realize that some of the suit components were based on a size system like convolutes. </span><span class='doc-sentence query-13' data-score-color='rgba(50,205,50,0.31822231006375595)'>There wasn't a custom made convolute for each joint. </span><span class='doc-sentence ' data-score-color=''>They were several sizes of convolutes but the actual assembly of the correct size convolute was done at the factory as part of the customization before delivery. </span><span class='doc-sentence query-12' data-score-color='rgba(50,205,50,0.4818141658076867)'>And once the suit was sized properly and all the cables adjusted properly, the suit was extremely mobile and different than if you go over here to Building 7 and take a suit out and put a crew member in and see how mobile it is. </span><span class='doc-sentence query-1 query-2 query-9' data-score-color='rgba(50,205,50,0.6898164900588994) rgba(50,205,50,1.0) rgba(50,205,50,0.587538460848209)'>Well it's not the same as what it was fitted for an astronaut that was built for and size 2 at the time. </span><span class='doc-sentence ' data-score-color=''>And that's what made this large number of man months I referred to was we had quite a production set of personnel, production engineers, production inspectors, production laborers, seamstress, dippers. </span><span class='doc-sentence ' data-score-color=''>I mean, there were a lot of people involved. </span><span class='doc-sentence ' data-score-color=''>Yes, sir. </span><span class='doc-sentence ' data-score-color=''>So were all the suits one-time used or were any of them reused? </span><span class='doc-sentence ' data-score-color=''>We had some reuses for training. </span><span class='doc-sentence ' data-score-color=''>Not for flight? </span><span class='doc-sentence ' data-score-color=''>Not for flight. </span><span class='doc-sentence ' data-score-color=''>It was a policy that the flight hardware was taken and given to the Smithsonian for historical purposes. </span><span class='doc-sentence ' data-score-color=''>But training hardware and flight suits that were not flown might be reused by a crew member on a subsequent flight, if it's the same crew member, or if he was close enough in size that we could go back to the factory and resize it to fit that new crew member, which we did on several occasions. </span><span class='doc-sentence ' data-score-color=''>And those records are pretty sparse right now, I must say. </span><span class='doc-sentence ' data-score-color=''>Yes, ma'am? </span><span class='doc-sentence query-20' data-score-color='rgba(50,205,50,0.6594472952036314)'>What were the requirements of the electric harness for the A7L suit, and is that still worn and with the same requirements for the EMU suit? </span><span class='doc-sentence ' data-score-color=''>When you say requirements, there was redundant wiring. </span><span class='doc-sentence ' data-score-color=''>Or just the power requirements, so like how much power did it supply? </span><span class='doc-sentence ' data-score-color=''>Let me take an action to get that for you. </span><span class='doc-sentence ' data-score-color=''>You're looking for the power that was allowed to be a non-ignition source, right? </span><span class='doc-sentence ' data-score-color=''>Okay. </span><span class='doc-sentence ' data-score-color=''>I think it was 0.5 amps. </span><span class='doc-sentence ' data-score-color=''>Okay. </span><span class='doc-sentence ' data-score-color=''>Or 0.005 amps. </span><span class='doc-sentence ' data-score-color=''>I'm not sure which, so I'll have to check that. </span><span class='doc-sentence ' data-score-color=''>You don't remember, do you, Jerry? </span><span class='doc-sentence ' data-score-color=''>I don't. </span><span class='doc-sentence ' data-score-color=''>And the voltage across. </span><span class='doc-sentence ' data-score-color=''>But we did an extensive amount of testing with the electrical harness to show that there was no ignition, to define what the ignition current would be to start a fire and what was acceptable with the ending requirement. </span><span class='doc-sentence ' data-score-color=''>And I'll get that for you. </span><span class='doc-sentence ' data-score-color=''>I'll give that to Cindy. </span><span class='doc-sentence ' data-score-color=''>And is that harness still in use? </span><span class='doc-sentence ' data-score-color=''>There's a report on that actually that I'd recommend you to go to. </span><span class='doc-sentence ' data-score-color=''>There's a NASA record about this thick, I have a copy of it, that identifies all the tests and test conditions and results to establish the requirement. </span><span class='doc-sentence ' data-score-color=''>And you have to be careful with what we did because it was based upon the atmosphere that we used, the materials that were used in a wiring as well as in the contact with the wiring. </span><span class='doc-sentence ' data-score-color=''>So you just can't take that number like.5 amps and apply it across to a new suit development. </span><span class='doc-sentence ' data-score-color=''>need to test with the atmosphere that you're going to be subjecting the crew member to if it's a higher pressure atmosphere that would affect the result and what would you require okay if I get you that report Cindy can you make a copy of that report if I get it to you okay that's that's the best thing to do I'd be afraid just to give you a number and say that's what I should use again in the future. </span><span class='doc-sentence ' data-score-color=''>Because there's too many conditions that could be a variable and I wouldn't want you to do that. </span><span class='doc-sentence ' data-score-color=''>Any other changes you would have liked to have made to the suit or given the advancement of materials, anything you would do for the next suit, wavering back to the moon? </span><span class='doc-sentence ' data-score-color=''>Yes, absolutely. </span><span class='doc-sentence ' data-score-color=''>We would, in fact, when you look at the shuttle RFP, procurement of the shuttle suit, we specified some don't use things like cables and swedges. </span><span class='doc-sentence ' data-score-color=''>Don't use company proprietary products. </span><span class='doc-sentence ' data-score-color=''>Okay. </span><span class='doc-sentence ' data-score-color=''>Okay we did like the dipping compound for the convolutes and glove bladders was a proprietary compound. </span><span class='doc-sentence ' data-score-color=''>I would extend the age life requirement. </span><span class='doc-sentence ' data-score-color=''>We think we did that. </span><span class='doc-sentence ' data-score-color=''>We found the helmet configuration to be very good for CO2 washout, visibility, and defog capability configuration we used. </span><span class='doc-sentence ' data-score-color=''>And that's why we recommended it and used it in shuttle of course. </span><span class='doc-sentence ' data-score-color=''>I can't think of any other. </span><span class='doc-sentence ' data-score-color=''>I think the cables and swiggers were a constant problem. </span><span class='doc-sentence query-7' data-score-color='rgba(50,205,50,0.6553485415273839)'>not use a pressure sealing slide fastener. </span><span class='doc-sentence ' data-score-color=''>And we didn't in the shuttle EMU. </span><span class='doc-sentence ' data-score-color=''>We used a pressure sealing slide fastener made by BF Goodrich in Mercury, Gemini, and Apollo. </span><span class='doc-sentence query-7' data-score-color='rgba(50,205,50,0.7537304639820219)'>During the Mercury program, when I was running the Mercury suit program, I went to BF Goodrich because we were having problems with leakage. </span><span class='doc-sentence query-17' data-score-color='rgba(50,205,50,0.8591006646490787)'>and it's a proprietary designed and manufactured product. </span><span class='doc-sentence ' data-score-color=''>Okay. </span><span class='doc-sentence ' data-score-color=''>And they gave me a tour of the facility where they manufactured closures and it was extremely dirty, uncontrolled in my mind. </span><span class='doc-sentence ' data-score-color=''>And we tried to get them to clean up their act and fix their processes and they would not do that because it was a commercial product which they sold lots of and our need was small in terms of quantity. </span><span class='doc-sentence ' data-score-color=''>So they did agree that they would do an extra detailed inspection on the finished product before they delivered them on our purchase orders which we used in Mercury, Gemini and Apollo and did solve a lot of our problems. </span><span class='doc-sentence ' data-score-color=''>But if you go out and get a commercial BFG slide fastener you won't get the one we used. </span><span class='doc-sentence ' data-score-color=''>An interesting story the Russians purchased back then it was Soviet Russian Russians purchased 50 slide fast </span></p>"
      ],
      "text/plain": [
       "<IPython.core.display.HTML object>"
      ]
     },
     "metadata": {},
     "output_type": "display_data"
    }
   ],
   "source": [
    "output = output_storage['output']\n",
    "ordered_docs = output_storage['ordered_docs']\n",
    "n_con = output_storage['n_contexts']\n",
    "\n",
    "extracts = ordered_docs[:n_con]\n",
    "# Example usage\n",
    "from IPython.display import display, HTML\n",
    "queries = [output]\n",
    "num_top_returned = 5\n",
    "contexts = [doc['text'] for doc in extracts]\n",
    "results = rag_visualisation.find_snippet(contexts, queries, num_top_returned)\n",
    "html_content = rag_visualisation.generate_interactive_html(extracts, results)\n",
    "display(HTML(html_content))"
   ]
  }
 ],
 "metadata": {
  "kernelspec": {
   "display_name": "llm_rag",
   "language": "python",
   "name": "python3"
  },
  "language_info": {
   "codemirror_mode": {
    "name": "ipython",
    "version": 3
   },
   "file_extension": ".py",
   "mimetype": "text/x-python",
   "name": "python",
   "nbconvert_exporter": "python",
   "pygments_lexer": "ipython3",
   "version": "3.11.9"
  }
 },
 "nbformat": 4,
 "nbformat_minor": 2
}
