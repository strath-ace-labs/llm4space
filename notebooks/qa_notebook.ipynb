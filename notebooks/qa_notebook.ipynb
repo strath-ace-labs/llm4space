{
 "cells": [
  {
   "cell_type": "markdown",
   "metadata": {},
   "source": [
    "## Document Question Answering Notebook"
   ]
  },
  {
   "cell_type": "markdown",
   "metadata": {},
   "source": [
    "## Setup: \n",
    "\n",
    "- Make sure you have installed the required packages (see requirements.txt)\n",
    "- Make sure you have preprocessed the documents (see README.md)\n",
    "- You also need a working internet connection to download the AI language models \n",
    "- You should have at least 8GB of RAM installed on your machine (Also a GPU is preferred for faster response generation)\n",
    "\n",
    "## How to run: \n",
    "- Run Setup notebook cells for downloading the models and loading the preprocessed documents\n",
    "- If you run the notebook for the first time, it will take a while to download the models so grab a cup of coffee :)\n",
    "- The code will automatically decide which model to download based on if a GPU is available or not ( change the device parameter in the \"load_inference_model\" function to set manually )\n",
    "- Either choose a predefined example query from the dropdown or enter your own query\n",
    "- The current standard settings are to extract the 3 top snippets from the documents collection to base the model answer on it\n",
    "\n",
    "## Visualisation:\n",
    "- Visualise the output of the model and compare it with the extracted snippets from the documents\n",
    "- The visualisation is currently highlighting the 5 top sentences that influenced the answer generation\n",
    "\n"
   ]
  },
  {
   "cell_type": "markdown",
   "metadata": {},
   "source": [
    "### Setup: "
   ]
  },
  {
   "cell_type": "code",
   "execution_count": 1,
   "metadata": {},
   "outputs": [
    {
     "name": "stderr",
     "output_type": "stream",
     "text": [
      "/home/paul/miniconda3/envs/papermage/lib/python3.11/site-packages/sentence_transformers/cross_encoder/CrossEncoder.py:11: TqdmExperimentalWarning: Using `tqdm.autonotebook.tqdm` in notebook mode. Use `tqdm.tqdm` instead to force console mode (e.g. in jupyter console)\n",
      "  from tqdm.autonotebook import tqdm, trange\n",
      "[nltk_data] Downloading package punkt to /home/paul/nltk_data...\n",
      "[nltk_data]   Package punkt is already up-to-date!\n",
      "[nltk_data] Downloading package stopwords to /home/paul/nltk_data...\n",
      "[nltk_data]   Package stopwords is already up-to-date!\n"
     ]
    }
   ],
   "source": [
    "## automatic reload when imported files change\n",
    "%load_ext autoreload\n",
    "%autoreload 2\n",
    "\n",
    "import sys \n",
    "sys.path.append('../')\n",
    "import rag.rag_retrieval_utils as rag_utils\n",
    "import rag.rag_visualisation as rag_visualisation\n",
    "import rag.rag_llm_classes as rag_llm_classes\n",
    "\n",
    "import pandas as pd \n",
    "\n",
    "from sentence_transformers import SentenceTransformer\n",
    "import json "
   ]
  },
  {
   "cell_type": "code",
   "execution_count": 2,
   "metadata": {},
   "outputs": [
    {
     "name": "stderr",
     "output_type": "stream",
     "text": [
      "/home/paul/miniconda3/envs/papermage/lib/python3.11/site-packages/huggingface_hub/file_download.py:1132: FutureWarning: `resume_download` is deprecated and will be removed in version 1.0.0. Downloads always resume when possible. If you want to force a new download, use `force_download=True`.\n",
      "  warnings.warn(\n"
     ]
    },
    {
     "name": "stdout",
     "output_type": "stream",
     "text": [
      "Loading GPU model\n",
      "Loading GPU model\n"
     ]
    },
    {
     "name": "stderr",
     "output_type": "stream",
     "text": [
      "Special tokens have been added in the vocabulary, make sure the associated word embeddings are fine-tuned or trained.\n"
     ]
    },
    {
     "data": {
      "application/vnd.jupyter.widget-view+json": {
       "model_id": "6cddfcad34394dc1a5027746ea35f87b",
       "version_major": 2,
       "version_minor": 0
      },
      "text/plain": [
       "Loading checkpoint shards:   0%|          | 0/4 [00:00<?, ?it/s]"
      ]
     },
     "metadata": {},
     "output_type": "display_data"
    },
    {
     "name": "stdout",
     "output_type": "stream",
     "text": [
      "../datasets/chunked_documents/esa_documents/chunking_cks_1024_ovl_8\n"
     ]
    }
   ],
   "source": [
    "## Load embedding model \n",
    "model_emb = SentenceTransformer('BAAI/bge-large-zh-v1.5')\n",
    "\n",
    "## Load LLM model\n",
    "## either device == 'cpu' or 'cuda' (for GPU) or None for self-selection\n",
    "llm = rag_llm_classes.load_inference_model(device = \"cuda\")\n",
    "\n",
    "## Load document chunks \n",
    "input_path = \"../datasets/chunked_documents/esa_documents/chunking_cks_1024_ovl_8.json\"\n",
    "docs = rag_utils.load_data(input_path) \n",
    "\n",
    "## drop duplicates according to the text column\n",
    "data = pd.DataFrame(docs)\n",
    "data.drop_duplicates(subset=['text'], inplace=True)\n",
    "docs = data.to_json(orient='records')\n",
    "docs = json.loads(docs)\n",
    "\n",
    "input_path = \"../datasets/example_questions/esa_test_queries.json\"\n",
    "with open(input_path, 'r') as json_file:\n",
    "    example_queries = json.load(json_file)\n",
    "    example_queries = [data['question'] for data in example_queries[:9]]"
   ]
  },
  {
   "cell_type": "markdown",
   "metadata": {},
   "source": [
    "### Question Answering"
   ]
  },
  {
   "cell_type": "code",
   "execution_count": 3,
   "metadata": {},
   "outputs": [
    {
     "data": {
      "application/vnd.jupyter.widget-view+json": {
       "model_id": "dd52f1d98f38458a8824ea53d2247627",
       "version_major": 2,
       "version_minor": 0
      },
      "text/plain": [
       "Dropdown(description='Example Queries:', options=(\"How did the L-band hybrid HPA's integration into the L40 pa…"
      ]
     },
     "metadata": {},
     "output_type": "display_data"
    },
    {
     "data": {
      "application/vnd.jupyter.widget-view+json": {
       "model_id": "e1a03bf1b8c04cff9893078dab66d6c5",
       "version_major": 2,
       "version_minor": 0
      },
      "text/plain": [
       "Text(value='', description='Query:', placeholder='Type your own query here')"
      ]
     },
     "metadata": {},
     "output_type": "display_data"
    },
    {
     "data": {
      "application/vnd.jupyter.widget-view+json": {
       "model_id": "a5a67cee8ef1428b813c06dd20f7c881",
       "version_major": 2,
       "version_minor": 0
      },
      "text/plain": [
       "Button(description='Submit', style=ButtonStyle())"
      ]
     },
     "metadata": {},
     "output_type": "display_data"
    },
    {
     "data": {
      "application/vnd.jupyter.widget-view+json": {
       "model_id": "649f1a732bbb4c59a8d37047b55c24d1",
       "version_major": 2,
       "version_minor": 0
      },
      "text/plain": [
       "Label(value='')"
      ]
     },
     "metadata": {},
     "output_type": "display_data"
    },
    {
     "name": "stdout",
     "output_type": "stream",
     "text": [
      "You selected: \"What were the techniques employed for Dynamic Spectrum Sharing in the Codysun project?\"\n",
      "___________________________________\n",
      "WAIT: Running answer generation...\n",
      "{'question': 'What were the techniques employed for Dynamic Spectrum Sharing in the Codysun project?', 'prompt': '<|start_header_id|>user<|end_header_id|>\\n\\nCONTEXT:  26 – Adhesion of alumina tuning dielectric to the silver-plated aluminium alloy waveguide 5.8.5 Securing of Magnets and Magnetic Circuit As shown in the exploded diagram of a circulator assembly in Figure 18, the magnets and compensating rings can be housed within a recess in the body and lid and have the U-shaped return path, secured by stainless steel screw fixings, closing the recess. To avoid any movement of the magnets inside the cavity they are potted with 3M 2216 epoxy which has been qualified used successfully in space products at Honeywell Aerospace. It is proposed to continue to use these materials and processes in the Q-band isolator design.ESA Contract No: 4000108021 SUBJECT: High Power Q-Band Isolator - Final Report CONTRACTOR: COM DEV Europe Limited (t/a Honeywell) ESA CR( )No: 4000108021/2013/NL/WE No. of Volumes:….1 This is Volume No:…1 CONTRATOR’s REFERENCE: 11036-000-REP-FR Issue B Page 35 5.9 Summary and Recommendation from task 102 materials assessment Progressing forward with task 103 of the Q-band isolator development, the aim was to design a ¼-wave coupled junction design and a ½-wave coupled junction design based on using the 3-5000 series lithium spinels from Pacific Ceramics, the TT2-111 and TT86-6000 nickel spinels from Trans Tech Inc, and the A50 lithium spinel and the NZ50 nickel spinel from Temex Ceramics. The ¼-wave junction design would be based on using molybdenum-copper inserts onto which the ferrite resonators are soldered for best heat conduction. The inserts would then be either soldered or adhered with a high electrical and thermal conductivity adhesive into a silver-plated aluminium alloy housing. The first of the ½-wave junction design possibilities with the dielectric / ferrite / dielectric structure would follow a similar flow to that of the ¼-wave junction. The second ½-wave junction design with the ferrite cylinder within a dielectric ring could have been simply adhered into the silver-plated aluminium waveguide housing since the thermal dissipation within this structure is spread out over a far larger area making the mounting seam far less critical. A separate matched termination would be designed, based on using Resin Systems RS-4200CHP silicon carbide composite material mounted in an aluminium alloy housing. The goal of the design would be to dissipate the power over as large an area as possible within the assembly to minimise the temperature rises and stresses on the materials. 6. TASK 103 INTRODUCTION This section of the report presents the detailed design of the Q-band isolator which is split into a number of steps described as follows: \\uf0b7 3-port junction circulator design – where the basic ferrite junction is designed to provide optimal transmission and reflection properties for the microwave signal \\uf0b7 Load design – where a ceramic load is designed to dissipate power reflected back into the isolator (up to 100% of the transmitted power) and maintain a good match to the RF over the frequency band and operating temperature range. \\uf0b7 Isolator design, where the two previous steps are combined to provide the isolator function. 6.1 3-Port Circulator Junction Design 6.1.1 Introduction The circulator design follows the work flow chart shown in Figure 27. A ferrite material with a saturation magnetisation of 5000 Gauss was selected for the design, as this gives a normalised magnetisation of 0.33, which is slightly outside the normal 0.4 to 0.8 operating range usually chosen for a ferrite material, but is the maximum value available due to the upper limit on the magnetisation moment of microwave ferrite materials. Initial geometries for the junction were roughly derived by review of possible junction topologies and then frequency / waveguide scaling of existing circulator designs.ESA Contract No: 4000108021 SUBJECT: High Power Q-Band Isolator - Final Report CONTRACTOR: COM DEV Europe Limited (t/a Honeywell) ESA CR( )No: 4000108021/2013/NL/WE No. of Volumes:….1 This is Volume No:…1 CONTRATOR’s REFERENCE: 11036-000-REP-FR Issue B Page 36 Figure 27 – Design Workflow The circulator RF design optimisation was carried out using the CST Microwave Studio finite element analysis software, allowing different geometries to be trialled and modified relatively quickly. Design parameters included: \\uf0b7 Ferrite shape - typically triangular prism or cylinder, but, in principle, any shape with the required 120° rotational symmetry \\uf0b7 Transformer shape (typically triangular, circular or rectangular) \\uf0b7 Ferrite size (diameter, thickness) \\uf0b7 Pedestal height (if any) �\\n___________________\\n As an optical source a Syntune laser was used with a wavelength of 1550 nm and an optical output power of 13 dBm. However, since there is no optical amplification after the MZM and the optical power at the photodetector is paramount to a good conversion gain, it was decided to maximize the optical power injection into the PIC. Therefor an EDFA was used to boost the optical power to 20 dBm. The coupling loss is estimated to be 3-5 dB from the imec PDK. We also maximized the driving power of the LO phase shifter, as this should improve the mixing efficiency. This was done by using a SHF 50 GHz amplifier with 24 dB of small-signal gain. However the amplifier saturates at an output power of 18 dBm (5 V pp ), limiting the maximum LO driving power. Figure 5-28: Overview of silicon push-pull mixer assembly 1 with CW light input. Optical carrier suppression is needed to achieve optimal down conversion. To achieve this the DPMZM contains three thermo-optic phase shifters which can be used to bias the MZM structure at minimum transmission. The minimum transmission point can be found by adjusting the thermo-optic phase shifters until a minimum amount of photocurrent is achieved. During this procedure it was found that the thermo-optic phase shifter of the LO MZM was not functional. However using the RF and main MZM thermo-optic phase shifter carrier suppression was achieved. We then down mixed an RF input of 26 GHz to 20 GHz using a LO signal of 6 GHz. For a bias voltage of -2 V at the APD an IF signal with a power of -56 dBm was found (frequency = 20 GHz). Again this low output power is mainly due to the fact that no optical amplification is integrated on the PIC after the MZM. We then proceeded to a measurement with pulsed light. We replaced the CW laser with the commercial MLL that was previously used (Calmar PSL-10-TT). In contrast to the measurement with the standard imec modulator an EDFA was used to boost the optical power to 20 dBm before sending the pulses to the PIC. Although the average power coupled to the PIC is identical to the CW laser measurement, the photocurrent at the photodiode was found to be lower. In the pulsed case, using carrier suppression, 8 uA was measured compared to 30 uA for the CW laser. Since the photocurrent is very small, this cannot be explained by PD saturation. This implies that there is a higher passive loss in the optical waveguides. The pulsed laser has a 10 GHz repetition rate and a pulse width of 3 ps, this implies that the peak power is approximately 30 times higher than the average power. The silicon waveguide starts to showElectro-Photonic Frequency Converter │ Final Report │ EPFC-AS-REP-0093 Issue 01.00 The copyright in this document is vested in Antwerp Space. This document may only be reproduced in whole or in part, or stored in a retrieval system, or transmitted in any form, or by any means electronic, mechanical, photocopying or otherwise, either with the prior permission of Antwerp Space or in accordance with the terms of ESTEC Contract no 4000105733. Page 70 of 85 non-linear losses above 50 mW, it is therefore safe to assume that a large portion of the optical power is absorbed in the first part of the silicon waveguide. We then proceeded to increase the reverse bias on the APD to increase the IF signal strength. However, when increasing the reverse bias it was found that the APD stopped functioning. We assume that we biased the APD to close to breakdown voltage while illuminating it with too high power pulses, causing irreversible damage to the APD. This was unexpected as we have measured the APD mechanism under higher pulsed power and did not find any breakdown. However, we continued our measurements with a second PCB with a DPMZM silicon mixer from the same die. 5.2.2.2 Assembly 2 For the second assembly we followed the same measurement routine described in the previous section. The PCB is identical in design to the previous assembly, the PIC is also almost identical except for a slight modification to the doping which shows very little influence as can be seen from the measurement of the individual devices prevented in a previous section in this document. One added benefit of this device was that all heater based phase shifters were working, therefore both the child MZMs could be biased at minimum. Combined with the biasing of the mother MZM optimal carrier suppression was achieved. We then performed first the CW mixing experiment again as is described in the previous section. 5.2.2.2.1 CW experiment The same IF signal strength was obtained, however with a lower average photoc\\n___________________\\n, G. A. [1989], “Millimeter-wave attenuation and delay rates due to frog/cloud conditions”, IEEE Trans. Ant. Prop., 37, pp 1617-12. 22. Ventouras S, S.A Callaghan, and C.L.Wrench [2006],”Long-term statistics of tropospheric attenuation from the Ka/U band ITALSAT satellite experiment in the United Kingdom”, Radio Science, Vol.41, RS2007 23. Gunn, K.L.S. and East, T.W.R [1954],”The microwave properties of precipitation particles”, Q.J. Roy. Meteor. Soc., 80, 522-545,doi:10.1002/qj.49708034603. 24. COST 255, Radiowave propagation modelling for SatCom services at Ku Bandand above’, ESA Publications Division, 2002, ISBN 92-9092-608-2, ISSN 0379-6566. 25. Dissanayake, A., Allnutt, J. and Haidara, F. [1997], “A prediction model that combines rain attenuation and other propagation impairments along Earth- satellite paths”, IEEE Trans. Ant. Prop., 45, pp 1546 – 1558. 26. Callaghan et al. [2006], “Spectrum exploitation for non-terrestrial systems operating above 10 GHz”, OFCOM contract. 27. Jeannin N, Boulanger X, Féral L, Castanet L, Lacoste F. Inter-annual variability, risk and confidence intervals associated with propagation statistics. Part I: theory of estimation, Int. J. Satell. Commun. Network. (2013). DOI: 10.1002/sat.1060 28. J. P. V. Poiares Baptista, Z. W. Zhang and N. J. McEwan, ”Stability ofRainRate Cumulative Distributions”, Electronic Letters, Vol 22, No. 7,Mar 1986, pp. 350- 352 29. Paulson, K. S. (2010), Trends in the incidence of rain rates associated with outages on fixed links operating above 10 GHz in the southern United Kingdom, Radio Sci., 45, RS1011, doi:10.1029/2009RS004193. 30. E. Matricciani, C. Riva, The search for the most reliable long-term rain attenuation cdf of a slant path and the impact on prediction models, IEEE Transactions on Antennas and Propagation, 2005, 53, 3075-3079.ESA/ESTEC 4000109354/13/NL/NR 149 31. J. Haddon, E. Vilar: \"Scattering Induced Microwave Scintillations from Clear Air and Rain on Earth Space Paths and the Influence of Antenna Aperture\", IEE Trans. AP, Vol. AP-34, No. 5, May, 1986, pp 649-657. 32. Dintelmann F., (Editor), “Reference book on depolarisation”, 2nd Opex Workshop, ESA, WPP-083, Noordwijk, 1994. 33. Martellucci A. and Paraboni A. [1998], “Test and development of models of atmospheric crosspolar discrimination for satellite communications systems at Ka- and V-band”, Proc. 1st International Workshop on Radiowave Propagation Modelling for SatCom Services at Ku-band and Above, ESTEC, Noordwijk, The Netherlands, 28-29 October 1998. 34. van de Kamp, M. M. J. L. [1999], “Climatic radiowave propagation models for the design of satellite communication systems”, Doctoral Thesis, Technical University of Eindhoven. 35. Martellucci, A, Poiares Baptista, J. P. V. and Blarzino, G. [2002], “New climatological databases for ice depolarization on satellite radio links”, Proc. 1st Int. Workshop on Propagation Impairment Mitigation for Millimetre Wave RadioSystems, COST Action 280, July 2002, Malvern, UK. 36. Amaya C. [2000], “Separation of rain and ice contributions to depolarization on slant path links”, Proc. Ant Prop. And EM Theory 2000, ISAPE 2000, pp. 29-32. 37. Amaya C. and Vanhoenacker-Janvier D [2000]., “Estimation of effective ice content on earth-satellite paths from dualpolarisation measurements at Ka-band”, IEE Proc. Microw. Ant. Prop., vol.\\n___________________\\nQUESTION: What were the techniques employed for Dynamic Spectrum Sharing in the Codysun project?<|eot_id|><|start_header_id|>assistant<|end_header_id|>\\n\\nANSWER:', 'context': [' 26 – Adhesion of alumina tuning dielectric to the silver-plated aluminium alloy waveguide 5.8.5 Securing of Magnets and Magnetic Circuit As shown in the exploded diagram of a circulator assembly in Figure 18, the magnets and compensating rings can be housed within a recess in the body and lid and have the U-shaped return path, secured by stainless steel screw fixings, closing the recess. To avoid any movement of the magnets inside the cavity they are potted with 3M 2216 epoxy which has been qualified used successfully in space products at Honeywell Aerospace. It is proposed to continue to use these materials and processes in the Q-band isolator design.ESA Contract No: 4000108021 SUBJECT: High Power Q-Band Isolator - Final Report CONTRACTOR: COM DEV Europe Limited (t/a Honeywell) ESA CR( )No: 4000108021/2013/NL/WE No. of Volumes:….1 This is Volume No:…1 CONTRATOR’s REFERENCE: 11036-000-REP-FR Issue B Page 35 5.9 Summary and Recommendation from task 102 materials assessment Progressing forward with task 103 of the Q-band isolator development, the aim was to design a ¼-wave coupled junction design and a ½-wave coupled junction design based on using the 3-5000 series lithium spinels from Pacific Ceramics, the TT2-111 and TT86-6000 nickel spinels from Trans Tech Inc, and the A50 lithium spinel and the NZ50 nickel spinel from Temex Ceramics. The ¼-wave junction design would be based on using molybdenum-copper inserts onto which the ferrite resonators are soldered for best heat conduction. The inserts would then be either soldered or adhered with a high electrical and thermal conductivity adhesive into a silver-plated aluminium alloy housing. The first of the ½-wave junction design possibilities with the dielectric / ferrite / dielectric structure would follow a similar flow to that of the ¼-wave junction. The second ½-wave junction design with the ferrite cylinder within a dielectric ring could have been simply adhered into the silver-plated aluminium waveguide housing since the thermal dissipation within this structure is spread out over a far larger area making the mounting seam far less critical. A separate matched termination would be designed, based on using Resin Systems RS-4200CHP silicon carbide composite material mounted in an aluminium alloy housing. The goal of the design would be to dissipate the power over as large an area as possible within the assembly to minimise the temperature rises and stresses on the materials. 6. TASK 103 INTRODUCTION This section of the report presents the detailed design of the Q-band isolator which is split into a number of steps described as follows: \\uf0b7 3-port junction circulator design – where the basic ferrite junction is designed to provide optimal transmission and reflection properties for the microwave signal \\uf0b7 Load design – where a ceramic load is designed to dissipate power reflected back into the isolator (up to 100% of the transmitted power) and maintain a good match to the RF over the frequency band and operating temperature range. \\uf0b7 Isolator design, where the two previous steps are combined to provide the isolator function. 6.1 3-Port Circulator Junction Design 6.1.1 Introduction The circulator design follows the work flow chart shown in Figure 27. A ferrite material with a saturation magnetisation of 5000 Gauss was selected for the design, as this gives a normalised magnetisation of 0.33, which is slightly outside the normal 0.4 to 0.8 operating range usually chosen for a ferrite material, but is the maximum value available due to the upper limit on the magnetisation moment of microwave ferrite materials. Initial geometries for the junction were roughly derived by review of possible junction topologies and then frequency / waveguide scaling of existing circulator designs.ESA Contract No: 4000108021 SUBJECT: High Power Q-Band Isolator - Final Report CONTRACTOR: COM DEV Europe Limited (t/a Honeywell) ESA CR( )No: 4000108021/2013/NL/WE No. of Volumes:….1 This is Volume No:…1 CONTRATOR’s REFERENCE: 11036-000-REP-FR Issue B Page 36 Figure 27 – Design Workflow The circulator RF design optimisation was carried out using the CST Microwave Studio finite element analysis software, allowing different geometries to be trialled and modified relatively quickly. Design parameters included: \\uf0b7 Ferrite shape - typically triangular prism or cylinder, but, in principle, any shape with the required 120° rotational symmetry \\uf0b7 Transformer shape (typically triangular, circular or rectangular) \\uf0b7 Ferrite size (diameter, thickness) \\uf0b7 Pedestal height (if any) �', ' As an optical source a Syntune laser was used with a wavelength of 1550 nm and an optical output power of 13 dBm. However, since there is no optical amplification after the MZM and the optical power at the photodetector is paramount to a good conversion gain, it was decided to maximize the optical power injection into the PIC. Therefor an EDFA was used to boost the optical power to 20 dBm. The coupling loss is estimated to be 3-5 dB from the imec PDK. We also maximized the driving power of the LO phase shifter, as this should improve the mixing efficiency. This was done by using a SHF 50 GHz amplifier with 24 dB of small-signal gain. However the amplifier saturates at an output power of 18 dBm (5 V pp ), limiting the maximum LO driving power. Figure 5-28: Overview of silicon push-pull mixer assembly 1 with CW light input. Optical carrier suppression is needed to achieve optimal down conversion. To achieve this the DPMZM contains three thermo-optic phase shifters which can be used to bias the MZM structure at minimum transmission. The minimum transmission point can be found by adjusting the thermo-optic phase shifters until a minimum amount of photocurrent is achieved. During this procedure it was found that the thermo-optic phase shifter of the LO MZM was not functional. However using the RF and main MZM thermo-optic phase shifter carrier suppression was achieved. We then down mixed an RF input of 26 GHz to 20 GHz using a LO signal of 6 GHz. For a bias voltage of -2 V at the APD an IF signal with a power of -56 dBm was found (frequency = 20 GHz). Again this low output power is mainly due to the fact that no optical amplification is integrated on the PIC after the MZM. We then proceeded to a measurement with pulsed light. We replaced the CW laser with the commercial MLL that was previously used (Calmar PSL-10-TT). In contrast to the measurement with the standard imec modulator an EDFA was used to boost the optical power to 20 dBm before sending the pulses to the PIC. Although the average power coupled to the PIC is identical to the CW laser measurement, the photocurrent at the photodiode was found to be lower. In the pulsed case, using carrier suppression, 8 uA was measured compared to 30 uA for the CW laser. Since the photocurrent is very small, this cannot be explained by PD saturation. This implies that there is a higher passive loss in the optical waveguides. The pulsed laser has a 10 GHz repetition rate and a pulse width of 3 ps, this implies that the peak power is approximately 30 times higher than the average power. The silicon waveguide starts to showElectro-Photonic Frequency Converter │ Final Report │ EPFC-AS-REP-0093 Issue 01.00 The copyright in this document is vested in Antwerp Space. This document may only be reproduced in whole or in part, or stored in a retrieval system, or transmitted in any form, or by any means electronic, mechanical, photocopying or otherwise, either with the prior permission of Antwerp Space or in accordance with the terms of ESTEC Contract no 4000105733. Page 70 of 85 non-linear losses above 50 mW, it is therefore safe to assume that a large portion of the optical power is absorbed in the first part of the silicon waveguide. We then proceeded to increase the reverse bias on the APD to increase the IF signal strength. However, when increasing the reverse bias it was found that the APD stopped functioning. We assume that we biased the APD to close to breakdown voltage while illuminating it with too high power pulses, causing irreversible damage to the APD. This was unexpected as we have measured the APD mechanism under higher pulsed power and did not find any breakdown. However, we continued our measurements with a second PCB with a DPMZM silicon mixer from the same die. 5.2.2.2 Assembly 2 For the second assembly we followed the same measurement routine described in the previous section. The PCB is identical in design to the previous assembly, the PIC is also almost identical except for a slight modification to the doping which shows very little influence as can be seen from the measurement of the individual devices prevented in a previous section in this document. One added benefit of this device was that all heater based phase shifters were working, therefore both the child MZMs could be biased at minimum. Combined with the biasing of the mother MZM optimal carrier suppression was achieved. We then performed first the CW mixing experiment again as is described in the previous section. 5.2.2.2.1 CW experiment The same IF signal strength was obtained, however with a lower average photoc', ', G. A. [1989], “Millimeter-wave attenuation and delay rates due to frog/cloud conditions”, IEEE Trans. Ant. Prop., 37, pp 1617-12. 22. Ventouras S, S.A Callaghan, and C.L.Wrench [2006],”Long-term statistics of tropospheric attenuation from the Ka/U band ITALSAT satellite experiment in the United Kingdom”, Radio Science, Vol.41, RS2007 23. Gunn, K.L.S. and East, T.W.R [1954],”The microwave properties of precipitation particles”, Q.J. Roy. Meteor. Soc., 80, 522-545,doi:10.1002/qj.49708034603. 24. COST 255, Radiowave propagation modelling for SatCom services at Ku Bandand above’, ESA Publications Division, 2002, ISBN 92-9092-608-2, ISSN 0379-6566. 25. Dissanayake, A., Allnutt, J. and Haidara, F. [1997], “A prediction model that combines rain attenuation and other propagation impairments along Earth- satellite paths”, IEEE Trans. Ant. Prop., 45, pp 1546 – 1558. 26. Callaghan et al. [2006], “Spectrum exploitation for non-terrestrial systems operating above 10 GHz”, OFCOM contract. 27. Jeannin N, Boulanger X, Féral L, Castanet L, Lacoste F. Inter-annual variability, risk and confidence intervals associated with propagation statistics. Part I: theory of estimation, Int. J. Satell. Commun. Network. (2013). DOI: 10.1002/sat.1060 28. J. P. V. Poiares Baptista, Z. W. Zhang and N. J. McEwan, ”Stability ofRainRate Cumulative Distributions”, Electronic Letters, Vol 22, No. 7,Mar 1986, pp. 350- 352 29. Paulson, K. S. (2010), Trends in the incidence of rain rates associated with outages on fixed links operating above 10 GHz in the southern United Kingdom, Radio Sci., 45, RS1011, doi:10.1029/2009RS004193. 30. E. Matricciani, C. Riva, The search for the most reliable long-term rain attenuation cdf of a slant path and the impact on prediction models, IEEE Transactions on Antennas and Propagation, 2005, 53, 3075-3079.ESA/ESTEC 4000109354/13/NL/NR 149 31. J. Haddon, E. Vilar: \"Scattering Induced Microwave Scintillations from Clear Air and Rain on Earth Space Paths and the Influence of Antenna Aperture\", IEE Trans. AP, Vol. AP-34, No. 5, May, 1986, pp 649-657. 32. Dintelmann F., (Editor), “Reference book on depolarisation”, 2nd Opex Workshop, ESA, WPP-083, Noordwijk, 1994. 33. Martellucci A. and Paraboni A. [1998], “Test and development of models of atmospheric crosspolar discrimination for satellite communications systems at Ka- and V-band”, Proc. 1st International Workshop on Radiowave Propagation Modelling for SatCom Services at Ku-band and Above, ESTEC, Noordwijk, The Netherlands, 28-29 October 1998. 34. van de Kamp, M. M. J. L. [1999], “Climatic radiowave propagation models for the design of satellite communication systems”, Doctoral Thesis, Technical University of Eindhoven. 35. Martellucci, A, Poiares Baptista, J. P. V. and Blarzino, G. [2002], “New climatological databases for ice depolarization on satellite radio links”, Proc. 1st Int. Workshop on Propagation Impairment Mitigation for Millimetre Wave RadioSystems, COST Action 280, July 2002, Malvern, UK. 36. Amaya C. [2000], “Separation of rain and ice contributions to depolarization on slant path links”, Proc. Ant Prop. And EM Theory 2000, ISAPE 2000, pp. 29-32. 37. Amaya C. and Vanhoenacker-Janvier D [2000]., “Estimation of effective ice content on earth-satellite paths from dualpolarisation measurements at Ka-band”, IEE Proc. Microw. Ant. Prop., vol.'], 'response': ' There is no mention of the Codysun project or Dynamic Spectrum Sharing in the provided text. The text appears to be a report on a project related to the development of a high-power Q-band isolator and an electro-photonic frequency converter, and discusses various technical aspects of the project, including materials assessment, circulator design, and measurement results.<|eot_id|>', 'date_created': '2024-06-13T13:46:00.566654', 'model': 'meta-llama/Meta-Llama-3-8B-Instruct', 'generate_config_dict': {'max_new_tokens': 600, 'do_sample': True, 'num_beams': 1, 'num_return_sequences': 1, 'temperature': 0.2, 'top_p': 0.95, 'min_new_tokens': 256, 'begin_suppress_tokens': [128009]}, 'device': 'cuda'}\n",
      "Done..\n",
      "___________________________________\n",
      "ANSWER:   There is no mention of the Codysun project or Dynamic Spectrum Sharing in the provided text. The text appears to be a report on a project related to the development of a high-power Q-band isolator and an electro-photonic frequency converter, and discusses various technical aspects of the project, including materials assessment, circulator design, and measurement results.<|eot_id|>\n",
      "___________________________________\n"
     ]
    }
   ],
   "source": [
    "import ipywidgets as widgets\n",
    "from IPython.display import display\n",
    "\n",
    "# Create a dropdown widget\n",
    "dropdown = widgets.Dropdown(\n",
    "    options=example_queries,\n",
    "    value=example_queries[0],\n",
    "    description='Example Queries:',\n",
    ")\n",
    "\n",
    "# Create a text input widget\n",
    "text_input = widgets.Text(\n",
    "    value='',\n",
    "    placeholder='Type your own query here',\n",
    "    description='Query:',\n",
    ")\n",
    "\n",
    "# Create a button widget\n",
    "submit_button = widgets.Button(\n",
    "    description='Submit',\n",
    ")\n",
    "\n",
    "# Create a dictionary to store the output\n",
    "output_storage = {'output': None, 'ordered_docs': None}\n",
    "\n",
    "# Create a label widget to show the status\n",
    "status_label = widgets.Label(value='')\n",
    "\n",
    "# Display the dropdown, text input, button, and status label widgets\n",
    "display(dropdown)\n",
    "display(text_input)\n",
    "display(submit_button)\n",
    "display(status_label)\n",
    "\n",
    "# Function to handle query submission\n",
    "def on_submit(button):\n",
    "    query = text_input.value.strip()\n",
    "    if not query:  # If text input is empty, use the dropdown value\n",
    "        query = dropdown.value.strip()\n",
    "    \n",
    "    try:\n",
    "        # Update status label to indicate processing\n",
    "        status_label.value = 'Processing...'\n",
    "\n",
    "        print(f'You selected: \"{query}\"')\n",
    "        results, ordered_docs = rag_utils.semantic_search(query, docs, model_emb, top_k=5, verbose=False)\n",
    "        n_con = 3\n",
    "        contexts = [doc['text'] for doc in ordered_docs[:n_con]]\n",
    "        print(\"___________________________________\")\n",
    "        print(\"WAIT: Running answer generation...\")\n",
    "        output = llm.act(query, contexts)\n",
    "        print(\"Done..\")\n",
    "        \n",
    "        # Store the output in the dictionary for further analysis\n",
    "        output_storage['query'] = query\n",
    "        output_storage['output'] = output\n",
    "        output_storage['ordered_docs'] = ordered_docs\n",
    "        output_storage['n_contexts'] = n_con\n",
    "        # Update status label to indicate completion\n",
    "        status_label.value = 'Done.'\n",
    "        print(\"___________________________________\")\n",
    "        print(\"ANSWER: \", output)\n",
    "        print(\"___________________________________\")\n",
    "\n",
    "    except Exception as e:\n",
    "        # Handle any exceptions and update the status label\n",
    "        status_label.value = 'Error occurred.'\n",
    "        print(f\"An error occurred: {e}\")\n",
    "    \n",
    "    # Reset the text input widget after submission\n",
    "    text_input.value = ''\n",
    "\n",
    "# Attach the function to the button click event\n",
    "submit_button.on_click(on_submit)"
   ]
  },
  {
   "cell_type": "markdown",
   "metadata": {},
   "source": [
    "### Visualisation"
   ]
  },
  {
   "cell_type": "code",
   "execution_count": 14,
   "metadata": {},
   "outputs": [
    {
     "name": "stderr",
     "output_type": "stream",
     "text": [
      "/home/paul/pauld/projects/satne/satnex_llm_qa/notebooks/../rag/rag_visualisation.py:114: RuntimeWarning: invalid value encountered in scalar divide\n",
      "  score_colors = \" \".join([f\"rgba(50,205,50,{result['scores'][idx] / max(result['scores'])})\" for result in results if idx in result['top_indices']])\n"
     ]
    },
    {
     "data": {
      "text/html": [
       "\n",
       "    <style>\n",
       "        .query-sentence:hover { background-color: blue; cursor: pointer; }\n",
       "        .highlighted { background-color: green; }\n",
       "    </style>\n",
       "    <script>\n",
       "        function highlightSentences(queryIndex) {\n",
       "            var sentences = document.querySelectorAll('.doc-sentence');\n",
       "            sentences.forEach(function(sentence) {\n",
       "                sentence.style.backgroundColor = ''; // Reset background\n",
       "            });\n",
       "            var relevantSentences = document.querySelectorAll('.doc-sentence.query-' + queryIndex);\n",
       "            relevantSentences.forEach(function(sentence) {\n",
       "                sentence.style.backgroundColor = sentence.getAttribute('data-score-color');\n",
       "            });\n",
       "        }\n",
       "    </script>\n",
       "    <h3>Answer:</h3><ul><li class='query-sentence' onmouseover='highlightSentences(0)'> Based on the provided context, it seems that the Eurostar 3000 is a satellite system, and the question is about boosting its thermal capacity without expanding its height or repeater mounting area.</li><li class='query-sentence' onmouseover='highlightSentences(1)'>From the provided text, it is mentioned that the recommended developments for the platform level include:\n",
       "\n",
       "* Thermal control: Heat Pump System and Two-Phase Mechanically Pumped Loop.</li><li class='query-sentence' onmouseover='highlightSentences(2)'>To boost the thermal capacity of the Eurostar 3000 without expanding its height or repeater mounting area, the following options could be considered:\n",
       "\n",
       "1.</li><li class='query-sentence' onmouseover='highlightSentences(3)'>**Heat Pump System**: Implementing a heat pump system could help to efficiently transfer heat from the satellite's internal components to the external environment, reducing the thermal load on the system.</li><li class='query-sentence' onmouseover='highlightSentences(4)'>This could be achieved by using a heat pump unit that is specifically designed for satellite applications.</li><li class='query-sentence' onmouseover='highlightSentences(5)'>2.</li><li class='query-sentence' onmouseover='highlightSentences(6)'>**Two-Phase Mechanically Pumped Loop**: A two-phase mechanically pumped loop (2P-MPL) is a type of heat transfer system that uses a working fluid to transfer heat from the satellite's internal components to the external environment.</li><li class='query-sentence' onmouseover='highlightSentences(7)'>This system could be used to boost the thermal capacity of the Eurostar 3000 without expanding its height or repeater mounting area.</li><li class='query-sentence' onmouseover='highlightSentences(8)'>3.</li><li class='query-sentence' onmouseover='highlightSentences(9)'>**Advanced Thermal Management Materials**: Using advanced thermal management materials, such as high-thermal-conductivity materials or phase-change materials, could help to improve the thermal capacity of the Eurostar 3000 without expanding its height or repeater mounting area.</li><li class='query-sentence' onmouseover='highlightSentences(10)'>4.</li><li class='query-sentence' onmouseover='highlightSentences(11)'>**Optimized Thermal Design**: Optimizing the thermal design of the Eurostar 3000 could help to reduce the thermal load on the system.</li><li class='query-sentence' onmouseover='highlightSentences(12)'>This could be achieved by using advanced thermal analysis tools to identify areas of high thermal stress and optimizing the design to reduce heat generation and improve heat dissipation.</li><li class='query-sentence' onmouseover='highlightSentences(13)'>5.</li><li class='query-sentence' onmouseover='highlightSentences(14)'>**Passive Thermal Control**: Implementing passive thermal control measures, such as using thermal shields or thermal blankets, could help to reduce the thermal load on the Eurostar 3000 without expanding its height or repeater mounting area.</li><li class='query-sentence' onmouseover='highlightSentences(15)'>These are just a few potential options for boosting the thermal capacity of the Eurostar 3000 without expanding its height or repeater mounting area.</li><li class='query-sentence' onmouseover='highlightSentences(16)'>The specific solution would depend on the specific requirements and constraints of the system.<|eot_id|></li></ul><h3>Documents:</h3><p><br> Document Title: ESA STUDY CONTRACT</br><span class='doc-sentence query-10 query-16' data-score-color='rgba(50,205,50,nan) rgba(50,205,50,nan)'>/Q RF converters. </span><span class='doc-sentence query-0' data-score-color='rgba(50,205,50,0.6242941220709134)'>At antenna level, we recommend to develop large reflectors based on mesh and foldable tips technologies, to complement the development of a 3.5m solid reflector. </span><span class='doc-sentence ' data-score-color=''>In addition the development of small Ka and Q/V sources shall be envisaged as well as techniques to manufacture large blocks of sources. </span><span class='doc-sentence query-0 query-1 query-2 query-3 query-4 query-6 query-7 query-9 query-11 query-12 query-14 query-15' data-score-color='rgba(50,205,50,1.0) rgba(50,205,50,1.0) rgba(50,205,50,1.0) rgba(50,205,50,1.0) rgba(50,205,50,1.0) rgba(50,205,50,1.0) rgba(50,205,50,1.0) rgba(50,205,50,1.0) rgba(50,205,50,1.0) rgba(50,205,50,1.0) rgba(50,205,50,1.0) rgba(50,205,50,1.0)'>At platform level, the recommended developments can be categorized as following : • Thermal control : Heat Pump System and Two-Phase Mechanically Pumped Loop. </span><span class='doc-sentence query-12' data-score-color='rgba(50,205,50,0.2953194086692818)'>• Power generation :thin rigid solar array with thin 4J GaAs cell technology. </span><span class='doc-sentence query-6 query-8' data-score-color='rgba(50,205,50,0.19018098835928043) rgba(50,205,50,0.5547192151556157)'>• Energy storage : 250 W/kg Li-Ion battery.R EFERENCE : D ATE : 0005-0000789856 16/10/2012 I SSUE : 3 Page : 74/ 73 100181547K-EN-3 • Propulsion : Stationary Plasma Thruster to perform a part of the GTO to GEO transfer and all the station keeping manoeuvres. </span><span class='doc-sentence ' data-score-color=''>Possible development / manufacturing and delivery scenarios have been identified, in line with a deployment calendar targeting early 2020. </span><span class='doc-sentence query-2 query-3 query-4 query-7 query-9 query-12 query-14' data-score-color='rgba(50,205,50,0.5192349981994198) rgba(50,205,50,0.11240151423168272) rgba(50,205,50,0.446558260631252) rgba(50,205,50,0.5742490764291808) rgba(50,205,50,0.3461566654662798) rgba(50,205,50,0.2400810686290539) rgba(50,205,50,0.1483528566284056)'>They show the necessity to complete the EQM of the products in 2015 – 2016, even if some platform technologies as well as the optical products and the 5m antenna could come in 2017-2018’s timeframe. </span><span class='doc-sentence query-0 query-1 query-2 query-7 query-9 query-11 query-12 query-14 query-15' data-score-color='rgba(50,205,50,0.4938720803269699) rgba(50,205,50,0.14337910513190918) rgba(50,205,50,0.44655826063125204) rgba(50,205,50,0.4938720803269699) rgba(50,205,50,0.8931165212625042) rgba(50,205,50,0.703537457991098) rgba(50,205,50,0.41295438400439616) rgba(50,205,50,0.8931165212625037) rgba(50,205,50,0.8931165212625041)'>In addition flight opportunity shall be identified in priority for large reflectors (5m class), optical technologies, thin-rigid panels with 4J cell and the thermal control subsystems. </span><span class='doc-sentence query-1' data-score-color='rgba(50,205,50,0.07857857044910663)'>Nevertheless the Q/V-band products as well as the platform power subsystems should also benefit from flight heritage acquisition. </span><span class='doc-sentence query-4' data-score-color='rgba(50,205,50,0.3939277943428157)'>Given the level of innovation at both space and ground segments, the ARTES 5.2 and ARTES 3-4 programs are the appropriate vehicles to develop, qualify and demonstrate up to TRL 6 the needed space segment products and technology for telecom applications. </span><span class='doc-sentence ' data-score-color=''>The recently announced ATLAS sub-element (as a sub-set of ARTES 3-4) is a good complement to foster in- orbit validation of new technologies and support access to commercial market. </span><span class='doc-sentence query-10 query-16' data-score-color='rgba(50,205,50,nan) rgba(50,205,50,nan)'>Finally, PPP-like schemes are certainly a promising way to boost competitiveness by introducing innovative technologies and create the favourable conditions for new emerging market and services such as TERASAT concept (for instance ARTES 33 new ARTES element). </span><span class='doc-sentence query-10 query-16' data-score-color='rgba(50,205,50,nan) rgba(50,205,50,nan)'>END OF DOCUMENT </span></p><p><br> Document Title: Flexible Payload Roadmap</br><span class='doc-sentence query-10 query-16' data-score-color='rgba(50,205,50,nan) rgba(50,205,50,nan)'> OMT OMT OMT OMT x67 L N A 88 : 76 27. </span><span class='doc-sentence query-10 query-13 query-16' data-score-color='rgba(50,205,50,nan) rgba(50,205,50,1.0) rgba(50,205,50,nan)'>5 – 30. </span><span class='doc-sentence query-15' data-score-color='rgba(50,205,50,0.34663522904552546)'>0 G H z Selectivity 3:12 Selectivity 3:12 Selectivity 3:12 SCACEv222:18 SCACEv222:18 Dual EPC Dual EPC DMPM(LC)21:18 19.7 – 20.2 GHz 130 W x5 x31 x5 x31 SCACEv222:18 SCACEv2 22:18 Selectivity 12:3 Selectivity 12:3 Selectivity 12:3 SMPM(LC) 12:9 17.7 – 19.7 GHz 130 W EPC EPC EPC EPC x5 To Return From Forward FORWARD RETURN User Users User + GW GW x4 Users User + GW User + GW User + GW User + GW User + GW EU Roadmap: Case (b) Regular Frequency Plan Figure 6-52 Payload Block Diagram: Regular Frequency Plan Architecture (Case B) The repeater mass is estimated to be 707 Kg. </span><span class='doc-sentence ' data-score-color=''>The DC power is 9.1 kW with dissipation 8.3 kW 6.2.2.3 Case C - Irregular Frequency Plan Architecture The irregular frequency plan architecture is a further extension of the conventional architecture beyond that of the regular frequency plan. </span><span class='doc-sentence query-4' data-score-color='rgba(50,205,50,0.0)'>This concentrates on the user interface, uplink and downlink, enabling an in-orbit modification of the four colour frequency plan to accommodate isolated hot spots exceeding the 250 MHz constraint of the regular frequency plan. </span><span class='doc-sentence query-15' data-score-color='rgba(50,205,50,0.0)'>A variable inverted OMUX enables the operator to change the bandwidth allocated to any pair of beams (beams sharing the same TWTA). </span><span class='doc-sentence ' data-score-color=''>In this way individual beams can be increased in size beyond 250 MHz and the surrounding beams can be reduced in bandwidth in order to respect the four colour frequency re-use plan. </span><span class='doc-sentence ' data-score-color=''>The payload block diagram is shown below.ARTES 1 Flexible Payload Roadmap Ref: EUR3.TN.00006.DP.P.ASTR Issue: 01 Date: 29/09/2014 Page 138 The copyright in this document is vested in Airbus Defence and Space Ltd. </span><span class='doc-sentence query-0 query-3 query-6' data-score-color='rgba(50,205,50,0.22160227531885632) rgba(50,205,50,0.13012697273060847) rgba(50,205,50,0.039636943161497504)'>This document may only be reproduced in whole or in part, or stored in a retrieval system, or transmitted in any form, or by any means electronic, mechanical, photocopying or otherwise, either with the prior permission of Airbus Defence and Space Ltd or in accordance with the terms of ESTEC Contract no 400010564 EU Roadmap: Case (c) Irregular Frequency Plan Flex OMUXs OMT OMT OMT OMT OMT OMT x67 L N A 88 : 76 27. </span><span class='doc-sentence query-8 query-13' data-score-color='rgba(50,205,50,1.0) rgba(50,205,50,0.9554047873151394)'>5 – 3 0. </span><span class='doc-sentence query-9 query-15' data-score-color='rgba(50,205,50,0.1304237621649024) rgba(50,205,50,0.3912712864947072)'>0 G H z Selectivity 3:12 Selectivity 3:12 Selectivity 3:12 SCACEv222:18 SCACEv222:18 Dual EPC Dual EPC DMPM(LC)21:18 19.7 – 20.2 GHz 130 W x5 x31 SCACEv222:18 SCACEv222:18 Selectivity 12:3 Selectivity 12:3 Selectivity 12:3 SMPM(LC)12:9 17.7 – 19.7 GHz 130 W EPC EPC EPC EPC x5 To Return From Forward FORWARD RETURN GW x4 Users User + GW User + GW User + GW User + GW User + GW x5 x31 User Users User + GW Figure 6-53 Payload Block Diagram: Irregular Frequency Plan (Case C) The repeater mass is estimated to be 735.6Kg. </span><span class='doc-sentence ' data-score-color=''>The DC power is 9.1 kW with dissipation of 8.3 kWARTES 1 Flexible Payload Roadmap Ref: EUR3.TN.00006.DP.P.ASTR Issue: 01 Date: 29/09/2014 Page 139 The copyright in this document is vested in Airbus Defence and Space Ltd. </span><span class='doc-sentence query-3 query-5 query-6' data-score-color='rgba(50,205,50,0.12114327288079187) rgba(50,205,50,1.0) rgba(50,205,50,0.03690048973562467)'>This document may only be reproduced in whole or in part, or stored in a retrieval system, or transmitted in any form, or by any means electronic, mechanical, photocopying or otherwise, either with the prior permission of Airbus Defence and Space Ltd or in accordance with the terms of ESTEC Contract no 400010564 6.3 Ranking of Promising Technologies 6.3.1 C/Ku Band Following the assessment of the Annex C/Ku missions performed in Task 2 the preferred Technical Solutions have been assessed and it has been possible to rank these in relative usefulness and importance and to quantify which should be carried forward and proposed for further study and development. </span><span class='doc-sentence ' data-score-color=''>The outcome of the final ranking is shown in Table 6-19. </span><span class='doc-sentence query-5' data-score-color='rgba(50,205,50,0.0)'>Sub-System Equipment Technology Rank IP section Digital Multichannel Channeliser C/Ku-band (DMACE) DSP / Agile Converters 1 IP section BSS to FSS Receiver Converter 1 IP section Multiport Amplifiers </span></p><p><br> Document Title: Compact Global Coverage Antenna Final Report</br><span class='doc-sentence query-2 query-5 query-8 query-11 query-13' data-score-color='rgba(50,205,50,0.6324556863759867) rgba(50,205,50,0.0) rgba(50,205,50,0.0) rgba(50,205,50,0.39258286233271134) rgba(50,205,50,0.0)'> design can be considered as feasible from a multipaction point of view [AD3]. </span><span class='doc-sentence query-5 query-8 query-13' data-score-color='rgba(50,205,50,0.0) rgba(50,205,50,0.0) rgba(50,205,50,0.0)'>However, in some parts containing dielectrics, the worst-case margins found in the simulations are slightly lower than what is required for “qualification by analysis” according to the applicable ECSS standard. </span><span class='doc-sentence query-5 query-8 query-13' data-score-color='rgba(50,205,50,0.0) rgba(50,205,50,0.0) rgba(50,205,50,0.0)'>At the feed points of the lowest patch in each PEC, the margin between the worst case simulation and the in-orbit power is 9.35 dB, which is 0.65 dB lower than the 10 dB which is required for qualification by analysis. </span><span class='doc-sentence ' data-score-color=''>It shall be noted that the present PEC design contains parts of Ultem 2300 close to the critical path. </span><span class='doc-sentence query-7' data-score-color='rgba(50,205,50,0.7927432742358173)'>In the PEC design used for the conceptual trade-off in [RD 1], these parts were not used. </span><span class='doc-sentence query-2' data-score-color='rgba(50,205,50,0.5154207085617885)'>In such a case, the required margin becomes 8 dB instead of 10 and the PEC and the rat-race network can be considered as “qualified by analysis”. </span><span class='doc-sentence ' data-score-color=''>For the transition from the TNC connector to the barline, where Ultem 2300 is also used close to the critical gap, the worst case margin is 9.61 dB, which means that it is 0.39 dB lower than the required 10 dB for qualification by analysis in the presence of dielectrics. </span><span class='doc-sentence ' data-score-color=''>For all other parts, the margins are higher than what is required for qualification by analysis. </span><span class='doc-sentence query-1 query-11' data-score-color='rgba(50,205,50,0.07607797404412771) rgba(50,205,50,0.45547685562645346)'>In the Design Report [AD2] it is recommended that additional design iteration is performed before manufacturing a future QM antenna. </span><span class='doc-sentence ' data-score-color=''>In connection with this work, the multipaction analyses [AD3] shall be repeated for the final geometries. </span><span class='doc-sentence query-1' data-score-color='rgba(50,205,50,0.12988454418364168)'>During this additional design iteration, it is recommended that additional SEY measurements are carried out in order to investigate the cause of the large differences between the data from the two test laboratories mentioned above.RUAG Space AB Document ID Alt. </span><span class='doc-sentence ' data-score-color=''>Document ID Date Released Issue Classification Page P-CGCA-REP-1241557-RSE 2017-11-07 1 11 The copyright in this document is vested in RUAG Space AB. </span><span class='doc-sentence query-0 query-3 query-6' data-score-color='rgba(50,205,50,0.33633440608748844) rgba(50,205,50,0.1974987757970367) rgba(50,205,50,0.06015853275045967)'>This document may only be reproduced in whole or in part, or stored in a retrieval system, or transmitted in any form, or by any means electronic, mechanical, photocopying or otherwise, either with the prior permission of RUAG Space AB or in accordance with the terms of ESA Contract No. </span><span class='doc-sentence ' data-score-color=''>4000111225/14/NL/US. </span><span class='doc-sentence ' data-score-color=''>5.5 Electrical Design The PEC array consists of 7 PEC elements with a ground-plane around the cups. </span><span class='doc-sentence query-14' data-score-color='rgba(50,205,50,0.13984866886530553)'>In the present version, each PEC is surrounded by a choke ring in order to reduce the mutual coupling effects. </span><span class='doc-sentence ' data-score-color=''>Each antenna element is excited from a low loss barline rat-race polarizing network. </span><span class='doc-sentence ' data-score-color=''>Two barline 1 to 7 split feed networks, one for each circular polarization, distribute -6 dB of the power to the center element and -9 dB to each of the surrounding 6 elements. </span><span class='doc-sentence query-4 query-9 query-12 query-14' data-score-color='rgba(50,205,50,0.6093935049554323) rgba(50,205,50,0.4723809684630845) rgba(50,205,50,0.3276254338649802) rgba(50,205,50,0.20244898648417903)'>All simulations have been made using the 3D finite element solver HFSS. </span><span class='doc-sentence ' data-score-color=''>5.5.1 PEC Element The electrical design of the single PEC is principally determined by the three patches in the antenna tower, the cup diameter and the cup depth. </span><span class='doc-sentence ' data-score-color=''>There are two patches close to the bottom of the cup and a top patch at some distance from the lower pair. </span><span class='doc-sentence ' data-score-color=''>The patch- and cup parameters are determined as a trade-off between return loss, element pattern and array performance in terms of radiation pattern and mutual coupling. </span><span class='doc-sentence ' data-score-color=''>In the present version of the antenna, each cup has an inner diameter of 80.54 mm, i.e. </span><span class='doc-sentence ' data-score-color=''>approximately 1.1 wavelengths (1.1 λ ). </span><span class='doc-sentence ' data-score-color=''>A choke ring with a depth of λ /4 and a width of λ /20 surrounds each element in order to reduce the mutual coupling. </span><span class='doc-sentence query-7' data-score-color='rgba(50,205,50,0.5794205787481961)'>In general, PEC elements have low mutual coupling and in most cases, chokes are not used. </span><span class='doc-sentence ' data-score-color=''>In the present case it is however important to reduce the coupling as much as possible since the coupling between element ports of different polarization will affect the isolation of the antenna and since this isolation. </span><span class='doc-sentence ' data-score-color=''>For a future development of a QM antenna, the trade-off between the abovementioned parameters and the need for a choke ring around each element should be revisited. </span><span class='doc-sentence ' data-score-color=''>The PEC element was tuned for three different bandwidths: 185, 200 and 250 MHz. </span><span class='doc-sentence query-11' data-score-color='rgba(50,205,50,0.46570070492971005)'>In order to test the limits of the design, it was decided to go on with the 250 MHz version for the EM design. </span><span class='doc-sentence ' data-score-color=''>The active return loss at the patch excitation points (excluding the ratrace network) for this PEC is shown below in Figure 7. </span><span class='doc-sentence ' data-score-color=''>The simulated return loss is 24 dB. </span><span class='doc-sentence ' data-score-color=''>It can be noted that the 200 and 185 MHz versions had similar return loss curves but since they were narrower, the maximum return loss in these cases were 28 and 30 dB, respectively. </span><span class='doc-sentence ' data-score-color=''>Figure 8 to Figure 10 show the element radiation patterns at the band edges and the centre frequency of the 250 MHz band. </span><span class='doc-sentence ' data-score-color=''>Figure 7. </span><span class='doc-sentence ' data-score-color=''>Active return loss of the 250 MHz </span></p>"
      ],
      "text/plain": [
       "<IPython.core.display.HTML object>"
      ]
     },
     "metadata": {},
     "output_type": "display_data"
    }
   ],
   "source": [
    "output = output_storage['output']\n",
    "ordered_docs = output_storage['ordered_docs']\n",
    "n_con = output_storage['n_contexts']\n",
    "\n",
    "extracts = ordered_docs[:n_con]\n",
    "# Example usage\n",
    "from IPython.display import display, HTML\n",
    "queries = [output]\n",
    "num_top_returned = 5\n",
    "contexts = [doc['text'] for doc in extracts]\n",
    "results = rag_visualisation.find_snippet(contexts, queries, num_top_returned)\n",
    "html_content = rag_visualisation.generate_interactive_html(extracts, results)\n",
    "display(HTML(html_content))"
   ]
  }
 ],
 "metadata": {
  "kernelspec": {
   "display_name": "papermage",
   "language": "python",
   "name": "python3"
  },
  "language_info": {
   "codemirror_mode": {
    "name": "ipython",
    "version": 3
   },
   "file_extension": ".py",
   "mimetype": "text/x-python",
   "name": "python",
   "nbconvert_exporter": "python",
   "pygments_lexer": "ipython3",
   "version": "3.11.9"
  }
 },
 "nbformat": 4,
 "nbformat_minor": 2
}
