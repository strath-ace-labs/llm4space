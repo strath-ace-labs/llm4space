{
 "cells": [
  {
   "cell_type": "markdown",
   "metadata": {},
   "source": [
    "## Document Question Answering Notebook"
   ]
  },
  {
   "cell_type": "markdown",
   "metadata": {},
   "source": [
    "## Setup: \n",
    "\n",
    "- Make sure you have installed the required packages (see requirements.txt)\n",
    "- Make sure you have preprocessed the documents (see README.md)\n",
    "- You also need a working internet connection to download the AI language models \n",
    "- You should have at least 8GB of RAM installed on your machine (Also a GPU is preferred for faster response generation)\n",
    "\n",
    "## How to run: \n",
    "- Run Setup notebook cells for downloading the models and loading the preprocessed documents\n",
    "- If you run the notebook for the first time, it will take a while to download the models so grab a cup of coffee :)\n",
    "- The code will automatically decide which model to download based on if a GPU is available or not ( change the device parameter in the \"load_inference_model\" function to set manually )\n",
    "- Either choose a predefined example query from the dropdown or enter your own query\n",
    "- The current standard settings are to extract the 3 top snippets from the documents collection to base the model answer on it\n",
    "\n",
    "## Visualisation:\n",
    "- Visualise the output of the model and compare it with the extracted snippets from the documents\n",
    "- The visualisation is currently highlighting the 5 top sentences that influenced the answer generation\n",
    "\n"
   ]
  },
  {
   "cell_type": "markdown",
   "metadata": {},
   "source": [
    "### Setup: "
   ]
  },
  {
   "cell_type": "code",
   "execution_count": 3,
   "metadata": {},
   "outputs": [
    {
     "name": "stdout",
     "output_type": "stream",
     "text": [
      "The autoreload extension is already loaded. To reload it, use:\n",
      "  %reload_ext autoreload\n"
     ]
    }
   ],
   "source": [
    "## automatic reload when imported files change\n",
    "%load_ext autoreload\n",
    "%autoreload 2\n",
    "\n",
    "import sys \n",
    "sys.path.append('../')\n",
    "import rag.rag_retrieval_utils as rag_utils\n",
    "import rag.rag_visualisation as rag_visualisation\n",
    "import rag.rag_llm_classes as rag_llm_classes\n",
    "import pandas as pd \n",
    "from sentence_transformers import SentenceTransformer\n",
    "import json \n"
   ]
  },
  {
   "cell_type": "code",
   "execution_count": 5,
   "metadata": {},
   "outputs": [
    {
     "name": "stderr",
     "output_type": "stream",
     "text": [
      "/home/paul/miniconda3/envs/papermage/lib/python3.11/site-packages/huggingface_hub/file_download.py:1132: FutureWarning: `resume_download` is deprecated and will be removed in version 1.0.0. Downloads always resume when possible. If you want to force a new download, use `force_download=True`.\n",
      "  warnings.warn(\n",
      "Special tokens have been added in the vocabulary, make sure the associated word embeddings are fine-tuned or trained.\n",
      "llama_model_loader: loaded meta data with 22 key-value pairs and 291 tensors from ../cpu_models/Meta-Llama-3-8B-Instruct.Q5_K_M.gguf (version GGUF V3 (latest))\n",
      "llama_model_loader: Dumping metadata keys/values. Note: KV overrides do not apply in this output.\n",
      "llama_model_loader: - kv   0:                       general.architecture str              = llama\n",
      "llama_model_loader: - kv   1:                               general.name str              = models\n",
      "llama_model_loader: - kv   2:                          llama.block_count u32              = 32\n",
      "llama_model_loader: - kv   3:                       llama.context_length u32              = 8192\n",
      "llama_model_loader: - kv   4:                     llama.embedding_length u32              = 4096\n",
      "llama_model_loader: - kv   5:                  llama.feed_forward_length u32              = 14336\n",
      "llama_model_loader: - kv   6:                 llama.attention.head_count u32              = 32\n",
      "llama_model_loader: - kv   7:              llama.attention.head_count_kv u32              = 8\n",
      "llama_model_loader: - kv   8:                       llama.rope.freq_base f32              = 500000.000000\n",
      "llama_model_loader: - kv   9:     llama.attention.layer_norm_rms_epsilon f32              = 0.000010\n",
      "llama_model_loader: - kv  10:                          general.file_type u32              = 17\n",
      "llama_model_loader: - kv  11:                           llama.vocab_size u32              = 128256\n",
      "llama_model_loader: - kv  12:                 llama.rope.dimension_count u32              = 128\n",
      "llama_model_loader: - kv  13:                       tokenizer.ggml.model str              = gpt2\n",
      "llama_model_loader: - kv  14:                         tokenizer.ggml.pre str              = llama-bpe\n",
      "llama_model_loader: - kv  15:                      tokenizer.ggml.tokens arr[str,128256]  = [\"!\", \"\\\"\", \"#\", \"$\", \"%\", \"&\", \"'\", ...\n",
      "llama_model_loader: - kv  16:                  tokenizer.ggml.token_type arr[i32,128256]  = [1, 1, 1, 1, 1, 1, 1, 1, 1, 1, 1, 1, ...\n",
      "llama_model_loader: - kv  17:                      tokenizer.ggml.merges arr[str,280147]  = [\"Ġ Ġ\", \"Ġ ĠĠĠ\", \"ĠĠ ĠĠ\", \"...\n",
      "llama_model_loader: - kv  18:                tokenizer.ggml.bos_token_id u32              = 128000\n",
      "llama_model_loader: - kv  19:                tokenizer.ggml.eos_token_id u32              = 128001\n",
      "llama_model_loader: - kv  20:                    tokenizer.chat_template str              = {% set loop_messages = messages %}{% ...\n",
      "llama_model_loader: - kv  21:               general.quantization_version u32              = 2\n",
      "llama_model_loader: - type  f32:   65 tensors\n",
      "llama_model_loader: - type q5_K:  193 tensors\n",
      "llama_model_loader: - type q6_K:   33 tensors\n",
      "llm_load_vocab: special tokens cache size = 256\n",
      "llm_load_vocab: token to piece cache size = 0.8000 MB\n",
      "llm_load_print_meta: format           = GGUF V3 (latest)\n",
      "llm_load_print_meta: arch             = llama\n",
      "llm_load_print_meta: vocab type       = BPE\n",
      "llm_load_print_meta: n_vocab          = 128256\n",
      "llm_load_print_meta: n_merges         = 280147\n",
      "llm_load_print_meta: n_ctx_train      = 8192\n",
      "llm_load_print_meta: n_embd           = 4096\n",
      "llm_load_print_meta: n_head           = 32\n",
      "llm_load_print_meta: n_head_kv        = 8\n",
      "llm_load_print_meta: n_layer          = 32\n",
      "llm_load_print_meta: n_rot            = 128\n",
      "llm_load_print_meta: n_embd_head_k    = 128\n",
      "llm_load_print_meta: n_embd_head_v    = 128\n",
      "llm_load_print_meta: n_gqa            = 4\n",
      "llm_load_print_meta: n_embd_k_gqa     = 1024\n",
      "llm_load_print_meta: n_embd_v_gqa     = 1024\n",
      "llm_load_print_meta: f_norm_eps       = 0.0e+00\n",
      "llm_load_print_meta: f_norm_rms_eps   = 1.0e-05\n",
      "llm_load_print_meta: f_clamp_kqv      = 0.0e+00\n",
      "llm_load_print_meta: f_max_alibi_bias = 0.0e+00\n",
      "llm_load_print_meta: f_logit_scale    = 0.0e+00\n",
      "llm_load_print_meta: n_ff             = 14336\n",
      "llm_load_print_meta: n_expert         = 0\n",
      "llm_load_print_meta: n_expert_used    = 0\n",
      "llm_load_print_meta: causal attn      = 1\n",
      "llm_load_print_meta: pooling type     = 0\n",
      "llm_load_print_meta: rope type        = 0\n",
      "llm_load_print_meta: rope scaling     = linear\n",
      "llm_load_print_meta: freq_base_train  = 500000.0\n",
      "llm_load_print_meta: freq_scale_train = 1\n",
      "llm_load_print_meta: n_yarn_orig_ctx  = 8192\n",
      "llm_load_print_meta: rope_finetuned   = unknown\n",
      "llm_load_print_meta: ssm_d_conv       = 0\n",
      "llm_load_print_meta: ssm_d_inner      = 0\n",
      "llm_load_print_meta: ssm_d_state      = 0\n",
      "llm_load_print_meta: ssm_dt_rank      = 0\n",
      "llm_load_print_meta: model type       = 8B\n",
      "llm_load_print_meta: model ftype      = Q5_K - Medium\n",
      "llm_load_print_meta: model params     = 8.03 B\n",
      "llm_load_print_meta: model size       = 5.33 GiB (5.70 BPW) \n",
      "llm_load_print_meta: general.name     = models\n",
      "llm_load_print_meta: BOS token        = 128000 '<|begin_of_text|>'\n",
      "llm_load_print_meta: EOS token        = 128001 '<|end_of_text|>'\n",
      "llm_load_print_meta: LF token         = 128 'Ä'\n",
      "llm_load_print_meta: EOT token        = 128009 '<|eot_id|>'\n",
      "llm_load_tensors: ggml ctx size =    0.15 MiB\n",
      "llm_load_tensors:        CPU buffer size =  5459.93 MiB\n",
      ".........................................................................................\n",
      "llama_new_context_with_model: n_ctx      = 4096\n",
      "llama_new_context_with_model: n_batch    = 512\n",
      "llama_new_context_with_model: n_ubatch   = 512\n",
      "llama_new_context_with_model: flash_attn = 0\n",
      "llama_new_context_with_model: freq_base  = 500000.0\n",
      "llama_new_context_with_model: freq_scale = 1\n",
      "llama_kv_cache_init:        CPU KV buffer size =   512.00 MiB\n",
      "llama_new_context_with_model: KV self size  =  512.00 MiB, K (f16):  256.00 MiB, V (f16):  256.00 MiB\n",
      "llama_new_context_with_model:        CPU  output buffer size =     0.49 MiB\n",
      "llama_new_context_with_model:        CPU compute buffer size =   296.01 MiB\n",
      "llama_new_context_with_model: graph nodes  = 1030\n",
      "llama_new_context_with_model: graph splits = 1\n",
      "AVX = 1 | AVX_VNNI = 0 | AVX2 = 1 | AVX512 = 1 | AVX512_VBMI = 1 | AVX512_VNNI = 1 | AVX512_BF16 = 1 | FMA = 1 | NEON = 0 | SVE = 0 | ARM_FMA = 0 | F16C = 1 | FP16_VA = 0 | WASM_SIMD = 0 | BLAS = 0 | SSE3 = 1 | SSSE3 = 1 | VSX = 0 | MATMUL_INT8 = 0 | LLAMAFILE = 1 | \n",
      "Model metadata: {'tokenizer.chat_template': \"{% set loop_messages = messages %}{% for message in loop_messages %}{% set content = '<|start_header_id|>' + message['role'] + '<|end_header_id|>\\n\\n'+ message['content'] | trim + '<|eot_id|>' %}{% if loop.index0 == 0 %}{% set content = bos_token + content %}{% endif %}{{ content }}{% endfor %}{% if add_generation_prompt %}{{ '<|start_header_id|>assistant<|end_header_id|>\\n\\n' }}{% endif %}\", 'tokenizer.ggml.eos_token_id': '128001', 'general.quantization_version': '2', 'tokenizer.ggml.model': 'gpt2', 'general.architecture': 'llama', 'llama.rope.freq_base': '500000.000000', 'tokenizer.ggml.pre': 'llama-bpe', 'llama.context_length': '8192', 'general.name': 'models', 'llama.embedding_length': '4096', 'llama.feed_forward_length': '14336', 'llama.attention.layer_norm_rms_epsilon': '0.000010', 'tokenizer.ggml.bos_token_id': '128000', 'llama.attention.head_count': '32', 'llama.block_count': '32', 'llama.attention.head_count_kv': '8', 'general.file_type': '17', 'llama.vocab_size': '128256', 'llama.rope.dimension_count': '128'}\n",
      "Available chat formats from metadata: chat_template.default\n",
      "Guessed chat format: llama-3\n",
      "Special tokens have been added in the vocabulary, make sure the associated word embeddings are fine-tuned or trained.\n"
     ]
    },
    {
     "name": "stdout",
     "output_type": "stream",
     "text": [
      "../datasets/chunked_documents/esa_documents/chunking_cks_1024_ovl_8\n"
     ]
    }
   ],
   "source": [
    "## Load embedding model \n",
    "model_emb = SentenceTransformer('BAAI/bge-large-zh-v1.5')\n",
    "\n",
    "## Load LLM model\n",
    "## either device == 'cpu' or 'cuda' (for GPU) or None for self-selection\n",
    "## specify specific model with link to huggingface repository:\n",
    "## e.g., model_name='QuantFactory/Meta-Llama-3.1-8B-Instruct-GGUF', file name=\"Meta-Llama-3.1-8B-Instruct.Q5_K_M.gguf\" for cpu model\n",
    "## OR only model_name = Nexusflow/Starling-LM-7B-beta for GPU models \n",
    "## check for new models https://arena.lmsys.org/\n",
    "## otherwise, loads standard model which is llama-3\n",
    "## Note: Might need to adjust tokenizer_dict in rag_llm_classes.load_cpu_model\n",
    "## Note some models needs a license agreement before using\n",
    "llm = rag_llm_classes.load_inference_model(device='cpu')\n",
    "\n",
    "## Load document chunks \n",
    "input_path = \"../datasets/chunked_documents/esa_documents/chunking_cks_1024_ovl_8.json\"\n",
    "docs = rag_utils.load_data(input_path) \n",
    "\n",
    "## drop duplicates according to the text column\n",
    "data = pd.DataFrame(docs)\n",
    "data.drop_duplicates(subset=['text'], inplace=True)\n",
    "docs = data.to_json(orient='records')\n",
    "docs = json.loads(docs)\n",
    "\n",
    "input_path = \"../datasets/example_questions/esa_test_queries.json\"\n",
    "with open(input_path, 'r') as json_file:\n",
    "    example_queries = json.load(json_file)\n",
    "    example_queries = [data['question'] for data in example_queries[:9]]"
   ]
  },
  {
   "cell_type": "markdown",
   "metadata": {},
   "source": [
    "### Question Answering"
   ]
  },
  {
   "cell_type": "code",
   "execution_count": 6,
   "metadata": {},
   "outputs": [
    {
     "data": {
      "application/vnd.jupyter.widget-view+json": {
       "model_id": "37c99ef70f08439a9518a14187be2c43",
       "version_major": 2,
       "version_minor": 0
      },
      "text/plain": [
       "Dropdown(description='Example Queries:', options=(\"How did the L-band hybrid HPA's integration into the L40 pa…"
      ]
     },
     "metadata": {},
     "output_type": "display_data"
    },
    {
     "data": {
      "application/vnd.jupyter.widget-view+json": {
       "model_id": "3c4fe24e30ce40699696ae711c509e06",
       "version_major": 2,
       "version_minor": 0
      },
      "text/plain": [
       "Text(value='', description='Query:', placeholder='Type your own query here')"
      ]
     },
     "metadata": {},
     "output_type": "display_data"
    },
    {
     "data": {
      "application/vnd.jupyter.widget-view+json": {
       "model_id": "60612b2da1f04442bbff054dbdafba70",
       "version_major": 2,
       "version_minor": 0
      },
      "text/plain": [
       "Button(description='Submit', style=ButtonStyle())"
      ]
     },
     "metadata": {},
     "output_type": "display_data"
    },
    {
     "data": {
      "application/vnd.jupyter.widget-view+json": {
       "model_id": "d213f9c80c6b4e7290a988b7794472dd",
       "version_major": 2,
       "version_minor": 0
      },
      "text/plain": [
       "Label(value='')"
      ]
     },
     "metadata": {},
     "output_type": "display_data"
    },
    {
     "name": "stdout",
     "output_type": "stream",
     "text": [
      "You selected: \"How did the L-band hybrid HPA's integration into the L40 package affect the material of the output combiner's second part, and what was the chosen material for the output combiner in this case?\"\n",
      "___________________________________\n",
      "WAIT: Running answer generation...\n"
     ]
    },
    {
     "name": "stderr",
     "output_type": "stream",
     "text": [
      "\n",
      "llama_print_timings:        load time =    7576.98 ms\n",
      "llama_print_timings:      sample time =      16.09 ms /    47 runs   (    0.34 ms per token,  2920.52 tokens per second)\n",
      "llama_print_timings: prompt eval time =   52531.41 ms /  3144 tokens (   16.71 ms per token,    59.85 tokens per second)\n",
      "llama_print_timings:        eval time =    8401.92 ms /    46 runs   (  182.65 ms per token,     5.47 tokens per second)\n",
      "llama_print_timings:       total time =   61581.55 ms /  3190 tokens\n"
     ]
    },
    {
     "name": "stdout",
     "output_type": "stream",
     "text": [
      "Done..\n",
      "___________________________________\n",
      "ANSWER:   According to the text, as a result of downsizing the output combiner using OxTi material to enable its integration into the L40 package, the second part of the output combiner had to be replaced with OxTi material.\n",
      "___________________________________\n"
     ]
    }
   ],
   "source": [
    "import ipywidgets as widgets\n",
    "from IPython.display import display\n",
    "\n",
    "# Create a dropdown widget\n",
    "dropdown = widgets.Dropdown(\n",
    "    options=example_queries,\n",
    "    value=example_queries[0],\n",
    "    description='Example Queries:',\n",
    ")\n",
    "\n",
    "# Create a text input widget\n",
    "text_input = widgets.Text(\n",
    "    value='',\n",
    "    placeholder='Type your own query here',\n",
    "    description='Query:',\n",
    ")\n",
    "\n",
    "# Create a button widget\n",
    "submit_button = widgets.Button(\n",
    "    description='Submit',\n",
    ")\n",
    "\n",
    "# Create a dictionary to store the output\n",
    "output_storage = {'output': None, 'ordered_docs': None}\n",
    "\n",
    "# Create a label widget to show the status\n",
    "status_label = widgets.Label(value='')\n",
    "\n",
    "# Display the dropdown, text input, button, and status label widgets\n",
    "display(dropdown)\n",
    "display(text_input)\n",
    "display(submit_button)\n",
    "display(status_label)\n",
    "\n",
    "# Function to handle query submission\n",
    "def on_submit(button):\n",
    "    query = text_input.value.strip()\n",
    "    if not query:  # If text input is empty, use the dropdown value\n",
    "        query = dropdown.value.strip()\n",
    "    \n",
    "    try:\n",
    "        # Update status label to indicate processing\n",
    "        status_label.value = 'Processing...'\n",
    "\n",
    "        print(f'You selected: \"{query}\"')\n",
    "        results, ordered_docs = rag_utils.semantic_search(query, docs, model_emb, top_k=5, verbose=False)\n",
    "        n_con = 3\n",
    "        contexts = [doc['text'] for doc in ordered_docs[:n_con]]\n",
    "        print(\"___________________________________\")\n",
    "        print(\"WAIT: Running answer generation...\")\n",
    "        output = llm.act(query, contexts)\n",
    "        print(\"Done..\")\n",
    "        \n",
    "        # Store the output in the dictionary for further analysis\n",
    "        output_storage['query'] = query\n",
    "        output_storage['output'] = output\n",
    "        output_storage['ordered_docs'] = ordered_docs\n",
    "        output_storage['n_contexts'] = n_con\n",
    "        # Update status label to indicate completion\n",
    "        status_label.value = 'Done.'\n",
    "        print(\"___________________________________\")\n",
    "        print(\"ANSWER: \", output)\n",
    "        print(\"___________________________________\")\n",
    "\n",
    "    except Exception as e:\n",
    "        # Handle any exceptions and update the status label\n",
    "        status_label.value = 'Error occurred.'\n",
    "        print(f\"An error occurred: {e}\")\n",
    "    \n",
    "    # Reset the text input widget after submission\n",
    "    text_input.value = ''\n",
    "\n",
    "# Attach the function to the button click event\n",
    "submit_button.on_click(on_submit)"
   ]
  },
  {
   "cell_type": "markdown",
   "metadata": {},
   "source": [
    "### Visualisation"
   ]
  },
  {
   "cell_type": "code",
   "execution_count": 5,
   "metadata": {},
   "outputs": [
    {
     "data": {
      "text/html": [
       "\n",
       "    <style>\n",
       "        .query-sentence:hover { background-color: blue; cursor: pointer; }\n",
       "        .highlighted { background-color: green; }\n",
       "    </style>\n",
       "    <script>\n",
       "        function highlightSentences(queryIndex) {\n",
       "            var sentences = document.querySelectorAll('.doc-sentence');\n",
       "            sentences.forEach(function(sentence) {\n",
       "                sentence.style.backgroundColor = ''; // Reset background\n",
       "            });\n",
       "            var relevantSentences = document.querySelectorAll('.doc-sentence.query-' + queryIndex);\n",
       "            relevantSentences.forEach(function(sentence) {\n",
       "                sentence.style.backgroundColor = sentence.getAttribute('data-score-color');\n",
       "            });\n",
       "        }\n",
       "    </script>\n",
       "    <h3>Answer:</h3><ul><li class='query-sentence' onmouseover='highlightSentences(0)'> According to the provided text, the Spacer Plates redesign in the Reflector Hold Down Release Mechanism (HRM) improved the stiffness of the system.</li><li class='query-sentence' onmouseover='highlightSentences(1)'>The redesign involved increasing the number of fasteners from three to six and optimizing their spacing to provide the stiffest load path between the HRM and the hold down point brackets.</li><li class='query-sentence' onmouseover='highlightSentences(2)'>This change was made to improve the mechanical performance of the system.</li><li class='query-sentence' onmouseover='highlightSentences(3)'>The incorporation of the Third Hold Down Point also contributed to the improved stiffness and load path within the E3000 system.</li><li class='query-sentence' onmouseover='highlightSentences(4)'>The Third Hold Down Point is a new design that interfaces with the SM structure at the Antenna Deployment Assembly (ADA) mounting panels.</li><li class='query-sentence' onmouseover='highlightSentences(5)'>This design provides additional support and stability to the reflector, which helps to maintain its shape and position during deployment.</li><li class='query-sentence' onmouseover='highlightSentences(6)'>Overall, the Spacer Plates redesign and the incorporation of the Third Hold Down Point improved the stiffness and load path within the E3000 system, enhancing its mechanical performance and reliability.<|eot_id|></li></ul><h3>Documents:</h3><p><br> Document Title: E3000 Mechanical Platform Enhancements</br><span class='doc-sentence ' data-score-color=''> mechanical, photocopying or otherwise, either with the prior permission of Airbus Defence and Space ltd or in accordance with the terms of ESTEC Contract no 20300/06/NL/US. </span><span class='doc-sentence query-0 query-1 query-3 query-4 query-6' data-score-color='rgba(50,205,50,1.0) rgba(50,205,50,0.4627112884030322) rgba(50,205,50,0.8581829639137545) rgba(50,205,50,0.38793418439944943) rgba(50,205,50,1.0)'>a) The ‘Spacer Plates’ used for mounting the ‘Reflector Hold Down Release Mechanism (HRM)’ to the Hold Down Point brackets have been re-designed for improved stiffness. </span><span class='doc-sentence query-0 query-1 query-3 query-6' data-score-color='rgba(50,205,50,0.31139644768896585) rgba(50,205,50,0.5541616217035005) rgba(50,205,50,0.33859526727659395) rgba(50,205,50,0.5929104668230379)'>Installation of these spacer plates onto the hold down point brackets is now via six MJ5 bolts compared to the original three. </span><span class='doc-sentence query-0 query-1 query-3 query-4 query-6' data-score-color='rgba(50,205,50,0.28397903733155305) rgba(50,205,50,1.0) rgba(50,205,50,1.0) rgba(50,205,50,0.29736296707605486) rgba(50,205,50,0.7834857057080042)'>The spacing of these fasteners has been optimised, within the physical constraints of the existing hold down point brackets, to provide the stiffest load path between the ‘Reflector Hold Down Release Mechanisms’ and the hold down point brackets. </span><span class='doc-sentence query-1 query-3 query-4 query-6' data-score-color='rgba(50,205,50,0.24397356122259445) rgba(50,205,50,0.7533906712922556) rgba(50,205,50,0.6903251337549339) rgba(50,205,50,0.5902708217712399)'>b) The ‘Third Hold Down Point’ is of a completely new design. </span><span class='doc-sentence query-4 query-5' data-score-color='rgba(50,205,50,1.0) rgba(50,205,50,0.7990260869565218)'>The outer and inner Deployable Reflector Assemblies interface with the SM structure at the Antenna Deployment Assembly (ADA) mounting panels. </span><span class='doc-sentence query-0' data-score-color='rgba(50,205,50,0.3144939071219104)'>Figure 22: E3000 Hold Down Release Mechanims The pre-existing design which uses the ADTM Mk1 mechanism. </span><span class='doc-sentence query-5' data-score-color='rgba(50,205,50,0.6244939131906616)'>The design study has shown that the biaxial mechanism designs described below offer significantly greater benefits, particularly for dual deployment systems. </span><span class='doc-sentence query-5' data-score-color='rgba(50,205,50,0.691753192761487)'>It is therefore not proposed to develop this design further although it may still be selected for use when a single deployment is required. </span><span class='doc-sentence ' data-score-color=''>The last 9 spacecraft ordered from Airbus DS all use either the ADPM or ADTM Mk2.Document ref. </span><span class='doc-sentence ' data-score-color=''>: EUR3.RP.ADSS.1000205843 Page 36 of 38 The copyright in this document is vested in Airbus Defence and Space ltd. </span><span class='doc-sentence ' data-score-color=''>This document may only be reproduced in whole or in part, or stored in a retrieval system, or transmitted in any form, or by any means electronic, mechanical, photocopying or otherwise, either with the prior permission of Airbus Defence and Space ltd or in accordance with the terms of ESTEC Contract no 20300/06/NL/US. </span><span class='doc-sentence query-0' data-score-color='rgba(50,205,50,0.1598728298862207)'>Figure 23: ADTM MkII and accommodation mechanism In order to provide a thermal enclosure to the reflector hinge-line area, all E2000+ and E3000 satellites have employed a Concertina Blanket arrangement. </span><span class='doc-sentence query-5' data-score-color='rgba(50,205,50,1.0)'>This is a pleated MLI blanket which is compressed when the reflector is stowed but them expands during deployment. </span><span class='doc-sentence ' data-score-color=''>A typical Concertina Blanket is shown in Figure 24. </span><span class='doc-sentence ' data-score-color=''>A critical requirement of this blanket is to generate minimum resistive torque during deployment, which can occur with the outer blanket layer at a wide range of temperatures (e.g. </span><span class='doc-sentence ' data-score-color=''>+ 100 to - 170 degC). </span><span class='doc-sentence ' data-score-color=''>This requirement leads to the use of a dedicated blanket manufacturing rig to validate performance of each flight article. </span><span class='doc-sentence ' data-score-color=''>The rig replicates the antenna torque box, as well as the S/C ADTM interfaces. </span><span class='doc-sentence ' data-score-color=''>See Figures 23. </span><span class='doc-sentence ' data-score-color=''>To qualify the first Concertina Blanket, and the first dual deployment Concertina Blankets it has also been a requirement to build a deployment rig to measure the torque resistance induced by the Concertina Blanket. </span><span class='doc-sentence ' data-score-color=''>This involves comparing the resistance across a wide temperature range in a thermal chamber. </span><span class='doc-sentence ' data-score-color=''>The Concertina Blanket is first templated using Mylar. </span><span class='doc-sentence ' data-score-color=''>This is cut from flat sheets and then assembled using tape. </span><span class='doc-sentence ' data-score-color=''>Once the design has been proven the pieces of mylar are separated and then scanned to create.dxf files. </span><span class='doc-sentence ' data-score-color=''>These files are programmed into the cutting machine, which cuts the MLI blankets. </span><span class='doc-sentence ' data-score-color=''>The pieces are stitched together to produce the Concertina blanket. </span><span class='doc-sentence ' data-score-color=''>Figure 24: Dual Deployment Concertina Blanket InstallationDocument ref. </span><span class='doc-sentence ' data-score-color=''>: EUR3.RP.ADSS.1000205843 Page 37 of 38 The copyright in this document is vested in Airbus Defence and Space ltd. </span><span class='doc-sentence ' data-score-color=''>This document may only be reproduced in whole or in part, or stored in a retrieval system, or transmitted in any form, or by any means electronic, mechanical, photocopying or otherwise, either with the prior permission of Airbus Defence and Space ltd or in accordance with the terms of ESTEC Contract no 20300/06/NL/US. </span><span class='doc-sentence query-4' data-score-color='rgba(50,205,50,0.3246643254449185)'>Validation This programme includes is conceptual and detailed design of improved payload interfaces, both to repeater and antenna equipments. </span><span class='doc-sentence ' data-score-color=''>Considering each development activity in turn, the success of this programme was verified through by the following means:  More adaptable CM architecture. </span><span class='doc-sentence ' data-score-color=''>Verification was via design and mechanical analysis using FEM techniques. </span><span class='doc-sentence ' data-score-color=''>It shall be reported through the issue of formal Strength Summary and Qualification by Similarity documentation. </span><span class='doc-sentence ' data-score-color=''>Delta qualification for flight was be performed during satellite level protoflight testing on the first flight application. </span><span class='doc-sentence ' data-score-color=''> Detailed Design of a new 3 HDP interface. </span><span class='doc-sentence ' data-score-color=''>Verification was via design and mechanical analysis. </span><span class='doc-sentence ' data-score-color=''>Any required delta qualification for flight would be performed during satellite level protoflight testing on the first flight application, not funded by this programme. </span><span class='doc-sentence ' data-score-color=''> Industrialisation of the antenna hinge-line concepts. </span><span class='doc-sentence ' data-score-color=''>Verification was via design and mechanical analysis. </span><span class='doc-sentence ' data-score-color=''>Any required delta qualification for flight would be performed during satellite level protoflight testing on the first flight application, not funded by this programme. </span><span class='doc-sentence ' data-score-color=''> Development of a new Concertina Blanket concept (if required). </span><span class='doc-sentence ' data-score-color=''>Verification was via </span></p><p><br> Document Title: Electro-Photonic Frequency Converter Final Report</br><span class='doc-sentence ' data-score-color=''> expected and saturation power is determined. </span><span class='doc-sentence ' data-score-color=''>SOA with output power of 40 mW was developed during this project. </span><span class='doc-sentence ' data-score-color=''>A high gain pre- amplifier was successfully integrated in the localized EPFC system. </span><span class='doc-sentence ' data-score-color=''>Highly efficient modulation at low frequencies was achieved but due to manufacturing issues the electrode caused poor high frequency performance. </span><span class='doc-sentence ' data-score-color=''>How to proceed The developed III-V- on-silicon mode- locked laser devices show performance that is beyond state- of-the-art. </span><span class='doc-sentence ' data-score-color=''>Further development towards manufacturing using transfer printing is adviced. </span><span class='doc-sentence ' data-score-color=''>The saturation power of the Ge-on-Si PD can be further extended by using a traveling-wave array of Ge-on-Si photodiodes as developed by imec/UGent. </span><span class='doc-sentence ' data-score-color=''>Amplifiers can be further optimized for power output and efficiency if needed. </span><span class='doc-sentence ' data-score-color=''>Layer stack should be optimized for mode- locked operation together with high power amplification. </span><span class='doc-sentence ' data-score-color=''>Further research can be dedicated to further optimize the layer stack. </span><span class='doc-sentence ' data-score-color=''>Further fabrication and design optimization are taking place at imec/UGent. </span><span class='doc-sentence ' data-score-color=''>Alternatives such as full InP are possible. </span><span class='doc-sentence ' data-score-color=''>Recent work by NTT shows extremely high efficiency up to frequencies beyond 60 GHz. </span><span class='doc-sentence ' data-score-color=''>Furthermore novel PZT on silicon / SiN modulators can be used for further integration.Electro-Photonic Frequency Converter │ Final Report │ EPFC-AS-REP-0093 Issue 01.00 The copyright in this document is vested in Antwerp Space. </span><span class='doc-sentence ' data-score-color=''>This document may only be reproduced in whole or in part, or stored in a retrieval system, or transmitted in any form, or by any means electronic, mechanical, photocopying or otherwise, either with the prior permission of Antwerp Space or in accordance with the terms of ESTEC Contract no 4000105733. </span><span class='doc-sentence ' data-score-color=''>Page 80 of 85 6.7 Mass production Mass production requires comprehensive evaluation of a few different aspects such as market, foundry capability, packaging strategy, cost estimation and qualification planning. </span><span class='doc-sentence ' data-score-color=''>Most of these aspects are somehow related to each other and must be treated simultaneously. </span><span class='doc-sentence ' data-score-color=''>Developing a fundamentally new product is appealing at one hand but is also risky on the other hand. </span><span class='doc-sentence ' data-score-color=''>This type of product will be used either in incremental evolution of the existing telecom payloads in combination with complementary electronics or in fundamentally new, fully photonic, high throughput payloads. </span><span class='doc-sentence query-1' data-score-color='rgba(50,205,50,0.10479887429381776)'>Looking at recent years’ trends on the telecom payloads, reveals an interesting fact of exponential growth in term of performance and also number of satellites to be engaged. </span><span class='doc-sentence ' data-score-color=''>Our estimation based on the market analysis shows that by 2028 there is an addressable market of around 1000 EPFC unit per year. </span><span class='doc-sentence ' data-score-color=''>This is of course a coarse estimation because the constellation market and systems using other frequencies outside Ka-band are not included in this evaluation. </span><span class='doc-sentence ' data-score-color=''>Inter-satellite optical links are getting lots of attention recently for high throughput, cost effective, small SATCOM satellites. </span><span class='doc-sentence ' data-score-color=''>Of course the value of the optical frequency conversion unit will be much more tangible when it is implemented in partially/fully optical payload for inter-satellite communication. </span><span class='doc-sentence ' data-score-color=''>Envisioned roadmap from ESA and other Space sectors clearly anticipate advent of optical payload in different applications from sensing to long distance, high bit rate communication. </span><span class='doc-sentence ' data-score-color=''>Other consideration is the foundry capability for device production. </span><span class='doc-sentence ' data-score-color=''>European photonic foundries are well established and providing multi project wafer (MPW) runs a few times per year. </span><span class='doc-sentence ' data-score-color=''>The driving force is indeed optical Tele/Datacom. </span><span class='doc-sentence ' data-score-color=''>It is a great opportunity for Space sectors to take advantage of this current situation and steer efforts towards integrated photonics for space. </span><span class='doc-sentence ' data-score-color=''>Cost is the main issue for the production phase and should be evaluated with great care. </span><span class='doc-sentence ' data-score-color=''>The cost of procurement once the industrial process is established was estimated to be manageable and comparable with electronic competitors as is for the optical Datacom market. </span><span class='doc-sentence ' data-score-color=''>When the design and fabrication processes are optimized and the yield is acceptable, the remaining cost distribution would be the qualification and manpower. </span><span class='doc-sentence ' data-score-color=''>Of course the packaging of the whole frequency conversion unit should be considered for the mass production. </span><span class='doc-sentence ' data-score-color=''>There are some companies who provide first of all R&D services for the developing phase of the product and also automated cost effective packaging services for the mass production phase. </span><span class='doc-sentence ' data-score-color=''>Since some qualification tests are also provided by these companies, the lead time of the suitable packaging and the cost can be considerably reduced.Electro-Photonic Frequency Converter │ Final Report │ EPFC-AS-REP-0093 Issue 01.00 The copyright in this document is vested in Antwerp Space. </span><span class='doc-sentence ' data-score-color=''>This document may only be reproduced in whole or in part, or stored in a retrieval system, or transmitted in any form, or by any means electronic, mechanical, photocopying or otherwise, either with the prior permission of Antwerp Space or in accordance with the terms of ESTEC Contract no 4000105733. </span><span class='doc-sentence ' data-score-color=''>Page 81 of 85 7 Conclusion In summary, a comprehensive overview of the work that has been done during this project and the main conclusions with respect to the fulfilment the Technical Specifications are presented in this document. </span><span class='doc-sentence ' data-score-color=''>A full set of recommendations, suggestions and detailed technical challenges are provided in order to introduce the issues faced and how to solve them. </span><span class='doc-sentence ' data-score-color=''>In order to identify the next steps towards development and qualification </span></p><p><br> Document Title: E3000 Mechanical Platform Enhancements</br><span class='doc-sentence ' data-score-color=''> on E3000 have been qualified either with use of a dedicated QM or by using proto-flight equipment where appropriate. </span><span class='doc-sentence ' data-score-color=''>Component QM (Yes/No) Pressurant Tank Yes Pyrotechnic Valves NO Yes Pyrotechnic Valves NC Yes Pressure Regulator Yes – PFM Non Return Valves Yes Propellant Tanks Yes Propellant Filters Yes – PFM Pressure Transducers Yes – PFM High Flow Latch Valves Yes Low Flow Latch Valves Yes Fill & Drain Valves Yes – PFM 10N Thrusters Yes Liquid Apogee Engine Yes Table 3 : E3000 Propulsion Equipment Qualification Models The original Eurostar pipework layout was validated with the use of a development model to conduct a series of fluid flow and hot fire testing programmes. </span><span class='doc-sentence query-2' data-score-color='rgba(50,205,50,0.995881023569846)'>The aim of this testing was to verify the functional performance of the system under all prescribed circumstances at correct pressures and flow rates in order to prove and enhance performance in flight and to confirm the validity of the mathematical model which is still in use for propulsion system performance analysis. </span><span class='doc-sentence ' data-score-color=''>A series of designDocument ref. </span><span class='doc-sentence ' data-score-color=''>: EUR3.RP.ADSS.1000205843 Page 13 of 38 The copyright in this document is vested in Airbus Defence and Space ltd. </span><span class='doc-sentence ' data-score-color=''>This document may only be reproduced in whole or in part, or stored in a retrieval system, or transmitted in any form, or by any means electronic, mechanical, photocopying or otherwise, either with the prior permission of Airbus Defence and Space ltd or in accordance with the terms of ESTEC Contract no 20300/06/NL/US. </span><span class='doc-sentence ' data-score-color=''>guidelines were subsequently developed for propulsion system layouts in order to ensure that the system operates as predicted in a consistent and reliable manner and also that the assumptions in the mathematical modelling are valid. </span><span class='doc-sentence ' data-score-color=''>The new layout has been designed taking into account the Propulsion Department design guidelines wherever possible. </span><span class='doc-sentence ' data-score-color=''>However, in order to fit the MkIII CPS within the limited envelope available it proved necessary to incorporate some fittings into the LAE lines which include 90° bends. </span><span class='doc-sentence ' data-score-color=''>The use of these bends and any possible impact on the LAE performance analysis has been validated with a series of water flow tests on the Propulsion Department flow bench facility. </span><span class='doc-sentence ' data-score-color=''>In addition a small number of new fittings have been introduced to the LAE flow lines and the pressure drop characteristics of these fittings have been determined for use in CPS analysis and added to the heritage database. </span><span class='doc-sentence query-2' data-score-color='rgba(50,205,50,1.0)'>The inclusion of NRVs in the E3000 CPS from a different supplier to those originally tested on the Eurostar DM along with the change of pressurant system layout necessitated ground testing of the E3000 pressurant subsystem on an E3000 pressurant system DM. </span><span class='doc-sentence ' data-score-color=''>In summary, the development testing of the E3000 pressurant subsystem was successful in proving that the new components and pipework layout meets all its essential flight performance requirements, and that there was no adverse interactions affecting the regulator and the delivered pressurant supply. </span><span class='doc-sentence query-2 query-3 query-6' data-score-color='rgba(50,205,50,0.7313066602630607) rgba(50,205,50,0.40054558380564464) rgba(50,205,50,0.40684623844657697)'>The E3000 pressurant subsystem performed predictably and within specification and gave evidence that flight system performance can be confidently predicted from ground test results. </span><span class='doc-sentence query-2' data-score-color='rgba(50,205,50,0.966693604514852)'>This has been validated in-orbit with the excellent performance of the E3000 pressurant system during LEOP on 32 spacecraft. </span><span class='doc-sentence query-2' data-score-color='rgba(50,205,50,0.8468930870136777)'>Developed Product – featuring main benefits CPS MkIII have been defined in order to improve the mechanical platform design (safety improvement, design optimisation) and especially to simplify the industrialisation methods in order to optimise manufacturing activities. </span><span class='doc-sentence ' data-score-color=''>The core quadrants of CPS MkIII are installed on the top face of the SM floor panel via mounting trays. </span><span class='doc-sentence ' data-score-color=''>All of the equipment and the majority of the SM floor pipes are installed on the four trays allowing them to be assembled and equipped off-line from the structure and permitting a simpler, more efficient thermal control of the CPS. </span><span class='doc-sentence ' data-score-color=''>The remaining pipes that link the quadrants to the tanks, thrusters, LAE, fill & drain valves and test ports are mounted directly to the structure panels. </span><span class='doc-sentence query-5' data-score-color='rgba(50,205,50,0.6254876730368788)'>Each tray is machined from aluminium and has the CPS equipment and pipe support interfaces integrally machined into it. </span><span class='doc-sentence ' data-score-color=''>The trays are bolted to the SM floor but are thermally isolated from the panel by Vetronite spacers, which allow each of the core CPS quadrants to be thermally controlled using heaters bonded to the underside of the tray. </span><span class='doc-sentence ' data-score-color=''>Each tray is bolted to the SM floor with 30+ bolts, specifically located at pipe support bracket and equipment positions to ensure that the mechanical environment for the CPS is not ‘amplified’ by the dynamic behaviour of the tray.Document ref. </span><span class='doc-sentence ' data-score-color=''>: EUR3.RP.ADSS.1000205843 Page 14 of 38 The copyright in this document is vested in Airbus Defence and Space ltd. </span><span class='doc-sentence ' data-score-color=''>This document may only be reproduced in whole or in part, or stored in a retrieval system, or transmitted in any form, or by any means electronic, mechanical, photocopying or otherwise, either with the prior permission of Airbus Defence and Space ltd or in accordance with the terms of ESTEC Contract no 20300/06/NL/US. </span><span class='doc-sentence ' data-score-color=''>The overall CPS </span></p>"
      ],
      "text/plain": [
       "<IPython.core.display.HTML object>"
      ]
     },
     "metadata": {},
     "output_type": "display_data"
    }
   ],
   "source": [
    "output = output_storage['output']\n",
    "ordered_docs = output_storage['ordered_docs']\n",
    "n_con = output_storage['n_contexts']\n",
    "\n",
    "extracts = ordered_docs[:n_con]\n",
    "# Example usage\n",
    "from IPython.display import display, HTML\n",
    "queries = [output]\n",
    "num_top_returned = 5\n",
    "contexts = [doc['text'] for doc in extracts]\n",
    "results = rag_visualisation.find_snippet(contexts, queries, num_top_returned)\n",
    "html_content = rag_visualisation.generate_interactive_html(extracts, results)\n",
    "display(HTML(html_content))"
   ]
  }
 ],
 "metadata": {
  "kernelspec": {
   "display_name": "papermage",
   "language": "python",
   "name": "python3"
  },
  "language_info": {
   "codemirror_mode": {
    "name": "ipython",
    "version": 3
   },
   "file_extension": ".py",
   "mimetype": "text/x-python",
   "name": "python",
   "nbconvert_exporter": "python",
   "pygments_lexer": "ipython3",
   "version": "3.11.9"
  }
 },
 "nbformat": 4,
 "nbformat_minor": 2
}
